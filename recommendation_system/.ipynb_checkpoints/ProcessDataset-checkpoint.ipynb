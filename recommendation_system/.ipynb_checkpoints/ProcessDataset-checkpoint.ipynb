{
 "cells": [
  {
   "cell_type": "code",
   "execution_count": 1,
   "metadata": {},
   "outputs": [],
   "source": [
    "import pandas as pd"
   ]
  },
  {
   "cell_type": "markdown",
   "metadata": {},
   "source": [
    "### Convert train"
   ]
  },
  {
   "cell_type": "code",
   "execution_count": 2,
   "metadata": {},
   "outputs": [
    {
     "data": {
      "text/plain": [
       "72395"
      ]
     },
     "execution_count": 2,
     "metadata": {},
     "output_type": "execute_result"
    }
   ],
   "source": [
    "# Total records\n",
    "train_df = pd.read_csv('./train/enrollment_train.csv')\n",
    "len(train_df)"
   ]
  },
  {
   "cell_type": "code",
   "execution_count": 3,
   "metadata": {},
   "outputs": [
    {
     "data": {
      "text/html": [
       "<div>\n",
       "<style scoped>\n",
       "    .dataframe tbody tr th:only-of-type {\n",
       "        vertical-align: middle;\n",
       "    }\n",
       "\n",
       "    .dataframe tbody tr th {\n",
       "        vertical-align: top;\n",
       "    }\n",
       "\n",
       "    .dataframe thead th {\n",
       "        text-align: right;\n",
       "    }\n",
       "</style>\n",
       "<table border=\"1\" class=\"dataframe\">\n",
       "  <thead>\n",
       "    <tr style=\"text-align: right;\">\n",
       "      <th></th>\n",
       "      <th>enrollment_id</th>\n",
       "      <th>username</th>\n",
       "      <th>course_id</th>\n",
       "    </tr>\n",
       "  </thead>\n",
       "  <tbody>\n",
       "    <tr>\n",
       "      <th>0</th>\n",
       "      <td>1</td>\n",
       "      <td>9Uee7oEuuMmgPx2IzPfFkWgkHZyPbWr0</td>\n",
       "      <td>DPnLzkJJqOOPRJfBxIHbQEERiYHu5ila</td>\n",
       "    </tr>\n",
       "    <tr>\n",
       "      <th>1</th>\n",
       "      <td>4</td>\n",
       "      <td>FIHlppZyoq8muPbdVxS44gfvceX9zvU7</td>\n",
       "      <td>DPnLzkJJqOOPRJfBxIHbQEERiYHu5ila</td>\n",
       "    </tr>\n",
       "    <tr>\n",
       "      <th>2</th>\n",
       "      <td>5</td>\n",
       "      <td>p1Mp7WkVfzUijX0peVQKSHbgd5pXyl4c</td>\n",
       "      <td>7GRhBDsirIGkRZBtSMEzNTyDr2JQm4xx</td>\n",
       "    </tr>\n",
       "    <tr>\n",
       "      <th>3</th>\n",
       "      <td>7</td>\n",
       "      <td>I1KwJ6EdCZnEPLfC8Q7yWpIkLOHn7h02</td>\n",
       "      <td>7GRhBDsirIGkRZBtSMEzNTyDr2JQm4xx</td>\n",
       "    </tr>\n",
       "    <tr>\n",
       "      <th>4</th>\n",
       "      <td>13</td>\n",
       "      <td>hDbSkVrFRj9Ryk3c5E1JYJQLyxm4jLRb</td>\n",
       "      <td>5X6FeZozNMgE2VRi3MJYjkkFK8SETtu2</td>\n",
       "    </tr>\n",
       "  </tbody>\n",
       "</table>\n",
       "</div>"
      ],
      "text/plain": [
       "   enrollment_id                          username  \\\n",
       "0              1  9Uee7oEuuMmgPx2IzPfFkWgkHZyPbWr0   \n",
       "1              4  FIHlppZyoq8muPbdVxS44gfvceX9zvU7   \n",
       "2              5  p1Mp7WkVfzUijX0peVQKSHbgd5pXyl4c   \n",
       "3              7  I1KwJ6EdCZnEPLfC8Q7yWpIkLOHn7h02   \n",
       "4             13  hDbSkVrFRj9Ryk3c5E1JYJQLyxm4jLRb   \n",
       "\n",
       "                          course_id  \n",
       "0  DPnLzkJJqOOPRJfBxIHbQEERiYHu5ila  \n",
       "1  DPnLzkJJqOOPRJfBxIHbQEERiYHu5ila  \n",
       "2  7GRhBDsirIGkRZBtSMEzNTyDr2JQm4xx  \n",
       "3  7GRhBDsirIGkRZBtSMEzNTyDr2JQm4xx  \n",
       "4  5X6FeZozNMgE2VRi3MJYjkkFK8SETtu2  "
      ]
     },
     "execution_count": 3,
     "metadata": {},
     "output_type": "execute_result"
    }
   ],
   "source": [
    "train_df.head()"
   ]
  },
  {
   "cell_type": "code",
   "execution_count": 4,
   "metadata": {},
   "outputs": [
    {
     "data": {
      "text/plain": [
       "['81UZtt1JJwBFYMj5u38WNKCSVA4IJSDv',\n",
       " 'DPnLzkJJqOOPRJfBxIHbQEERiYHu5ila',\n",
       " 'I7Go4XwWgpjRJM8EZGEnBpkfSmBNOlsO',\n",
       " 'H2lDW05SyKnwntZ6Fora76aPAEswcMa5',\n",
       " 'AXUJZGmZ0xaYSWazu8RQ1G5c76ECT1Kd',\n",
       " 'SpATywNh6bZuzm8s1ceuBUnMUAeoAHHw',\n",
       " 'ykoe1cCWK134BJmfbNoPEenJOIWdtQOZ',\n",
       " 'shM3Yy9vxHn2aqjSYfQXOcwGo0hWh3MI',\n",
       " '9Bd26pfDLvkPINwLnpaGcf0LrLUvY1Mz',\n",
       " 'V4tXq15GxHo2gaMpaJLZ3IGEkP949IbE',\n",
       " 'a2E7NQC7nZB7WHEhKGhKnKvUWtsLAQzh',\n",
       " 'NmbZ3BmS8V4pMg6oxXHWpqqMZCE1jvYt',\n",
       " '5Gyp41oLVo7Gg7vF4vpmggWP5MU70QO6',\n",
       " 'xMd9DzNyUCTLRPVbwWVzf4vq06oqrTT1',\n",
       " '1pvLqtotBsKv7QSOsLicJDQMHx3lui6d',\n",
       " 'A3fsA9Zfv1X2fVEQhTw51lKENdNrEqT3',\n",
       " '3cnZpv6ReApmCaZyaQwi2izDZxVRdC01',\n",
       " 'fbPkOYLVPtPgIt0MxizjfFJov3JbHyAi',\n",
       " 'Er0RFawC4sHagDmmQZcBGBrzamLQcblZ',\n",
       " '3VkHkmOtom3jM2wCu94xgzzu1d6Dn7or']"
      ]
     },
     "execution_count": 4,
     "metadata": {},
     "output_type": "execute_result"
    }
   ],
   "source": [
    "top_course = train_df.groupby('course_id').course_id.agg(['count']).reset_index().sort_values(by='count', ascending=False)\n",
    "top_course = top_course['course_id'][:20].tolist()\n",
    "top_course"
   ]
  },
  {
   "cell_type": "code",
   "execution_count": 5,
   "metadata": {
    "scrolled": true
   },
   "outputs": [
    {
     "name": "stdout",
     "output_type": "stream",
     "text": [
      "57946\n"
     ]
    },
    {
     "data": {
      "text/html": [
       "<div>\n",
       "<style scoped>\n",
       "    .dataframe tbody tr th:only-of-type {\n",
       "        vertical-align: middle;\n",
       "    }\n",
       "\n",
       "    .dataframe tbody tr th {\n",
       "        vertical-align: top;\n",
       "    }\n",
       "\n",
       "    .dataframe thead th {\n",
       "        text-align: right;\n",
       "    }\n",
       "</style>\n",
       "<table border=\"1\" class=\"dataframe\">\n",
       "  <thead>\n",
       "    <tr style=\"text-align: right;\">\n",
       "      <th></th>\n",
       "      <th>enrollment_id</th>\n",
       "      <th>username</th>\n",
       "      <th>course_id</th>\n",
       "    </tr>\n",
       "  </thead>\n",
       "  <tbody>\n",
       "    <tr>\n",
       "      <th>0</th>\n",
       "      <td>1</td>\n",
       "      <td>9Uee7oEuuMmgPx2IzPfFkWgkHZyPbWr0</td>\n",
       "      <td>DPnLzkJJqOOPRJfBxIHbQEERiYHu5ila</td>\n",
       "    </tr>\n",
       "    <tr>\n",
       "      <th>1</th>\n",
       "      <td>4</td>\n",
       "      <td>FIHlppZyoq8muPbdVxS44gfvceX9zvU7</td>\n",
       "      <td>DPnLzkJJqOOPRJfBxIHbQEERiYHu5ila</td>\n",
       "    </tr>\n",
       "    <tr>\n",
       "      <th>5</th>\n",
       "      <td>14</td>\n",
       "      <td>XOhIczT5nEeO52jMq1vN7QziDk8L2jnI</td>\n",
       "      <td>DPnLzkJJqOOPRJfBxIHbQEERiYHu5ila</td>\n",
       "    </tr>\n",
       "    <tr>\n",
       "      <th>6</th>\n",
       "      <td>18</td>\n",
       "      <td>b0Hk5D3sJulvyuC4JEm5kvAvOLAxswgQ</td>\n",
       "      <td>DPnLzkJJqOOPRJfBxIHbQEERiYHu5ila</td>\n",
       "    </tr>\n",
       "    <tr>\n",
       "      <th>7</th>\n",
       "      <td>20</td>\n",
       "      <td>BoK7CAUaCFqnLgmWLxeOHg8YkXUSeCtc</td>\n",
       "      <td>DPnLzkJJqOOPRJfBxIHbQEERiYHu5ila</td>\n",
       "    </tr>\n",
       "  </tbody>\n",
       "</table>\n",
       "</div>"
      ],
      "text/plain": [
       "   enrollment_id                          username  \\\n",
       "0              1  9Uee7oEuuMmgPx2IzPfFkWgkHZyPbWr0   \n",
       "1              4  FIHlppZyoq8muPbdVxS44gfvceX9zvU7   \n",
       "5             14  XOhIczT5nEeO52jMq1vN7QziDk8L2jnI   \n",
       "6             18  b0Hk5D3sJulvyuC4JEm5kvAvOLAxswgQ   \n",
       "7             20  BoK7CAUaCFqnLgmWLxeOHg8YkXUSeCtc   \n",
       "\n",
       "                          course_id  \n",
       "0  DPnLzkJJqOOPRJfBxIHbQEERiYHu5ila  \n",
       "1  DPnLzkJJqOOPRJfBxIHbQEERiYHu5ila  \n",
       "5  DPnLzkJJqOOPRJfBxIHbQEERiYHu5ila  \n",
       "6  DPnLzkJJqOOPRJfBxIHbQEERiYHu5ila  \n",
       "7  DPnLzkJJqOOPRJfBxIHbQEERiYHu5ila  "
      ]
     },
     "execution_count": 5,
     "metadata": {},
     "output_type": "execute_result"
    }
   ],
   "source": [
    "new_train_df = train_df[train_df['course_id'].isin(top_course)]\n",
    "print(len(new_train_df))\n",
    "new_train_df.head()"
   ]
  },
  {
   "cell_type": "code",
   "execution_count": 6,
   "metadata": {},
   "outputs": [
    {
     "data": {
      "text/html": [
       "<div>\n",
       "<style scoped>\n",
       "    .dataframe tbody tr th:only-of-type {\n",
       "        vertical-align: middle;\n",
       "    }\n",
       "\n",
       "    .dataframe tbody tr th {\n",
       "        vertical-align: top;\n",
       "    }\n",
       "\n",
       "    .dataframe thead th {\n",
       "        text-align: right;\n",
       "    }\n",
       "</style>\n",
       "<table border=\"1\" class=\"dataframe\">\n",
       "  <thead>\n",
       "    <tr style=\"text-align: right;\">\n",
       "      <th></th>\n",
       "      <th>enrollment_id</th>\n",
       "      <th>username</th>\n",
       "      <th>course_id</th>\n",
       "    </tr>\n",
       "  </thead>\n",
       "  <tbody>\n",
       "  </tbody>\n",
       "</table>\n",
       "</div>"
      ],
      "text/plain": [
       "Empty DataFrame\n",
       "Columns: [enrollment_id, username, course_id]\n",
       "Index: []"
      ]
     },
     "execution_count": 6,
     "metadata": {},
     "output_type": "execute_result"
    }
   ],
   "source": [
    "new_train_df[new_train_df['course_id']=='TAYxxh39I2LZnftBpL0LfF2NxzrCKpkx']"
   ]
  },
  {
   "cell_type": "code",
   "execution_count": 7,
   "metadata": {},
   "outputs": [
    {
     "data": {
      "text/plain": [
       "(236, array(['61ysO1Pg5Q6bsn73gkzoQt72GbhUHgNd',\n",
       "        'T6EWQ7jVP89JlHzj41KN1gEtGYevpSQM',\n",
       "        'k3YRNSEUtBfnCzCI2ffYAi1qqoCc9d8W',\n",
       "        'UaSh8dwx8gnofYbXlmpqj9uYDbpJ89pX',\n",
       "        'yZ9FndAKqVsKwZtO1B2JJJblefdbhZ02',\n",
       "        'oaoj9be4jW2Hot8wYgYrzLRvB0RU4KYy',\n",
       "        'lbgTV2YMskSv2TX4EXpaazpMVWfsftEV',\n",
       "        's6iksgptFmyh2vfiarKdJkiKnp6RLi3f',\n",
       "        'viuKt4GgrX0rYL5EpHoxJbsiC9TblSuk',\n",
       "        'HAAyQYNYY3ULmqhNC56bxv5FSwyMVoqP'], dtype=object))"
      ]
     },
     "execution_count": 7,
     "metadata": {},
     "output_type": "execute_result"
    }
   ],
   "source": [
    "# Total username had enrolled more than 2 times\n",
    "greater5_username = new_train_df.groupby(['username']).filter(lambda x: len(x) >= 5)\n",
    "unique_greater5_username = greater5_username.username.unique()\n",
    "len(unique_greater5_username), unique_greater5_username[:10]"
   ]
  },
  {
   "cell_type": "code",
   "execution_count": 8,
   "metadata": {},
   "outputs": [
    {
     "data": {
      "text/plain": [
       "1313"
      ]
     },
     "execution_count": 8,
     "metadata": {},
     "output_type": "execute_result"
    }
   ],
   "source": [
    "new_train_df = new_train_df[new_train_df['username'].isin(unique_greater5_username)]\n",
    "len(new_train_df)"
   ]
  },
  {
   "cell_type": "code",
   "execution_count": 9,
   "metadata": {},
   "outputs": [
    {
     "data": {
      "text/html": [
       "<div>\n",
       "<style scoped>\n",
       "    .dataframe tbody tr th:only-of-type {\n",
       "        vertical-align: middle;\n",
       "    }\n",
       "\n",
       "    .dataframe tbody tr th {\n",
       "        vertical-align: top;\n",
       "    }\n",
       "\n",
       "    .dataframe thead th {\n",
       "        text-align: right;\n",
       "    }\n",
       "</style>\n",
       "<table border=\"1\" class=\"dataframe\">\n",
       "  <thead>\n",
       "    <tr style=\"text-align: right;\">\n",
       "      <th></th>\n",
       "      <th>enrollment_id</th>\n",
       "      <th>username</th>\n",
       "      <th>course_id</th>\n",
       "    </tr>\n",
       "  </thead>\n",
       "  <tbody>\n",
       "    <tr>\n",
       "      <th>389</th>\n",
       "      <td>1124</td>\n",
       "      <td>61ysO1Pg5Q6bsn73gkzoQt72GbhUHgNd</td>\n",
       "      <td>AXUJZGmZ0xaYSWazu8RQ1G5c76ECT1Kd</td>\n",
       "    </tr>\n",
       "    <tr>\n",
       "      <th>437</th>\n",
       "      <td>1248</td>\n",
       "      <td>T6EWQ7jVP89JlHzj41KN1gEtGYevpSQM</td>\n",
       "      <td>DPnLzkJJqOOPRJfBxIHbQEERiYHu5ila</td>\n",
       "    </tr>\n",
       "    <tr>\n",
       "      <th>563</th>\n",
       "      <td>1585</td>\n",
       "      <td>k3YRNSEUtBfnCzCI2ffYAi1qqoCc9d8W</td>\n",
       "      <td>DPnLzkJJqOOPRJfBxIHbQEERiYHu5ila</td>\n",
       "    </tr>\n",
       "    <tr>\n",
       "      <th>619</th>\n",
       "      <td>1736</td>\n",
       "      <td>UaSh8dwx8gnofYbXlmpqj9uYDbpJ89pX</td>\n",
       "      <td>DPnLzkJJqOOPRJfBxIHbQEERiYHu5ila</td>\n",
       "    </tr>\n",
       "    <tr>\n",
       "      <th>628</th>\n",
       "      <td>1758</td>\n",
       "      <td>yZ9FndAKqVsKwZtO1B2JJJblefdbhZ02</td>\n",
       "      <td>AXUJZGmZ0xaYSWazu8RQ1G5c76ECT1Kd</td>\n",
       "    </tr>\n",
       "  </tbody>\n",
       "</table>\n",
       "</div>"
      ],
      "text/plain": [
       "     enrollment_id                          username  \\\n",
       "389           1124  61ysO1Pg5Q6bsn73gkzoQt72GbhUHgNd   \n",
       "437           1248  T6EWQ7jVP89JlHzj41KN1gEtGYevpSQM   \n",
       "563           1585  k3YRNSEUtBfnCzCI2ffYAi1qqoCc9d8W   \n",
       "619           1736  UaSh8dwx8gnofYbXlmpqj9uYDbpJ89pX   \n",
       "628           1758  yZ9FndAKqVsKwZtO1B2JJJblefdbhZ02   \n",
       "\n",
       "                            course_id  \n",
       "389  AXUJZGmZ0xaYSWazu8RQ1G5c76ECT1Kd  \n",
       "437  DPnLzkJJqOOPRJfBxIHbQEERiYHu5ila  \n",
       "563  DPnLzkJJqOOPRJfBxIHbQEERiYHu5ila  \n",
       "619  DPnLzkJJqOOPRJfBxIHbQEERiYHu5ila  \n",
       "628  AXUJZGmZ0xaYSWazu8RQ1G5c76ECT1Kd  "
      ]
     },
     "execution_count": 9,
     "metadata": {},
     "output_type": "execute_result"
    }
   ],
   "source": [
    "new_train_df.head()"
   ]
  },
  {
   "cell_type": "code",
   "execution_count": 10,
   "metadata": {},
   "outputs": [
    {
     "data": {
      "text/plain": [
       "(20, 236)"
      ]
     },
     "execution_count": 10,
     "metadata": {},
     "output_type": "execute_result"
    }
   ],
   "source": [
    "len(top_course), len(unique_greater5_username)"
   ]
  },
  {
   "cell_type": "markdown",
   "metadata": {},
   "source": [
    "### New dataset"
   ]
  },
  {
   "cell_type": "code",
   "execution_count": 11,
   "metadata": {},
   "outputs": [
    {
     "data": {
      "text/plain": [
       "(236, array(['61ysO1Pg5Q6bsn73gkzoQt72GbhUHgNd',\n",
       "        'T6EWQ7jVP89JlHzj41KN1gEtGYevpSQM',\n",
       "        'k3YRNSEUtBfnCzCI2ffYAi1qqoCc9d8W',\n",
       "        'UaSh8dwx8gnofYbXlmpqj9uYDbpJ89pX',\n",
       "        'yZ9FndAKqVsKwZtO1B2JJJblefdbhZ02',\n",
       "        'oaoj9be4jW2Hot8wYgYrzLRvB0RU4KYy',\n",
       "        'lbgTV2YMskSv2TX4EXpaazpMVWfsftEV',\n",
       "        's6iksgptFmyh2vfiarKdJkiKnp6RLi3f',\n",
       "        'viuKt4GgrX0rYL5EpHoxJbsiC9TblSuk',\n",
       "        'HAAyQYNYY3ULmqhNC56bxv5FSwyMVoqP'], dtype=object), [0,\n",
       "  1,\n",
       "  2,\n",
       "  3,\n",
       "  4,\n",
       "  5,\n",
       "  6,\n",
       "  7,\n",
       "  8,\n",
       "  9])"
      ]
     },
     "execution_count": 11,
     "metadata": {},
     "output_type": "execute_result"
    }
   ],
   "source": [
    "username = new_train_df.username.unique()\n",
    "new_username = list([i for i in range(len(username))])\n",
    "\n",
    "dict_username = dict(zip(username, new_username))\n",
    "len(username), username[:10], new_username[:10]"
   ]
  },
  {
   "cell_type": "code",
   "execution_count": 12,
   "metadata": {},
   "outputs": [
    {
     "data": {
      "text/plain": [
       "(20,\n",
       " ['81UZtt1JJwBFYMj5u38WNKCSVA4IJSDv',\n",
       "  'DPnLzkJJqOOPRJfBxIHbQEERiYHu5ila',\n",
       "  'I7Go4XwWgpjRJM8EZGEnBpkfSmBNOlsO',\n",
       "  'H2lDW05SyKnwntZ6Fora76aPAEswcMa5',\n",
       "  'AXUJZGmZ0xaYSWazu8RQ1G5c76ECT1Kd',\n",
       "  'SpATywNh6bZuzm8s1ceuBUnMUAeoAHHw',\n",
       "  'ykoe1cCWK134BJmfbNoPEenJOIWdtQOZ',\n",
       "  'shM3Yy9vxHn2aqjSYfQXOcwGo0hWh3MI',\n",
       "  '9Bd26pfDLvkPINwLnpaGcf0LrLUvY1Mz',\n",
       "  'V4tXq15GxHo2gaMpaJLZ3IGEkP949IbE'],\n",
       " [0, 1, 2, 3, 4, 5, 6, 7, 8, 9])"
      ]
     },
     "execution_count": 12,
     "metadata": {},
     "output_type": "execute_result"
    }
   ],
   "source": [
    "course_id = top_course\n",
    "new_course_id = list([i for i in range(len(course_id))])\n",
    "\n",
    "dict_course_id = dict(zip(course_id, new_course_id))\n",
    "len(course_id), course_id[:10], new_course_id[:10]"
   ]
  },
  {
   "cell_type": "code",
   "execution_count": 13,
   "metadata": {},
   "outputs": [
    {
     "data": {
      "text/plain": [
       "389    0\n",
       "437    1\n",
       "563    2\n",
       "619    3\n",
       "628    4\n",
       "665    5\n",
       "679    6\n",
       "680    7\n",
       "710    8\n",
       "718    8\n",
       "Name: user, dtype: int64"
      ]
     },
     "execution_count": 13,
     "metadata": {},
     "output_type": "execute_result"
    }
   ],
   "source": [
    "new_train_df['user'] = new_train_df['username'].apply(lambda u: dict_username[u])\n",
    "new_train_df['user'][:10]"
   ]
  },
  {
   "cell_type": "code",
   "execution_count": 15,
   "metadata": {},
   "outputs": [
    {
     "data": {
      "text/plain": [
       "389     4\n",
       "437     1\n",
       "563     1\n",
       "619     1\n",
       "628     4\n",
       "665    17\n",
       "679    17\n",
       "680    17\n",
       "710    12\n",
       "718    18\n",
       "Name: course, dtype: int64"
      ]
     },
     "execution_count": 15,
     "metadata": {},
     "output_type": "execute_result"
    }
   ],
   "source": [
    "new_train_df['course'] = new_train_df['course_id'].apply(lambda c: dict_course_id[c])\n",
    "new_train_df['course'][:10]"
   ]
  },
  {
   "cell_type": "code",
   "execution_count": 19,
   "metadata": {},
   "outputs": [
    {
     "data": {
      "text/html": [
       "<div>\n",
       "<style scoped>\n",
       "    .dataframe tbody tr th:only-of-type {\n",
       "        vertical-align: middle;\n",
       "    }\n",
       "\n",
       "    .dataframe tbody tr th {\n",
       "        vertical-align: top;\n",
       "    }\n",
       "\n",
       "    .dataframe thead th {\n",
       "        text-align: right;\n",
       "    }\n",
       "</style>\n",
       "<table border=\"1\" class=\"dataframe\">\n",
       "  <thead>\n",
       "    <tr style=\"text-align: right;\">\n",
       "      <th></th>\n",
       "      <th>enrollment_id</th>\n",
       "      <th>username</th>\n",
       "      <th>course_id</th>\n",
       "      <th>user</th>\n",
       "      <th>course</th>\n",
       "    </tr>\n",
       "  </thead>\n",
       "  <tbody>\n",
       "    <tr>\n",
       "      <th>389</th>\n",
       "      <td>1124</td>\n",
       "      <td>61ysO1Pg5Q6bsn73gkzoQt72GbhUHgNd</td>\n",
       "      <td>AXUJZGmZ0xaYSWazu8RQ1G5c76ECT1Kd</td>\n",
       "      <td>0</td>\n",
       "      <td>4</td>\n",
       "    </tr>\n",
       "    <tr>\n",
       "      <th>437</th>\n",
       "      <td>1248</td>\n",
       "      <td>T6EWQ7jVP89JlHzj41KN1gEtGYevpSQM</td>\n",
       "      <td>DPnLzkJJqOOPRJfBxIHbQEERiYHu5ila</td>\n",
       "      <td>1</td>\n",
       "      <td>1</td>\n",
       "    </tr>\n",
       "    <tr>\n",
       "      <th>563</th>\n",
       "      <td>1585</td>\n",
       "      <td>k3YRNSEUtBfnCzCI2ffYAi1qqoCc9d8W</td>\n",
       "      <td>DPnLzkJJqOOPRJfBxIHbQEERiYHu5ila</td>\n",
       "      <td>2</td>\n",
       "      <td>1</td>\n",
       "    </tr>\n",
       "    <tr>\n",
       "      <th>619</th>\n",
       "      <td>1736</td>\n",
       "      <td>UaSh8dwx8gnofYbXlmpqj9uYDbpJ89pX</td>\n",
       "      <td>DPnLzkJJqOOPRJfBxIHbQEERiYHu5ila</td>\n",
       "      <td>3</td>\n",
       "      <td>1</td>\n",
       "    </tr>\n",
       "    <tr>\n",
       "      <th>628</th>\n",
       "      <td>1758</td>\n",
       "      <td>yZ9FndAKqVsKwZtO1B2JJJblefdbhZ02</td>\n",
       "      <td>AXUJZGmZ0xaYSWazu8RQ1G5c76ECT1Kd</td>\n",
       "      <td>4</td>\n",
       "      <td>4</td>\n",
       "    </tr>\n",
       "    <tr>\n",
       "      <th>665</th>\n",
       "      <td>1845</td>\n",
       "      <td>oaoj9be4jW2Hot8wYgYrzLRvB0RU4KYy</td>\n",
       "      <td>fbPkOYLVPtPgIt0MxizjfFJov3JbHyAi</td>\n",
       "      <td>5</td>\n",
       "      <td>17</td>\n",
       "    </tr>\n",
       "    <tr>\n",
       "      <th>679</th>\n",
       "      <td>1888</td>\n",
       "      <td>lbgTV2YMskSv2TX4EXpaazpMVWfsftEV</td>\n",
       "      <td>fbPkOYLVPtPgIt0MxizjfFJov3JbHyAi</td>\n",
       "      <td>6</td>\n",
       "      <td>17</td>\n",
       "    </tr>\n",
       "    <tr>\n",
       "      <th>680</th>\n",
       "      <td>1891</td>\n",
       "      <td>s6iksgptFmyh2vfiarKdJkiKnp6RLi3f</td>\n",
       "      <td>fbPkOYLVPtPgIt0MxizjfFJov3JbHyAi</td>\n",
       "      <td>7</td>\n",
       "      <td>17</td>\n",
       "    </tr>\n",
       "    <tr>\n",
       "      <th>710</th>\n",
       "      <td>1967</td>\n",
       "      <td>viuKt4GgrX0rYL5EpHoxJbsiC9TblSuk</td>\n",
       "      <td>5Gyp41oLVo7Gg7vF4vpmggWP5MU70QO6</td>\n",
       "      <td>8</td>\n",
       "      <td>12</td>\n",
       "    </tr>\n",
       "    <tr>\n",
       "      <th>718</th>\n",
       "      <td>1980</td>\n",
       "      <td>viuKt4GgrX0rYL5EpHoxJbsiC9TblSuk</td>\n",
       "      <td>Er0RFawC4sHagDmmQZcBGBrzamLQcblZ</td>\n",
       "      <td>8</td>\n",
       "      <td>18</td>\n",
       "    </tr>\n",
       "  </tbody>\n",
       "</table>\n",
       "</div>"
      ],
      "text/plain": [
       "     enrollment_id                          username  \\\n",
       "389           1124  61ysO1Pg5Q6bsn73gkzoQt72GbhUHgNd   \n",
       "437           1248  T6EWQ7jVP89JlHzj41KN1gEtGYevpSQM   \n",
       "563           1585  k3YRNSEUtBfnCzCI2ffYAi1qqoCc9d8W   \n",
       "619           1736  UaSh8dwx8gnofYbXlmpqj9uYDbpJ89pX   \n",
       "628           1758  yZ9FndAKqVsKwZtO1B2JJJblefdbhZ02   \n",
       "665           1845  oaoj9be4jW2Hot8wYgYrzLRvB0RU4KYy   \n",
       "679           1888  lbgTV2YMskSv2TX4EXpaazpMVWfsftEV   \n",
       "680           1891  s6iksgptFmyh2vfiarKdJkiKnp6RLi3f   \n",
       "710           1967  viuKt4GgrX0rYL5EpHoxJbsiC9TblSuk   \n",
       "718           1980  viuKt4GgrX0rYL5EpHoxJbsiC9TblSuk   \n",
       "\n",
       "                            course_id  user  course  \n",
       "389  AXUJZGmZ0xaYSWazu8RQ1G5c76ECT1Kd     0       4  \n",
       "437  DPnLzkJJqOOPRJfBxIHbQEERiYHu5ila     1       1  \n",
       "563  DPnLzkJJqOOPRJfBxIHbQEERiYHu5ila     2       1  \n",
       "619  DPnLzkJJqOOPRJfBxIHbQEERiYHu5ila     3       1  \n",
       "628  AXUJZGmZ0xaYSWazu8RQ1G5c76ECT1Kd     4       4  \n",
       "665  fbPkOYLVPtPgIt0MxizjfFJov3JbHyAi     5      17  \n",
       "679  fbPkOYLVPtPgIt0MxizjfFJov3JbHyAi     6      17  \n",
       "680  fbPkOYLVPtPgIt0MxizjfFJov3JbHyAi     7      17  \n",
       "710  5Gyp41oLVo7Gg7vF4vpmggWP5MU70QO6     8      12  \n",
       "718  Er0RFawC4sHagDmmQZcBGBrzamLQcblZ     8      18  "
      ]
     },
     "execution_count": 19,
     "metadata": {},
     "output_type": "execute_result"
    }
   ],
   "source": [
    "new_train_df[:10]"
   ]
  },
  {
   "cell_type": "code",
   "execution_count": null,
   "metadata": {},
   "outputs": [],
   "source": []
  },
  {
   "cell_type": "code",
   "execution_count": 20,
   "metadata": {},
   "outputs": [],
   "source": [
    "new_train_df.to_csv('./train/enroll_train.csv')"
   ]
  },
  {
   "cell_type": "markdown",
   "metadata": {},
   "source": [
    "### Use new username, course to apply in test"
   ]
  },
  {
   "cell_type": "code",
   "execution_count": 21,
   "metadata": {},
   "outputs": [
    {
     "data": {
      "text/plain": [
       "24013"
      ]
     },
     "execution_count": 21,
     "metadata": {},
     "output_type": "execute_result"
    }
   ],
   "source": [
    "# Total records\n",
    "test_df = pd.read_csv('./test/enrollment_test.csv')\n",
    "len(test_df)"
   ]
  },
  {
   "cell_type": "code",
   "execution_count": 22,
   "metadata": {},
   "outputs": [
    {
     "data": {
      "text/html": [
       "<div>\n",
       "<style scoped>\n",
       "    .dataframe tbody tr th:only-of-type {\n",
       "        vertical-align: middle;\n",
       "    }\n",
       "\n",
       "    .dataframe tbody tr th {\n",
       "        vertical-align: top;\n",
       "    }\n",
       "\n",
       "    .dataframe thead th {\n",
       "        text-align: right;\n",
       "    }\n",
       "</style>\n",
       "<table border=\"1\" class=\"dataframe\">\n",
       "  <thead>\n",
       "    <tr style=\"text-align: right;\">\n",
       "      <th></th>\n",
       "      <th>enrollment_id</th>\n",
       "      <th>username</th>\n",
       "      <th>course_id</th>\n",
       "    </tr>\n",
       "  </thead>\n",
       "  <tbody>\n",
       "    <tr>\n",
       "      <th>0</th>\n",
       "      <td>30</td>\n",
       "      <td>JPkczYOxyoDZBjwZAAQHmjpSvnPQzwV0</td>\n",
       "      <td>DPnLzkJJqOOPRJfBxIHbQEERiYHu5ila</td>\n",
       "    </tr>\n",
       "    <tr>\n",
       "      <th>1</th>\n",
       "      <td>31</td>\n",
       "      <td>6mzGZyDGSLMvgMQyFwXmz47ojS1kH3j6</td>\n",
       "      <td>DPnLzkJJqOOPRJfBxIHbQEERiYHu5ila</td>\n",
       "    </tr>\n",
       "    <tr>\n",
       "      <th>2</th>\n",
       "      <td>45</td>\n",
       "      <td>5Tz6BGN7p1lkmdoopAY1Z5ufYTrUsi9E</td>\n",
       "      <td>7GRhBDsirIGkRZBtSMEzNTyDr2JQm4xx</td>\n",
       "    </tr>\n",
       "    <tr>\n",
       "      <th>3</th>\n",
       "      <td>48</td>\n",
       "      <td>1ELMItXjpijnCZU4WKxvrVri8AjkR2gf</td>\n",
       "      <td>AXUJZGmZ0xaYSWazu8RQ1G5c76ECT1Kd</td>\n",
       "    </tr>\n",
       "    <tr>\n",
       "      <th>4</th>\n",
       "      <td>50</td>\n",
       "      <td>LnNj9zDI8D38ixGOYTIjTH2iF5m36v9S</td>\n",
       "      <td>7GRhBDsirIGkRZBtSMEzNTyDr2JQm4xx</td>\n",
       "    </tr>\n",
       "  </tbody>\n",
       "</table>\n",
       "</div>"
      ],
      "text/plain": [
       "   enrollment_id                          username  \\\n",
       "0             30  JPkczYOxyoDZBjwZAAQHmjpSvnPQzwV0   \n",
       "1             31  6mzGZyDGSLMvgMQyFwXmz47ojS1kH3j6   \n",
       "2             45  5Tz6BGN7p1lkmdoopAY1Z5ufYTrUsi9E   \n",
       "3             48  1ELMItXjpijnCZU4WKxvrVri8AjkR2gf   \n",
       "4             50  LnNj9zDI8D38ixGOYTIjTH2iF5m36v9S   \n",
       "\n",
       "                          course_id  \n",
       "0  DPnLzkJJqOOPRJfBxIHbQEERiYHu5ila  \n",
       "1  DPnLzkJJqOOPRJfBxIHbQEERiYHu5ila  \n",
       "2  7GRhBDsirIGkRZBtSMEzNTyDr2JQm4xx  \n",
       "3  AXUJZGmZ0xaYSWazu8RQ1G5c76ECT1Kd  \n",
       "4  7GRhBDsirIGkRZBtSMEzNTyDr2JQm4xx  "
      ]
     },
     "execution_count": 22,
     "metadata": {},
     "output_type": "execute_result"
    }
   ],
   "source": [
    "test_df.head()"
   ]
  },
  {
   "cell_type": "code",
   "execution_count": 23,
   "metadata": {},
   "outputs": [
    {
     "data": {
      "text/plain": [
       "array(['61ysO1Pg5Q6bsn73gkzoQt72GbhUHgNd',\n",
       "       'T6EWQ7jVP89JlHzj41KN1gEtGYevpSQM',\n",
       "       'k3YRNSEUtBfnCzCI2ffYAi1qqoCc9d8W',\n",
       "       'UaSh8dwx8gnofYbXlmpqj9uYDbpJ89pX',\n",
       "       'yZ9FndAKqVsKwZtO1B2JJJblefdbhZ02',\n",
       "       'oaoj9be4jW2Hot8wYgYrzLRvB0RU4KYy',\n",
       "       'lbgTV2YMskSv2TX4EXpaazpMVWfsftEV',\n",
       "       's6iksgptFmyh2vfiarKdJkiKnp6RLi3f',\n",
       "       'viuKt4GgrX0rYL5EpHoxJbsiC9TblSuk',\n",
       "       'HAAyQYNYY3ULmqhNC56bxv5FSwyMVoqP'], dtype=object)"
      ]
     },
     "execution_count": 23,
     "metadata": {},
     "output_type": "execute_result"
    }
   ],
   "source": [
    "# user name unique in train_df \n",
    "username[:10]"
   ]
  },
  {
   "cell_type": "code",
   "execution_count": 24,
   "metadata": {},
   "outputs": [
    {
     "data": {
      "text/plain": [
       "['81UZtt1JJwBFYMj5u38WNKCSVA4IJSDv',\n",
       " 'DPnLzkJJqOOPRJfBxIHbQEERiYHu5ila',\n",
       " 'I7Go4XwWgpjRJM8EZGEnBpkfSmBNOlsO',\n",
       " 'H2lDW05SyKnwntZ6Fora76aPAEswcMa5',\n",
       " 'AXUJZGmZ0xaYSWazu8RQ1G5c76ECT1Kd',\n",
       " 'SpATywNh6bZuzm8s1ceuBUnMUAeoAHHw',\n",
       " 'ykoe1cCWK134BJmfbNoPEenJOIWdtQOZ',\n",
       " 'shM3Yy9vxHn2aqjSYfQXOcwGo0hWh3MI',\n",
       " '9Bd26pfDLvkPINwLnpaGcf0LrLUvY1Mz',\n",
       " 'V4tXq15GxHo2gaMpaJLZ3IGEkP949IbE']"
      ]
     },
     "execution_count": 24,
     "metadata": {},
     "output_type": "execute_result"
    }
   ],
   "source": [
    "# course_id unique in train_df \n",
    "course_id[:10]"
   ]
  },
  {
   "cell_type": "code",
   "execution_count": 25,
   "metadata": {},
   "outputs": [],
   "source": [
    "# Only test if username and course appear in train_df\n",
    "def inTrain(row):\n",
    "    if row['username'] in username and row['course_id'] in course_id:\n",
    "        return True\n",
    "    return False"
   ]
  },
  {
   "cell_type": "code",
   "execution_count": 26,
   "metadata": {},
   "outputs": [
    {
     "data": {
      "text/plain": [
       "184"
      ]
     },
     "execution_count": 26,
     "metadata": {},
     "output_type": "execute_result"
    }
   ],
   "source": [
    "in_train = test_df.apply(inTrain, axis=1)\n",
    "new_test_df = test_df[in_train]\n",
    "len(new_test_df)"
   ]
  },
  {
   "cell_type": "code",
   "execution_count": 27,
   "metadata": {},
   "outputs": [
    {
     "data": {
      "text/html": [
       "<div>\n",
       "<style scoped>\n",
       "    .dataframe tbody tr th:only-of-type {\n",
       "        vertical-align: middle;\n",
       "    }\n",
       "\n",
       "    .dataframe tbody tr th {\n",
       "        vertical-align: top;\n",
       "    }\n",
       "\n",
       "    .dataframe thead th {\n",
       "        text-align: right;\n",
       "    }\n",
       "</style>\n",
       "<table border=\"1\" class=\"dataframe\">\n",
       "  <thead>\n",
       "    <tr style=\"text-align: right;\">\n",
       "      <th></th>\n",
       "      <th>enrollment_id</th>\n",
       "      <th>username</th>\n",
       "      <th>course_id</th>\n",
       "    </tr>\n",
       "  </thead>\n",
       "  <tbody>\n",
       "    <tr>\n",
       "      <th>225</th>\n",
       "      <td>1974</td>\n",
       "      <td>viuKt4GgrX0rYL5EpHoxJbsiC9TblSuk</td>\n",
       "      <td>81UZtt1JJwBFYMj5u38WNKCSVA4IJSDv</td>\n",
       "    </tr>\n",
       "    <tr>\n",
       "      <th>235</th>\n",
       "      <td>2092</td>\n",
       "      <td>5IM8g7YMOYo5qH7Yu3x31T3JkVOH9iqe</td>\n",
       "      <td>81UZtt1JJwBFYMj5u38WNKCSVA4IJSDv</td>\n",
       "    </tr>\n",
       "    <tr>\n",
       "      <th>240</th>\n",
       "      <td>2129</td>\n",
       "      <td>zeUi2UnQZPPF6bRQXw2s8LZ41ZOdqRAa</td>\n",
       "      <td>81UZtt1JJwBFYMj5u38WNKCSVA4IJSDv</td>\n",
       "    </tr>\n",
       "    <tr>\n",
       "      <th>301</th>\n",
       "      <td>2559</td>\n",
       "      <td>HbDaABEakQmE8DQEoFoIphu2SH13rFRy</td>\n",
       "      <td>5Gyp41oLVo7Gg7vF4vpmggWP5MU70QO6</td>\n",
       "    </tr>\n",
       "    <tr>\n",
       "      <th>329</th>\n",
       "      <td>2843</td>\n",
       "      <td>g3902agYIRHzac78MKVZlvljLMXXNpQ7</td>\n",
       "      <td>5Gyp41oLVo7Gg7vF4vpmggWP5MU70QO6</td>\n",
       "    </tr>\n",
       "  </tbody>\n",
       "</table>\n",
       "</div>"
      ],
      "text/plain": [
       "     enrollment_id                          username  \\\n",
       "225           1974  viuKt4GgrX0rYL5EpHoxJbsiC9TblSuk   \n",
       "235           2092  5IM8g7YMOYo5qH7Yu3x31T3JkVOH9iqe   \n",
       "240           2129  zeUi2UnQZPPF6bRQXw2s8LZ41ZOdqRAa   \n",
       "301           2559  HbDaABEakQmE8DQEoFoIphu2SH13rFRy   \n",
       "329           2843  g3902agYIRHzac78MKVZlvljLMXXNpQ7   \n",
       "\n",
       "                            course_id  \n",
       "225  81UZtt1JJwBFYMj5u38WNKCSVA4IJSDv  \n",
       "235  81UZtt1JJwBFYMj5u38WNKCSVA4IJSDv  \n",
       "240  81UZtt1JJwBFYMj5u38WNKCSVA4IJSDv  \n",
       "301  5Gyp41oLVo7Gg7vF4vpmggWP5MU70QO6  \n",
       "329  5Gyp41oLVo7Gg7vF4vpmggWP5MU70QO6  "
      ]
     },
     "execution_count": 27,
     "metadata": {},
     "output_type": "execute_result"
    }
   ],
   "source": [
    "new_test_df.head()"
   ]
  },
  {
   "cell_type": "code",
   "execution_count": 28,
   "metadata": {},
   "outputs": [
    {
     "name": "stderr",
     "output_type": "stream",
     "text": [
      "/home/duyvc/.local/lib/python3.6/site-packages/ipykernel_launcher.py:1: SettingWithCopyWarning: \n",
      "A value is trying to be set on a copy of a slice from a DataFrame.\n",
      "Try using .loc[row_indexer,col_indexer] = value instead\n",
      "\n",
      "See the caveats in the documentation: http://pandas.pydata.org/pandas-docs/stable/user_guide/indexing.html#returning-a-view-versus-a-copy\n",
      "  \"\"\"Entry point for launching an IPython kernel.\n"
     ]
    },
    {
     "data": {
      "text/plain": [
       "225      8\n",
       "235     62\n",
       "240     27\n",
       "301     16\n",
       "329     70\n",
       "395     19\n",
       "474     65\n",
       "599     17\n",
       "641     40\n",
       "748    142\n",
       "Name: user, dtype: int64"
      ]
     },
     "execution_count": 28,
     "metadata": {},
     "output_type": "execute_result"
    }
   ],
   "source": [
    "new_test_df['user'] = new_test_df['username'].apply(lambda u: dict_username[u])\n",
    "new_test_df['user'][:10]"
   ]
  },
  {
   "cell_type": "code",
   "execution_count": 29,
   "metadata": {},
   "outputs": [
    {
     "name": "stderr",
     "output_type": "stream",
     "text": [
      "/home/duyvc/.local/lib/python3.6/site-packages/ipykernel_launcher.py:1: SettingWithCopyWarning: \n",
      "A value is trying to be set on a copy of a slice from a DataFrame.\n",
      "Try using .loc[row_indexer,col_indexer] = value instead\n",
      "\n",
      "See the caveats in the documentation: http://pandas.pydata.org/pandas-docs/stable/user_guide/indexing.html#returning-a-view-versus-a-copy\n",
      "  \"\"\"Entry point for launching an IPython kernel.\n"
     ]
    },
    {
     "data": {
      "text/plain": [
       "225     0\n",
       "235     0\n",
       "240     0\n",
       "301    12\n",
       "329    12\n",
       "395    18\n",
       "474    17\n",
       "599    16\n",
       "641     5\n",
       "748     4\n",
       "Name: course, dtype: int64"
      ]
     },
     "execution_count": 29,
     "metadata": {},
     "output_type": "execute_result"
    }
   ],
   "source": [
    "new_test_df['course'] = new_test_df['course_id'].apply(lambda c: dict_course_id[c])\n",
    "new_test_df['course'][:10]"
   ]
  },
  {
   "cell_type": "code",
   "execution_count": 30,
   "metadata": {
    "scrolled": true
   },
   "outputs": [
    {
     "data": {
      "text/html": [
       "<div>\n",
       "<style scoped>\n",
       "    .dataframe tbody tr th:only-of-type {\n",
       "        vertical-align: middle;\n",
       "    }\n",
       "\n",
       "    .dataframe tbody tr th {\n",
       "        vertical-align: top;\n",
       "    }\n",
       "\n",
       "    .dataframe thead th {\n",
       "        text-align: right;\n",
       "    }\n",
       "</style>\n",
       "<table border=\"1\" class=\"dataframe\">\n",
       "  <thead>\n",
       "    <tr style=\"text-align: right;\">\n",
       "      <th></th>\n",
       "      <th>enrollment_id</th>\n",
       "      <th>username</th>\n",
       "      <th>course_id</th>\n",
       "      <th>user</th>\n",
       "      <th>course</th>\n",
       "    </tr>\n",
       "  </thead>\n",
       "  <tbody>\n",
       "    <tr>\n",
       "      <th>225</th>\n",
       "      <td>1974</td>\n",
       "      <td>viuKt4GgrX0rYL5EpHoxJbsiC9TblSuk</td>\n",
       "      <td>81UZtt1JJwBFYMj5u38WNKCSVA4IJSDv</td>\n",
       "      <td>8</td>\n",
       "      <td>0</td>\n",
       "    </tr>\n",
       "    <tr>\n",
       "      <th>235</th>\n",
       "      <td>2092</td>\n",
       "      <td>5IM8g7YMOYo5qH7Yu3x31T3JkVOH9iqe</td>\n",
       "      <td>81UZtt1JJwBFYMj5u38WNKCSVA4IJSDv</td>\n",
       "      <td>62</td>\n",
       "      <td>0</td>\n",
       "    </tr>\n",
       "    <tr>\n",
       "      <th>240</th>\n",
       "      <td>2129</td>\n",
       "      <td>zeUi2UnQZPPF6bRQXw2s8LZ41ZOdqRAa</td>\n",
       "      <td>81UZtt1JJwBFYMj5u38WNKCSVA4IJSDv</td>\n",
       "      <td>27</td>\n",
       "      <td>0</td>\n",
       "    </tr>\n",
       "    <tr>\n",
       "      <th>301</th>\n",
       "      <td>2559</td>\n",
       "      <td>HbDaABEakQmE8DQEoFoIphu2SH13rFRy</td>\n",
       "      <td>5Gyp41oLVo7Gg7vF4vpmggWP5MU70QO6</td>\n",
       "      <td>16</td>\n",
       "      <td>12</td>\n",
       "    </tr>\n",
       "    <tr>\n",
       "      <th>329</th>\n",
       "      <td>2843</td>\n",
       "      <td>g3902agYIRHzac78MKVZlvljLMXXNpQ7</td>\n",
       "      <td>5Gyp41oLVo7Gg7vF4vpmggWP5MU70QO6</td>\n",
       "      <td>70</td>\n",
       "      <td>12</td>\n",
       "    </tr>\n",
       "  </tbody>\n",
       "</table>\n",
       "</div>"
      ],
      "text/plain": [
       "     enrollment_id                          username  \\\n",
       "225           1974  viuKt4GgrX0rYL5EpHoxJbsiC9TblSuk   \n",
       "235           2092  5IM8g7YMOYo5qH7Yu3x31T3JkVOH9iqe   \n",
       "240           2129  zeUi2UnQZPPF6bRQXw2s8LZ41ZOdqRAa   \n",
       "301           2559  HbDaABEakQmE8DQEoFoIphu2SH13rFRy   \n",
       "329           2843  g3902agYIRHzac78MKVZlvljLMXXNpQ7   \n",
       "\n",
       "                            course_id  user  course  \n",
       "225  81UZtt1JJwBFYMj5u38WNKCSVA4IJSDv     8       0  \n",
       "235  81UZtt1JJwBFYMj5u38WNKCSVA4IJSDv    62       0  \n",
       "240  81UZtt1JJwBFYMj5u38WNKCSVA4IJSDv    27       0  \n",
       "301  5Gyp41oLVo7Gg7vF4vpmggWP5MU70QO6    16      12  \n",
       "329  5Gyp41oLVo7Gg7vF4vpmggWP5MU70QO6    70      12  "
      ]
     },
     "execution_count": 30,
     "metadata": {},
     "output_type": "execute_result"
    }
   ],
   "source": [
    "new_test_df.head()"
   ]
  },
  {
   "cell_type": "code",
   "execution_count": 31,
   "metadata": {},
   "outputs": [],
   "source": [
    "new_test_df.to_csv('./test/enroll_test.csv')"
   ]
  }
 ],
 "metadata": {
  "kernelspec": {
   "display_name": "Python 3",
   "language": "python",
   "name": "python3"
  },
  "language_info": {
   "codemirror_mode": {
    "name": "ipython",
    "version": 3
   },
   "file_extension": ".py",
   "mimetype": "text/x-python",
   "name": "python",
   "nbconvert_exporter": "python",
   "pygments_lexer": "ipython3",
   "version": "3.6.9"
  }
 },
 "nbformat": 4,
 "nbformat_minor": 2
}
