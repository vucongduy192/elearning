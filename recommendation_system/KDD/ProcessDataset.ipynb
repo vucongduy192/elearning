{
 "cells": [
  {
   "cell_type": "code",
   "execution_count": 1,
   "metadata": {},
   "outputs": [],
   "source": [
    "import pandas as pd"
   ]
  },
  {
   "cell_type": "markdown",
   "metadata": {},
   "source": [
    "### Convert train"
   ]
  },
  {
   "cell_type": "code",
   "execution_count": 2,
   "metadata": {},
   "outputs": [
    {
     "data": {
      "text/plain": [
       "72395"
      ]
     },
     "execution_count": 2,
     "metadata": {},
     "output_type": "execute_result"
    }
   ],
   "source": [
    "# Total records\n",
    "train_df = pd.read_csv('./train/enrollment_train.csv')\n",
    "len(train_df)"
   ]
  },
  {
   "cell_type": "code",
   "execution_count": 3,
   "metadata": {},
   "outputs": [
    {
     "data": {
      "text/plain": [
       "720"
      ]
     },
     "execution_count": 3,
     "metadata": {},
     "output_type": "execute_result"
    }
   ],
   "source": [
    "# Total username had enrolled more than 2 times\n",
    "greater5_username = train_df.groupby(['username']).filter(lambda x: len(x) >= 5)\n",
    "unique_greater5_username = greater5_username.username.unique()\n",
    "len(unique_greater5_username)"
   ]
  },
  {
   "cell_type": "code",
   "execution_count": 4,
   "metadata": {},
   "outputs": [
    {
     "data": {
      "text/plain": [
       "39"
      ]
     },
     "execution_count": 4,
     "metadata": {},
     "output_type": "execute_result"
    }
   ],
   "source": [
    "# Total unique course_id\n",
    "unique_course_id = train_df.groupby(['course_id']).course_id\n",
    "len(unique_course_id)"
   ]
  },
  {
   "cell_type": "code",
   "execution_count": 5,
   "metadata": {
    "scrolled": true
   },
   "outputs": [
    {
     "name": "stdout",
     "output_type": "stream",
     "text": [
      "['9Uee7oEuuMmgPx2IzPfFkWgkHZyPbWr0', 'BoK7CAUaCFqnLgmWLxeOHg8YkXUSeCtc', '2oTvbzieHn2y5oozeOgSnruqE6N0BtR5', 'eakdJaYNzY2KmT602U8CscAjNHHpGkgl', 'tp9GLoYyljDV6mILQxrtrv1Iw4qcPl5Z', 'zVX5LPwTGC1SEitxSfv31cubNXKJSEc2', 'sD3rDh1CtXsAdfDDyFRBf917K7ELQzHQ', 'vbTgITzq6jZRj0oUV5gFotgOlwSXnjML', 'uQjl8NGtIQkRfoe9edBiMgtYYmdkzVXR', '8GKtgh5ojCBJDZIzab4pnG3eXm8mejoD']\n"
     ]
    },
    {
     "data": {
      "text/plain": [
       "720"
      ]
     },
     "execution_count": 5,
     "metadata": {},
     "output_type": "execute_result"
    }
   ],
   "source": [
    "unique_greater5_username = unique_greater5_username.tolist()\n",
    "print(unique_greater5_username[:10])\n",
    "len(unique_greater5_username)"
   ]
  },
  {
   "cell_type": "code",
   "execution_count": 6,
   "metadata": {
    "scrolled": true
   },
   "outputs": [
    {
     "data": {
      "text/html": [
       "<div>\n",
       "<style scoped>\n",
       "    .dataframe tbody tr th:only-of-type {\n",
       "        vertical-align: middle;\n",
       "    }\n",
       "\n",
       "    .dataframe tbody tr th {\n",
       "        vertical-align: top;\n",
       "    }\n",
       "\n",
       "    .dataframe thead th {\n",
       "        text-align: right;\n",
       "    }\n",
       "</style>\n",
       "<table border=\"1\" class=\"dataframe\">\n",
       "  <thead>\n",
       "    <tr style=\"text-align: right;\">\n",
       "      <th></th>\n",
       "      <th>enrollment_id</th>\n",
       "      <th>username</th>\n",
       "      <th>course_id</th>\n",
       "    </tr>\n",
       "  </thead>\n",
       "  <tbody>\n",
       "    <tr>\n",
       "      <th>61413</th>\n",
       "      <td>170410</td>\n",
       "      <td>03LSJMJGCEPYScMXgYv3wZ9A4zZCWROs</td>\n",
       "      <td>V4tXq15GxHo2gaMpaJLZ3IGEkP949IbE</td>\n",
       "    </tr>\n",
       "    <tr>\n",
       "      <th>27413</th>\n",
       "      <td>76019</td>\n",
       "      <td>03LSJMJGCEPYScMXgYv3wZ9A4zZCWROs</td>\n",
       "      <td>AXUJZGmZ0xaYSWazu8RQ1G5c76ECT1Kd</td>\n",
       "    </tr>\n",
       "    <tr>\n",
       "      <th>27412</th>\n",
       "      <td>76018</td>\n",
       "      <td>03LSJMJGCEPYScMXgYv3wZ9A4zZCWROs</td>\n",
       "      <td>DPnLzkJJqOOPRJfBxIHbQEERiYHu5ila</td>\n",
       "    </tr>\n",
       "    <tr>\n",
       "      <th>45684</th>\n",
       "      <td>126800</td>\n",
       "      <td>03LSJMJGCEPYScMXgYv3wZ9A4zZCWROs</td>\n",
       "      <td>fbPkOYLVPtPgIt0MxizjfFJov3JbHyAi</td>\n",
       "    </tr>\n",
       "    <tr>\n",
       "      <th>27410</th>\n",
       "      <td>76015</td>\n",
       "      <td>03LSJMJGCEPYScMXgYv3wZ9A4zZCWROs</td>\n",
       "      <td>SpATywNh6bZuzm8s1ceuBUnMUAeoAHHw</td>\n",
       "    </tr>\n",
       "    <tr>\n",
       "      <th>7089</th>\n",
       "      <td>20028</td>\n",
       "      <td>096xYyhB9kL7G6lT7J9rVrXyGNwUToLF</td>\n",
       "      <td>9zpXzW9zCfU8KGBWkhlsGH8B8czISH4J</td>\n",
       "    </tr>\n",
       "    <tr>\n",
       "      <th>11965</th>\n",
       "      <td>33341</td>\n",
       "      <td>096xYyhB9kL7G6lT7J9rVrXyGNwUToLF</td>\n",
       "      <td>9Mq1P5hrrLw6Bh9X4W4ZjisQJDdxjz9x</td>\n",
       "    </tr>\n",
       "    <tr>\n",
       "      <th>12046</th>\n",
       "      <td>33547</td>\n",
       "      <td>096xYyhB9kL7G6lT7J9rVrXyGNwUToLF</td>\n",
       "      <td>H2lDW05SyKnwntZ6Fora76aPAEswcMa5</td>\n",
       "    </tr>\n",
       "    <tr>\n",
       "      <th>11968</th>\n",
       "      <td>33344</td>\n",
       "      <td>096xYyhB9kL7G6lT7J9rVrXyGNwUToLF</td>\n",
       "      <td>A3fsA9Zfv1X2fVEQhTw51lKENdNrEqT3</td>\n",
       "    </tr>\n",
       "    <tr>\n",
       "      <th>11801</th>\n",
       "      <td>32875</td>\n",
       "      <td>096xYyhB9kL7G6lT7J9rVrXyGNwUToLF</td>\n",
       "      <td>RXDvfPUBYFlVdlueBFbLW0mhhAyGEqpt</td>\n",
       "    </tr>\n",
       "  </tbody>\n",
       "</table>\n",
       "</div>"
      ],
      "text/plain": [
       "       enrollment_id                          username  \\\n",
       "61413         170410  03LSJMJGCEPYScMXgYv3wZ9A4zZCWROs   \n",
       "27413          76019  03LSJMJGCEPYScMXgYv3wZ9A4zZCWROs   \n",
       "27412          76018  03LSJMJGCEPYScMXgYv3wZ9A4zZCWROs   \n",
       "45684         126800  03LSJMJGCEPYScMXgYv3wZ9A4zZCWROs   \n",
       "27410          76015  03LSJMJGCEPYScMXgYv3wZ9A4zZCWROs   \n",
       "7089           20028  096xYyhB9kL7G6lT7J9rVrXyGNwUToLF   \n",
       "11965          33341  096xYyhB9kL7G6lT7J9rVrXyGNwUToLF   \n",
       "12046          33547  096xYyhB9kL7G6lT7J9rVrXyGNwUToLF   \n",
       "11968          33344  096xYyhB9kL7G6lT7J9rVrXyGNwUToLF   \n",
       "11801          32875  096xYyhB9kL7G6lT7J9rVrXyGNwUToLF   \n",
       "\n",
       "                              course_id  \n",
       "61413  V4tXq15GxHo2gaMpaJLZ3IGEkP949IbE  \n",
       "27413  AXUJZGmZ0xaYSWazu8RQ1G5c76ECT1Kd  \n",
       "27412  DPnLzkJJqOOPRJfBxIHbQEERiYHu5ila  \n",
       "45684  fbPkOYLVPtPgIt0MxizjfFJov3JbHyAi  \n",
       "27410  SpATywNh6bZuzm8s1ceuBUnMUAeoAHHw  \n",
       "7089   9zpXzW9zCfU8KGBWkhlsGH8B8czISH4J  \n",
       "11965  9Mq1P5hrrLw6Bh9X4W4ZjisQJDdxjz9x  \n",
       "12046  H2lDW05SyKnwntZ6Fora76aPAEswcMa5  \n",
       "11968  A3fsA9Zfv1X2fVEQhTw51lKENdNrEqT3  \n",
       "11801  RXDvfPUBYFlVdlueBFbLW0mhhAyGEqpt  "
      ]
     },
     "execution_count": 6,
     "metadata": {},
     "output_type": "execute_result"
    }
   ],
   "source": [
    "new_train_df = train_df[train_df['username'].isin(unique_greater5_username)]\n",
    "new_train_df = new_train_df.sort_values(by=['username'])\n",
    "new_train_df[:10]"
   ]
  },
  {
   "cell_type": "code",
   "execution_count": 7,
   "metadata": {},
   "outputs": [
    {
     "data": {
      "text/plain": [
       "4368"
      ]
     },
     "execution_count": 7,
     "metadata": {},
     "output_type": "execute_result"
    }
   ],
   "source": [
    "# Total 14677 recors enroll from 3886 user with 39 course_id\n",
    "len(new_train_df)"
   ]
  },
  {
   "cell_type": "markdown",
   "metadata": {},
   "source": [
    "### New dataset"
   ]
  },
  {
   "cell_type": "code",
   "execution_count": 8,
   "metadata": {},
   "outputs": [
    {
     "data": {
      "text/plain": [
       "(720, array(['03LSJMJGCEPYScMXgYv3wZ9A4zZCWROs',\n",
       "        '096xYyhB9kL7G6lT7J9rVrXyGNwUToLF',\n",
       "        '0CuRIhBavvQKL5rTT1QWf2kztAfRXZug',\n",
       "        '0OpVcmwG6bVPxKzOCpgJ9F6MfBtuGolr',\n",
       "        '0Tg2flbTUdD7fODqYIfpiJiK0IDdFiOP',\n",
       "        '0UufwnomhqqyQLnmEpyIsrXn6C4McKHM',\n",
       "        '0V5MOLVbNHPDqvl0FcmJbw01XdVgQMJF',\n",
       "        '0eMlSFoZScU7zUCIgAM0BWfQh50FQz3i',\n",
       "        '0hRwE5vbowYRJTF6rcWCTgSh4yHA34bg',\n",
       "        '0mg5UfmflBvw9f6RP57AlBJRO9poj3Bs'], dtype=object), ['user0',\n",
       "  'user1',\n",
       "  'user2',\n",
       "  'user3',\n",
       "  'user4',\n",
       "  'user5',\n",
       "  'user6',\n",
       "  'user7',\n",
       "  'user8',\n",
       "  'user9'])"
      ]
     },
     "execution_count": 8,
     "metadata": {},
     "output_type": "execute_result"
    }
   ],
   "source": [
    "username = new_train_df.username.unique()\n",
    "new_username = list(['user{}'.format(i) for i in range(len(username))])\n",
    "\n",
    "dict_username = dict(zip(username, new_username))\n",
    "len(username), username[:10], new_username[:10]"
   ]
  },
  {
   "cell_type": "code",
   "execution_count": 9,
   "metadata": {},
   "outputs": [
    {
     "data": {
      "text/plain": [
       "(39, array(['V4tXq15GxHo2gaMpaJLZ3IGEkP949IbE',\n",
       "        'AXUJZGmZ0xaYSWazu8RQ1G5c76ECT1Kd',\n",
       "        'DPnLzkJJqOOPRJfBxIHbQEERiYHu5ila',\n",
       "        'fbPkOYLVPtPgIt0MxizjfFJov3JbHyAi',\n",
       "        'SpATywNh6bZuzm8s1ceuBUnMUAeoAHHw',\n",
       "        '9zpXzW9zCfU8KGBWkhlsGH8B8czISH4J',\n",
       "        '9Mq1P5hrrLw6Bh9X4W4ZjisQJDdxjz9x',\n",
       "        'H2lDW05SyKnwntZ6Fora76aPAEswcMa5',\n",
       "        'A3fsA9Zfv1X2fVEQhTw51lKENdNrEqT3',\n",
       "        'RXDvfPUBYFlVdlueBFbLW0mhhAyGEqpt'], dtype=object), ['course0',\n",
       "  'course1',\n",
       "  'course2',\n",
       "  'course3',\n",
       "  'course4',\n",
       "  'course5',\n",
       "  'course6',\n",
       "  'course7',\n",
       "  'course8',\n",
       "  'course9'])"
      ]
     },
     "execution_count": 9,
     "metadata": {},
     "output_type": "execute_result"
    }
   ],
   "source": [
    "course_id = new_train_df.course_id.unique()\n",
    "new_course_id = list(['course{}'.format(i) for i in range(len(course_id))])\n",
    "\n",
    "dict_course_id = dict(zip(course_id, new_course_id))\n",
    "len(course_id), course_id[:10], new_course_id[:10]"
   ]
  },
  {
   "cell_type": "code",
   "execution_count": 10,
   "metadata": {},
   "outputs": [
    {
     "data": {
      "text/plain": [
       "61413    user0\n",
       "27413    user0\n",
       "27412    user0\n",
       "45684    user0\n",
       "27410    user0\n",
       "7089     user1\n",
       "11965    user1\n",
       "12046    user1\n",
       "11968    user1\n",
       "11801    user1\n",
       "Name: user, dtype: object"
      ]
     },
     "execution_count": 10,
     "metadata": {},
     "output_type": "execute_result"
    }
   ],
   "source": [
    "new_train_df['user'] = new_train_df['username'].apply(lambda u: dict_username[u])\n",
    "new_train_df['user'][:10]"
   ]
  },
  {
   "cell_type": "code",
   "execution_count": 11,
   "metadata": {},
   "outputs": [
    {
     "data": {
      "text/plain": [
       "61413    course0\n",
       "27413    course1\n",
       "27412    course2\n",
       "45684    course3\n",
       "27410    course4\n",
       "7089     course5\n",
       "11965    course6\n",
       "12046    course7\n",
       "11968    course8\n",
       "11801    course9\n",
       "Name: course, dtype: object"
      ]
     },
     "execution_count": 11,
     "metadata": {},
     "output_type": "execute_result"
    }
   ],
   "source": [
    "new_train_df['course'] = new_train_df['course_id'].apply(lambda c: dict_course_id[c])\n",
    "new_train_df['course'][:10]"
   ]
  },
  {
   "cell_type": "code",
   "execution_count": 12,
   "metadata": {},
   "outputs": [
    {
     "data": {
      "text/html": [
       "<div>\n",
       "<style scoped>\n",
       "    .dataframe tbody tr th:only-of-type {\n",
       "        vertical-align: middle;\n",
       "    }\n",
       "\n",
       "    .dataframe tbody tr th {\n",
       "        vertical-align: top;\n",
       "    }\n",
       "\n",
       "    .dataframe thead th {\n",
       "        text-align: right;\n",
       "    }\n",
       "</style>\n",
       "<table border=\"1\" class=\"dataframe\">\n",
       "  <thead>\n",
       "    <tr style=\"text-align: right;\">\n",
       "      <th></th>\n",
       "      <th>enrollment_id</th>\n",
       "      <th>username</th>\n",
       "      <th>course_id</th>\n",
       "      <th>user</th>\n",
       "      <th>course</th>\n",
       "    </tr>\n",
       "  </thead>\n",
       "  <tbody>\n",
       "    <tr>\n",
       "      <th>61413</th>\n",
       "      <td>170410</td>\n",
       "      <td>03LSJMJGCEPYScMXgYv3wZ9A4zZCWROs</td>\n",
       "      <td>V4tXq15GxHo2gaMpaJLZ3IGEkP949IbE</td>\n",
       "      <td>user0</td>\n",
       "      <td>course0</td>\n",
       "    </tr>\n",
       "    <tr>\n",
       "      <th>27413</th>\n",
       "      <td>76019</td>\n",
       "      <td>03LSJMJGCEPYScMXgYv3wZ9A4zZCWROs</td>\n",
       "      <td>AXUJZGmZ0xaYSWazu8RQ1G5c76ECT1Kd</td>\n",
       "      <td>user0</td>\n",
       "      <td>course1</td>\n",
       "    </tr>\n",
       "    <tr>\n",
       "      <th>27412</th>\n",
       "      <td>76018</td>\n",
       "      <td>03LSJMJGCEPYScMXgYv3wZ9A4zZCWROs</td>\n",
       "      <td>DPnLzkJJqOOPRJfBxIHbQEERiYHu5ila</td>\n",
       "      <td>user0</td>\n",
       "      <td>course2</td>\n",
       "    </tr>\n",
       "    <tr>\n",
       "      <th>45684</th>\n",
       "      <td>126800</td>\n",
       "      <td>03LSJMJGCEPYScMXgYv3wZ9A4zZCWROs</td>\n",
       "      <td>fbPkOYLVPtPgIt0MxizjfFJov3JbHyAi</td>\n",
       "      <td>user0</td>\n",
       "      <td>course3</td>\n",
       "    </tr>\n",
       "    <tr>\n",
       "      <th>27410</th>\n",
       "      <td>76015</td>\n",
       "      <td>03LSJMJGCEPYScMXgYv3wZ9A4zZCWROs</td>\n",
       "      <td>SpATywNh6bZuzm8s1ceuBUnMUAeoAHHw</td>\n",
       "      <td>user0</td>\n",
       "      <td>course4</td>\n",
       "    </tr>\n",
       "  </tbody>\n",
       "</table>\n",
       "</div>"
      ],
      "text/plain": [
       "       enrollment_id                          username  \\\n",
       "61413         170410  03LSJMJGCEPYScMXgYv3wZ9A4zZCWROs   \n",
       "27413          76019  03LSJMJGCEPYScMXgYv3wZ9A4zZCWROs   \n",
       "27412          76018  03LSJMJGCEPYScMXgYv3wZ9A4zZCWROs   \n",
       "45684         126800  03LSJMJGCEPYScMXgYv3wZ9A4zZCWROs   \n",
       "27410          76015  03LSJMJGCEPYScMXgYv3wZ9A4zZCWROs   \n",
       "\n",
       "                              course_id   user   course  \n",
       "61413  V4tXq15GxHo2gaMpaJLZ3IGEkP949IbE  user0  course0  \n",
       "27413  AXUJZGmZ0xaYSWazu8RQ1G5c76ECT1Kd  user0  course1  \n",
       "27412  DPnLzkJJqOOPRJfBxIHbQEERiYHu5ila  user0  course2  \n",
       "45684  fbPkOYLVPtPgIt0MxizjfFJov3JbHyAi  user0  course3  \n",
       "27410  SpATywNh6bZuzm8s1ceuBUnMUAeoAHHw  user0  course4  "
      ]
     },
     "execution_count": 12,
     "metadata": {},
     "output_type": "execute_result"
    }
   ],
   "source": [
    "new_train_df.head()"
   ]
  },
  {
   "cell_type": "code",
   "execution_count": 13,
   "metadata": {},
   "outputs": [],
   "source": [
    "new_train_df.to_csv('./train/enroll_train.csv')"
   ]
  },
  {
   "cell_type": "markdown",
   "metadata": {},
   "source": [
    "### Use new username, course to apply in test"
   ]
  },
  {
   "cell_type": "code",
   "execution_count": 14,
   "metadata": {},
   "outputs": [
    {
     "data": {
      "text/plain": [
       "24013"
      ]
     },
     "execution_count": 14,
     "metadata": {},
     "output_type": "execute_result"
    }
   ],
   "source": [
    "# Total records\n",
    "test_df = pd.read_csv('./test/enrollment_test.csv')\n",
    "len(test_df)"
   ]
  },
  {
   "cell_type": "code",
   "execution_count": 15,
   "metadata": {},
   "outputs": [
    {
     "data": {
      "text/html": [
       "<div>\n",
       "<style scoped>\n",
       "    .dataframe tbody tr th:only-of-type {\n",
       "        vertical-align: middle;\n",
       "    }\n",
       "\n",
       "    .dataframe tbody tr th {\n",
       "        vertical-align: top;\n",
       "    }\n",
       "\n",
       "    .dataframe thead th {\n",
       "        text-align: right;\n",
       "    }\n",
       "</style>\n",
       "<table border=\"1\" class=\"dataframe\">\n",
       "  <thead>\n",
       "    <tr style=\"text-align: right;\">\n",
       "      <th></th>\n",
       "      <th>enrollment_id</th>\n",
       "      <th>username</th>\n",
       "      <th>course_id</th>\n",
       "    </tr>\n",
       "  </thead>\n",
       "  <tbody>\n",
       "    <tr>\n",
       "      <th>0</th>\n",
       "      <td>30</td>\n",
       "      <td>JPkczYOxyoDZBjwZAAQHmjpSvnPQzwV0</td>\n",
       "      <td>DPnLzkJJqOOPRJfBxIHbQEERiYHu5ila</td>\n",
       "    </tr>\n",
       "    <tr>\n",
       "      <th>1</th>\n",
       "      <td>31</td>\n",
       "      <td>6mzGZyDGSLMvgMQyFwXmz47ojS1kH3j6</td>\n",
       "      <td>DPnLzkJJqOOPRJfBxIHbQEERiYHu5ila</td>\n",
       "    </tr>\n",
       "    <tr>\n",
       "      <th>2</th>\n",
       "      <td>45</td>\n",
       "      <td>5Tz6BGN7p1lkmdoopAY1Z5ufYTrUsi9E</td>\n",
       "      <td>7GRhBDsirIGkRZBtSMEzNTyDr2JQm4xx</td>\n",
       "    </tr>\n",
       "    <tr>\n",
       "      <th>3</th>\n",
       "      <td>48</td>\n",
       "      <td>1ELMItXjpijnCZU4WKxvrVri8AjkR2gf</td>\n",
       "      <td>AXUJZGmZ0xaYSWazu8RQ1G5c76ECT1Kd</td>\n",
       "    </tr>\n",
       "    <tr>\n",
       "      <th>4</th>\n",
       "      <td>50</td>\n",
       "      <td>LnNj9zDI8D38ixGOYTIjTH2iF5m36v9S</td>\n",
       "      <td>7GRhBDsirIGkRZBtSMEzNTyDr2JQm4xx</td>\n",
       "    </tr>\n",
       "  </tbody>\n",
       "</table>\n",
       "</div>"
      ],
      "text/plain": [
       "   enrollment_id                          username  \\\n",
       "0             30  JPkczYOxyoDZBjwZAAQHmjpSvnPQzwV0   \n",
       "1             31  6mzGZyDGSLMvgMQyFwXmz47ojS1kH3j6   \n",
       "2             45  5Tz6BGN7p1lkmdoopAY1Z5ufYTrUsi9E   \n",
       "3             48  1ELMItXjpijnCZU4WKxvrVri8AjkR2gf   \n",
       "4             50  LnNj9zDI8D38ixGOYTIjTH2iF5m36v9S   \n",
       "\n",
       "                          course_id  \n",
       "0  DPnLzkJJqOOPRJfBxIHbQEERiYHu5ila  \n",
       "1  DPnLzkJJqOOPRJfBxIHbQEERiYHu5ila  \n",
       "2  7GRhBDsirIGkRZBtSMEzNTyDr2JQm4xx  \n",
       "3  AXUJZGmZ0xaYSWazu8RQ1G5c76ECT1Kd  \n",
       "4  7GRhBDsirIGkRZBtSMEzNTyDr2JQm4xx  "
      ]
     },
     "execution_count": 15,
     "metadata": {},
     "output_type": "execute_result"
    }
   ],
   "source": [
    "test_df.head()"
   ]
  },
  {
   "cell_type": "code",
   "execution_count": 16,
   "metadata": {},
   "outputs": [
    {
     "data": {
      "text/plain": [
       "array(['03LSJMJGCEPYScMXgYv3wZ9A4zZCWROs',\n",
       "       '096xYyhB9kL7G6lT7J9rVrXyGNwUToLF',\n",
       "       '0CuRIhBavvQKL5rTT1QWf2kztAfRXZug',\n",
       "       '0OpVcmwG6bVPxKzOCpgJ9F6MfBtuGolr',\n",
       "       '0Tg2flbTUdD7fODqYIfpiJiK0IDdFiOP',\n",
       "       '0UufwnomhqqyQLnmEpyIsrXn6C4McKHM',\n",
       "       '0V5MOLVbNHPDqvl0FcmJbw01XdVgQMJF',\n",
       "       '0eMlSFoZScU7zUCIgAM0BWfQh50FQz3i',\n",
       "       '0hRwE5vbowYRJTF6rcWCTgSh4yHA34bg',\n",
       "       '0mg5UfmflBvw9f6RP57AlBJRO9poj3Bs'], dtype=object)"
      ]
     },
     "execution_count": 16,
     "metadata": {},
     "output_type": "execute_result"
    }
   ],
   "source": [
    "# user name unique in train_df \n",
    "username[:10]"
   ]
  },
  {
   "cell_type": "code",
   "execution_count": 17,
   "metadata": {},
   "outputs": [
    {
     "data": {
      "text/plain": [
       "array(['V4tXq15GxHo2gaMpaJLZ3IGEkP949IbE',\n",
       "       'AXUJZGmZ0xaYSWazu8RQ1G5c76ECT1Kd',\n",
       "       'DPnLzkJJqOOPRJfBxIHbQEERiYHu5ila',\n",
       "       'fbPkOYLVPtPgIt0MxizjfFJov3JbHyAi',\n",
       "       'SpATywNh6bZuzm8s1ceuBUnMUAeoAHHw',\n",
       "       '9zpXzW9zCfU8KGBWkhlsGH8B8czISH4J',\n",
       "       '9Mq1P5hrrLw6Bh9X4W4ZjisQJDdxjz9x',\n",
       "       'H2lDW05SyKnwntZ6Fora76aPAEswcMa5',\n",
       "       'A3fsA9Zfv1X2fVEQhTw51lKENdNrEqT3',\n",
       "       'RXDvfPUBYFlVdlueBFbLW0mhhAyGEqpt'], dtype=object)"
      ]
     },
     "execution_count": 17,
     "metadata": {},
     "output_type": "execute_result"
    }
   ],
   "source": [
    "# course_id unique in train_df \n",
    "course_id[:10]"
   ]
  },
  {
   "cell_type": "code",
   "execution_count": 18,
   "metadata": {},
   "outputs": [],
   "source": [
    "# Only test if username and course appear in train_df\n",
    "def inTrain(row):\n",
    "    if row['username'] in username and row['course_id'] in course_id:\n",
    "        return True\n",
    "    return False"
   ]
  },
  {
   "cell_type": "code",
   "execution_count": 19,
   "metadata": {},
   "outputs": [
    {
     "data": {
      "text/plain": [
       "866"
      ]
     },
     "execution_count": 19,
     "metadata": {},
     "output_type": "execute_result"
    }
   ],
   "source": [
    "in_train = test_df.apply(inTrain, axis=1)\n",
    "new_test_df = test_df[in_train]\n",
    "len(new_test_df)"
   ]
  },
  {
   "cell_type": "code",
   "execution_count": 20,
   "metadata": {},
   "outputs": [
    {
     "data": {
      "text/html": [
       "<div>\n",
       "<style scoped>\n",
       "    .dataframe tbody tr th:only-of-type {\n",
       "        vertical-align: middle;\n",
       "    }\n",
       "\n",
       "    .dataframe tbody tr th {\n",
       "        vertical-align: top;\n",
       "    }\n",
       "\n",
       "    .dataframe thead th {\n",
       "        text-align: right;\n",
       "    }\n",
       "</style>\n",
       "<table border=\"1\" class=\"dataframe\">\n",
       "  <thead>\n",
       "    <tr style=\"text-align: right;\">\n",
       "      <th></th>\n",
       "      <th>enrollment_id</th>\n",
       "      <th>username</th>\n",
       "      <th>course_id</th>\n",
       "    </tr>\n",
       "  </thead>\n",
       "  <tbody>\n",
       "    <tr>\n",
       "      <th>25</th>\n",
       "      <td>193</td>\n",
       "      <td>tp9GLoYyljDV6mILQxrtrv1Iw4qcPl5Z</td>\n",
       "      <td>KHPw0gmg1Ad3V07TqRpyBzA8mRjj7mkt</td>\n",
       "    </tr>\n",
       "    <tr>\n",
       "      <th>38</th>\n",
       "      <td>334</td>\n",
       "      <td>uQjl8NGtIQkRfoe9edBiMgtYYmdkzVXR</td>\n",
       "      <td>DPnLzkJJqOOPRJfBxIHbQEERiYHu5ila</td>\n",
       "    </tr>\n",
       "    <tr>\n",
       "      <th>75</th>\n",
       "      <td>677</td>\n",
       "      <td>DBl87nF6WTgoCD6kgTHVE2oB45pDEn6y</td>\n",
       "      <td>DPnLzkJJqOOPRJfBxIHbQEERiYHu5ila</td>\n",
       "    </tr>\n",
       "    <tr>\n",
       "      <th>168</th>\n",
       "      <td>1424</td>\n",
       "      <td>VBP5PzVQEKJYFH0y5ffEek5WfP9EW7uc</td>\n",
       "      <td>AXUJZGmZ0xaYSWazu8RQ1G5c76ECT1Kd</td>\n",
       "    </tr>\n",
       "    <tr>\n",
       "      <th>173</th>\n",
       "      <td>1491</td>\n",
       "      <td>lCyf3TRKW0i3K1mBgKz23OONMdCWqNsI</td>\n",
       "      <td>7GRhBDsirIGkRZBtSMEzNTyDr2JQm4xx</td>\n",
       "    </tr>\n",
       "  </tbody>\n",
       "</table>\n",
       "</div>"
      ],
      "text/plain": [
       "     enrollment_id                          username  \\\n",
       "25             193  tp9GLoYyljDV6mILQxrtrv1Iw4qcPl5Z   \n",
       "38             334  uQjl8NGtIQkRfoe9edBiMgtYYmdkzVXR   \n",
       "75             677  DBl87nF6WTgoCD6kgTHVE2oB45pDEn6y   \n",
       "168           1424  VBP5PzVQEKJYFH0y5ffEek5WfP9EW7uc   \n",
       "173           1491  lCyf3TRKW0i3K1mBgKz23OONMdCWqNsI   \n",
       "\n",
       "                            course_id  \n",
       "25   KHPw0gmg1Ad3V07TqRpyBzA8mRjj7mkt  \n",
       "38   DPnLzkJJqOOPRJfBxIHbQEERiYHu5ila  \n",
       "75   DPnLzkJJqOOPRJfBxIHbQEERiYHu5ila  \n",
       "168  AXUJZGmZ0xaYSWazu8RQ1G5c76ECT1Kd  \n",
       "173  7GRhBDsirIGkRZBtSMEzNTyDr2JQm4xx  "
      ]
     },
     "execution_count": 20,
     "metadata": {},
     "output_type": "execute_result"
    }
   ],
   "source": [
    "new_test_df.head()"
   ]
  },
  {
   "cell_type": "code",
   "execution_count": 21,
   "metadata": {},
   "outputs": [
    {
     "name": "stderr",
     "output_type": "stream",
     "text": [
      "/home/duyvc/.local/lib/python3.6/site-packages/ipykernel_launcher.py:1: SettingWithCopyWarning: \n",
      "A value is trying to be set on a copy of a slice from a DataFrame.\n",
      "Try using .loc[row_indexer,col_indexer] = value instead\n",
      "\n",
      "See the caveats in the documentation: http://pandas.pydata.org/pandas-docs/stable/user_guide/indexing.html#returning-a-view-versus-a-copy\n",
      "  \"\"\"Entry point for launching an IPython kernel.\n"
     ]
    },
    {
     "data": {
      "text/plain": [
       "25     user655\n",
       "38     user660\n",
       "75     user160\n",
       "168    user388\n",
       "173    user561\n",
       "176    user168\n",
       "190    user137\n",
       "225    user672\n",
       "235     user63\n",
       "240    user718\n",
       "Name: user, dtype: object"
      ]
     },
     "execution_count": 21,
     "metadata": {},
     "output_type": "execute_result"
    }
   ],
   "source": [
    "new_test_df['user'] = new_test_df['username'].apply(lambda u: dict_username[u])\n",
    "new_test_df['user'][:10]"
   ]
  },
  {
   "cell_type": "code",
   "execution_count": 22,
   "metadata": {},
   "outputs": [
    {
     "name": "stderr",
     "output_type": "stream",
     "text": [
      "/home/duyvc/.local/lib/python3.6/site-packages/ipykernel_launcher.py:1: SettingWithCopyWarning: \n",
      "A value is trying to be set on a copy of a slice from a DataFrame.\n",
      "Try using .loc[row_indexer,col_indexer] = value instead\n",
      "\n",
      "See the caveats in the documentation: http://pandas.pydata.org/pandas-docs/stable/user_guide/indexing.html#returning-a-view-versus-a-copy\n",
      "  \"\"\"Entry point for launching an IPython kernel.\n"
     ]
    },
    {
     "data": {
      "text/plain": [
       "25     course11\n",
       "38      course2\n",
       "75      course2\n",
       "168     course1\n",
       "173    course29\n",
       "176     course1\n",
       "190    course29\n",
       "225    course22\n",
       "235    course22\n",
       "240    course22\n",
       "Name: course, dtype: object"
      ]
     },
     "execution_count": 22,
     "metadata": {},
     "output_type": "execute_result"
    }
   ],
   "source": [
    "new_test_df['course'] = new_test_df['course_id'].apply(lambda c: dict_course_id[c])\n",
    "new_test_df['course'][:10]"
   ]
  },
  {
   "cell_type": "code",
   "execution_count": 23,
   "metadata": {
    "scrolled": true
   },
   "outputs": [
    {
     "data": {
      "text/html": [
       "<div>\n",
       "<style scoped>\n",
       "    .dataframe tbody tr th:only-of-type {\n",
       "        vertical-align: middle;\n",
       "    }\n",
       "\n",
       "    .dataframe tbody tr th {\n",
       "        vertical-align: top;\n",
       "    }\n",
       "\n",
       "    .dataframe thead th {\n",
       "        text-align: right;\n",
       "    }\n",
       "</style>\n",
       "<table border=\"1\" class=\"dataframe\">\n",
       "  <thead>\n",
       "    <tr style=\"text-align: right;\">\n",
       "      <th></th>\n",
       "      <th>enrollment_id</th>\n",
       "      <th>username</th>\n",
       "      <th>course_id</th>\n",
       "      <th>user</th>\n",
       "      <th>course</th>\n",
       "    </tr>\n",
       "  </thead>\n",
       "  <tbody>\n",
       "    <tr>\n",
       "      <th>25</th>\n",
       "      <td>193</td>\n",
       "      <td>tp9GLoYyljDV6mILQxrtrv1Iw4qcPl5Z</td>\n",
       "      <td>KHPw0gmg1Ad3V07TqRpyBzA8mRjj7mkt</td>\n",
       "      <td>user655</td>\n",
       "      <td>course11</td>\n",
       "    </tr>\n",
       "    <tr>\n",
       "      <th>38</th>\n",
       "      <td>334</td>\n",
       "      <td>uQjl8NGtIQkRfoe9edBiMgtYYmdkzVXR</td>\n",
       "      <td>DPnLzkJJqOOPRJfBxIHbQEERiYHu5ila</td>\n",
       "      <td>user660</td>\n",
       "      <td>course2</td>\n",
       "    </tr>\n",
       "    <tr>\n",
       "      <th>75</th>\n",
       "      <td>677</td>\n",
       "      <td>DBl87nF6WTgoCD6kgTHVE2oB45pDEn6y</td>\n",
       "      <td>DPnLzkJJqOOPRJfBxIHbQEERiYHu5ila</td>\n",
       "      <td>user160</td>\n",
       "      <td>course2</td>\n",
       "    </tr>\n",
       "    <tr>\n",
       "      <th>168</th>\n",
       "      <td>1424</td>\n",
       "      <td>VBP5PzVQEKJYFH0y5ffEek5WfP9EW7uc</td>\n",
       "      <td>AXUJZGmZ0xaYSWazu8RQ1G5c76ECT1Kd</td>\n",
       "      <td>user388</td>\n",
       "      <td>course1</td>\n",
       "    </tr>\n",
       "    <tr>\n",
       "      <th>173</th>\n",
       "      <td>1491</td>\n",
       "      <td>lCyf3TRKW0i3K1mBgKz23OONMdCWqNsI</td>\n",
       "      <td>7GRhBDsirIGkRZBtSMEzNTyDr2JQm4xx</td>\n",
       "      <td>user561</td>\n",
       "      <td>course29</td>\n",
       "    </tr>\n",
       "  </tbody>\n",
       "</table>\n",
       "</div>"
      ],
      "text/plain": [
       "     enrollment_id                          username  \\\n",
       "25             193  tp9GLoYyljDV6mILQxrtrv1Iw4qcPl5Z   \n",
       "38             334  uQjl8NGtIQkRfoe9edBiMgtYYmdkzVXR   \n",
       "75             677  DBl87nF6WTgoCD6kgTHVE2oB45pDEn6y   \n",
       "168           1424  VBP5PzVQEKJYFH0y5ffEek5WfP9EW7uc   \n",
       "173           1491  lCyf3TRKW0i3K1mBgKz23OONMdCWqNsI   \n",
       "\n",
       "                            course_id     user    course  \n",
       "25   KHPw0gmg1Ad3V07TqRpyBzA8mRjj7mkt  user655  course11  \n",
       "38   DPnLzkJJqOOPRJfBxIHbQEERiYHu5ila  user660   course2  \n",
       "75   DPnLzkJJqOOPRJfBxIHbQEERiYHu5ila  user160   course2  \n",
       "168  AXUJZGmZ0xaYSWazu8RQ1G5c76ECT1Kd  user388   course1  \n",
       "173  7GRhBDsirIGkRZBtSMEzNTyDr2JQm4xx  user561  course29  "
      ]
     },
     "execution_count": 23,
     "metadata": {},
     "output_type": "execute_result"
    }
   ],
   "source": [
    "new_test_df.head()"
   ]
  },
  {
   "cell_type": "code",
   "execution_count": 24,
   "metadata": {},
   "outputs": [],
   "source": [
    "new_test_df.to_csv('./test/enroll_test.csv')"
   ]
  },
  {
   "cell_type": "code",
   "execution_count": null,
   "metadata": {},
   "outputs": [],
   "source": []
  }
 ],
 "metadata": {
  "kernelspec": {
   "display_name": "Python 3",
   "language": "python",
   "name": "python3"
  },
  "language_info": {
   "codemirror_mode": {
    "name": "ipython",
    "version": 3
   },
   "file_extension": ".py",
   "mimetype": "text/x-python",
   "name": "python",
   "nbconvert_exporter": "python",
   "pygments_lexer": "ipython3",
   "version": "3.6.8"
  }
 },
 "nbformat": 4,
 "nbformat_minor": 2
}
