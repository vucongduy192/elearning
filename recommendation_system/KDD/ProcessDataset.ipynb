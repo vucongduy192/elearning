{
 "cells": [
  {
   "cell_type": "code",
   "execution_count": 3,
   "metadata": {},
   "outputs": [],
   "source": [
    "import pandas as pd"
   ]
  },
  {
   "cell_type": "markdown",
   "metadata": {},
   "source": [
    "### Summary dataset"
   ]
  },
  {
   "cell_type": "code",
   "execution_count": 4,
   "metadata": {},
   "outputs": [
    {
     "data": {
      "text/plain": [
       "72395"
      ]
     },
     "execution_count": 4,
     "metadata": {},
     "output_type": "execute_result"
    }
   ],
   "source": [
    "# Total records\n",
    "df = pd.read_csv('./train/enrollment_train.csv')\n",
    "len(df)"
   ]
  },
  {
   "cell_type": "code",
   "execution_count": 9,
   "metadata": {},
   "outputs": [
    {
     "data": {
      "text/plain": [
       "3886"
      ]
     },
     "execution_count": 9,
     "metadata": {},
     "output_type": "execute_result"
    }
   ],
   "source": [
    "# Total username had enrolled more than 2 times\n",
    "greater2_username = df.groupby(['username']).filter(lambda x: len(x) > 2)\n",
    "unique_greater2_username = greater2_username.username.unique()\n",
    "len(unique_greater2_username)"
   ]
  },
  {
   "cell_type": "code",
   "execution_count": 10,
   "metadata": {},
   "outputs": [
    {
     "data": {
      "text/plain": [
       "39"
      ]
     },
     "execution_count": 10,
     "metadata": {},
     "output_type": "execute_result"
    }
   ],
   "source": [
    "# Total unique course_id\n",
    "unique_course_id = df.groupby(['course_id']).course_id\n",
    "len(unique_course_id)"
   ]
  },
  {
   "cell_type": "code",
   "execution_count": 18,
   "metadata": {
    "scrolled": true
   },
   "outputs": [
    {
     "name": "stdout",
     "output_type": "stream",
     "text": [
      "['9Uee7oEuuMmgPx2IzPfFkWgkHZyPbWr0', 'BoK7CAUaCFqnLgmWLxeOHg8YkXUSeCtc', 'dPBUV0FPFjTZZK079rPAeq0WXhW4DUkF', '2oTvbzieHn2y5oozeOgSnruqE6N0BtR5', 'l9KseRU4xYtwOzoILYmGcicF0iiXQqxl', 'eoY58NwX7OVcm2sOG1AAgydEA1V5TiLJ', 'KXi2lu4GlKmrO1lJTLg3t4l701rvNXNZ', 'jaHWKFBvrvFfPb0Pq50zaMZ2xpeRooXu', 'YE1rovPZph43LumR0tvbOJ2qHlGYgJD3', 'kMN5uYNaj23K9PVTrdyiL9iDB1lCye57']\n"
     ]
    },
    {
     "data": {
      "text/plain": [
       "3886"
      ]
     },
     "execution_count": 18,
     "metadata": {},
     "output_type": "execute_result"
    }
   ],
   "source": [
    "unique_greater2_username = unique_greater2_username.tolist()\n",
    "print(unique_greater2_username[:10])\n",
    "len(unique_greater2_username)"
   ]
  },
  {
   "cell_type": "code",
   "execution_count": 26,
   "metadata": {
    "scrolled": true
   },
   "outputs": [
    {
     "data": {
      "text/html": [
       "<div>\n",
       "<style scoped>\n",
       "    .dataframe tbody tr th:only-of-type {\n",
       "        vertical-align: middle;\n",
       "    }\n",
       "\n",
       "    .dataframe tbody tr th {\n",
       "        vertical-align: top;\n",
       "    }\n",
       "\n",
       "    .dataframe thead th {\n",
       "        text-align: right;\n",
       "    }\n",
       "</style>\n",
       "<table border=\"1\" class=\"dataframe\">\n",
       "  <thead>\n",
       "    <tr style=\"text-align: right;\">\n",
       "      <th></th>\n",
       "      <th>enrollment_id</th>\n",
       "      <th>username</th>\n",
       "      <th>course_id</th>\n",
       "    </tr>\n",
       "  </thead>\n",
       "  <tbody>\n",
       "    <tr>\n",
       "      <th>26840</th>\n",
       "      <td>74475</td>\n",
       "      <td>00SOCgKq1H6iYExhbauCeUrQFSjIMetG</td>\n",
       "      <td>TAYxxh39I2LZnftBpL0LfF2NxzrCKpkx</td>\n",
       "    </tr>\n",
       "    <tr>\n",
       "      <th>26845</th>\n",
       "      <td>74488</td>\n",
       "      <td>00SOCgKq1H6iYExhbauCeUrQFSjIMetG</td>\n",
       "      <td>DPnLzkJJqOOPRJfBxIHbQEERiYHu5ila</td>\n",
       "    </tr>\n",
       "    <tr>\n",
       "      <th>33064</th>\n",
       "      <td>91877</td>\n",
       "      <td>00SOCgKq1H6iYExhbauCeUrQFSjIMetG</td>\n",
       "      <td>81UZtt1JJwBFYMj5u38WNKCSVA4IJSDv</td>\n",
       "    </tr>\n",
       "    <tr>\n",
       "      <th>36702</th>\n",
       "      <td>101895</td>\n",
       "      <td>01X1B7l4AGo28JRuCAhcZ0vSs3Q9KIgT</td>\n",
       "      <td>81UZtt1JJwBFYMj5u38WNKCSVA4IJSDv</td>\n",
       "    </tr>\n",
       "    <tr>\n",
       "      <th>40924</th>\n",
       "      <td>113753</td>\n",
       "      <td>01X1B7l4AGo28JRuCAhcZ0vSs3Q9KIgT</td>\n",
       "      <td>I7Go4XwWgpjRJM8EZGEnBpkfSmBNOlsO</td>\n",
       "    </tr>\n",
       "    <tr>\n",
       "      <th>71693</th>\n",
       "      <td>198999</td>\n",
       "      <td>01X1B7l4AGo28JRuCAhcZ0vSs3Q9KIgT</td>\n",
       "      <td>H2lDW05SyKnwntZ6Fora76aPAEswcMa5</td>\n",
       "    </tr>\n",
       "    <tr>\n",
       "      <th>23901</th>\n",
       "      <td>66499</td>\n",
       "      <td>027Z8j2WK53Mlds7OS81RRSiEwviGlfr</td>\n",
       "      <td>shM3Yy9vxHn2aqjSYfQXOcwGo0hWh3MI</td>\n",
       "    </tr>\n",
       "    <tr>\n",
       "      <th>34010</th>\n",
       "      <td>94445</td>\n",
       "      <td>027Z8j2WK53Mlds7OS81RRSiEwviGlfr</td>\n",
       "      <td>V4tXq15GxHo2gaMpaJLZ3IGEkP949IbE</td>\n",
       "    </tr>\n",
       "    <tr>\n",
       "      <th>12595</th>\n",
       "      <td>35074</td>\n",
       "      <td>027Z8j2WK53Mlds7OS81RRSiEwviGlfr</td>\n",
       "      <td>DPnLzkJJqOOPRJfBxIHbQEERiYHu5ila</td>\n",
       "    </tr>\n",
       "    <tr>\n",
       "      <th>61413</th>\n",
       "      <td>170410</td>\n",
       "      <td>03LSJMJGCEPYScMXgYv3wZ9A4zZCWROs</td>\n",
       "      <td>V4tXq15GxHo2gaMpaJLZ3IGEkP949IbE</td>\n",
       "    </tr>\n",
       "  </tbody>\n",
       "</table>\n",
       "</div>"
      ],
      "text/plain": [
       "       enrollment_id                          username  \\\n",
       "26840          74475  00SOCgKq1H6iYExhbauCeUrQFSjIMetG   \n",
       "26845          74488  00SOCgKq1H6iYExhbauCeUrQFSjIMetG   \n",
       "33064          91877  00SOCgKq1H6iYExhbauCeUrQFSjIMetG   \n",
       "36702         101895  01X1B7l4AGo28JRuCAhcZ0vSs3Q9KIgT   \n",
       "40924         113753  01X1B7l4AGo28JRuCAhcZ0vSs3Q9KIgT   \n",
       "71693         198999  01X1B7l4AGo28JRuCAhcZ0vSs3Q9KIgT   \n",
       "23901          66499  027Z8j2WK53Mlds7OS81RRSiEwviGlfr   \n",
       "34010          94445  027Z8j2WK53Mlds7OS81RRSiEwviGlfr   \n",
       "12595          35074  027Z8j2WK53Mlds7OS81RRSiEwviGlfr   \n",
       "61413         170410  03LSJMJGCEPYScMXgYv3wZ9A4zZCWROs   \n",
       "\n",
       "                              course_id  \n",
       "26840  TAYxxh39I2LZnftBpL0LfF2NxzrCKpkx  \n",
       "26845  DPnLzkJJqOOPRJfBxIHbQEERiYHu5ila  \n",
       "33064  81UZtt1JJwBFYMj5u38WNKCSVA4IJSDv  \n",
       "36702  81UZtt1JJwBFYMj5u38WNKCSVA4IJSDv  \n",
       "40924  I7Go4XwWgpjRJM8EZGEnBpkfSmBNOlsO  \n",
       "71693  H2lDW05SyKnwntZ6Fora76aPAEswcMa5  \n",
       "23901  shM3Yy9vxHn2aqjSYfQXOcwGo0hWh3MI  \n",
       "34010  V4tXq15GxHo2gaMpaJLZ3IGEkP949IbE  \n",
       "12595  DPnLzkJJqOOPRJfBxIHbQEERiYHu5ila  \n",
       "61413  V4tXq15GxHo2gaMpaJLZ3IGEkP949IbE  "
      ]
     },
     "execution_count": 26,
     "metadata": {},
     "output_type": "execute_result"
    }
   ],
   "source": [
    "new_df = df[df['username'].isin(unique_greater2_username)]\n",
    "new_df = new_df.sort_values(by=['username'])\n",
    "new_df[:10]"
   ]
  },
  {
   "cell_type": "code",
   "execution_count": 27,
   "metadata": {},
   "outputs": [
    {
     "data": {
      "text/plain": [
       "14677"
      ]
     },
     "execution_count": 27,
     "metadata": {},
     "output_type": "execute_result"
    }
   ],
   "source": [
    "# Total 14677 recors enroll from 3886 user with 39 course_id\n",
    "len(new_df)"
   ]
  },
  {
   "cell_type": "markdown",
   "metadata": {},
   "source": [
    "### New dataset"
   ]
  },
  {
   "cell_type": "code",
   "execution_count": null,
   "metadata": {},
   "outputs": [],
   "source": []
  }
 ],
 "metadata": {
  "kernelspec": {
   "display_name": "Python 3",
   "language": "python",
   "name": "python3"
  },
  "language_info": {
   "codemirror_mode": {
    "name": "ipython",
    "version": 3
   },
   "file_extension": ".py",
   "mimetype": "text/x-python",
   "name": "python",
   "nbconvert_exporter": "python",
   "pygments_lexer": "ipython3",
   "version": "3.6.9"
  }
 },
 "nbformat": 4,
 "nbformat_minor": 2
}
