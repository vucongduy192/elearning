{
 "cells": [
  {
   "cell_type": "code",
   "execution_count": 1,
   "metadata": {},
   "outputs": [],
   "source": [
    "import pandas as pd\n",
    "import numpy as np\n",
    "import math\n",
    "\n",
    "from sklearn.metrics.pairwise import cosine_similarity\n",
    "from scipy import sparse"
   ]
  },
  {
   "cell_type": "markdown",
   "metadata": {},
   "source": [
    "## create enroll matrix (train)"
   ]
  },
  {
   "cell_type": "code",
   "execution_count": 2,
   "metadata": {},
   "outputs": [],
   "source": [
    "# Total records\n",
    "train_df = pd.read_csv('./train/enroll_train.csv')"
   ]
  },
  {
   "cell_type": "code",
   "execution_count": 3,
   "metadata": {},
   "outputs": [
    {
     "data": {
      "text/html": [
       "<div>\n",
       "<style scoped>\n",
       "    .dataframe tbody tr th:only-of-type {\n",
       "        vertical-align: middle;\n",
       "    }\n",
       "\n",
       "    .dataframe tbody tr th {\n",
       "        vertical-align: top;\n",
       "    }\n",
       "\n",
       "    .dataframe thead th {\n",
       "        text-align: right;\n",
       "    }\n",
       "</style>\n",
       "<table border=\"1\" class=\"dataframe\">\n",
       "  <thead>\n",
       "    <tr style=\"text-align: right;\">\n",
       "      <th></th>\n",
       "      <th>Unnamed: 0</th>\n",
       "      <th>enrollment_id</th>\n",
       "      <th>username</th>\n",
       "      <th>course_id</th>\n",
       "      <th>user</th>\n",
       "      <th>course</th>\n",
       "    </tr>\n",
       "  </thead>\n",
       "  <tbody>\n",
       "    <tr>\n",
       "      <th>0</th>\n",
       "      <td>389</td>\n",
       "      <td>1124</td>\n",
       "      <td>61ysO1Pg5Q6bsn73gkzoQt72GbhUHgNd</td>\n",
       "      <td>AXUJZGmZ0xaYSWazu8RQ1G5c76ECT1Kd</td>\n",
       "      <td>user0</td>\n",
       "      <td>course4</td>\n",
       "    </tr>\n",
       "    <tr>\n",
       "      <th>1</th>\n",
       "      <td>437</td>\n",
       "      <td>1248</td>\n",
       "      <td>T6EWQ7jVP89JlHzj41KN1gEtGYevpSQM</td>\n",
       "      <td>DPnLzkJJqOOPRJfBxIHbQEERiYHu5ila</td>\n",
       "      <td>user1</td>\n",
       "      <td>course1</td>\n",
       "    </tr>\n",
       "    <tr>\n",
       "      <th>2</th>\n",
       "      <td>628</td>\n",
       "      <td>1758</td>\n",
       "      <td>yZ9FndAKqVsKwZtO1B2JJJblefdbhZ02</td>\n",
       "      <td>AXUJZGmZ0xaYSWazu8RQ1G5c76ECT1Kd</td>\n",
       "      <td>user2</td>\n",
       "      <td>course4</td>\n",
       "    </tr>\n",
       "    <tr>\n",
       "      <th>3</th>\n",
       "      <td>710</td>\n",
       "      <td>1967</td>\n",
       "      <td>viuKt4GgrX0rYL5EpHoxJbsiC9TblSuk</td>\n",
       "      <td>5Gyp41oLVo7Gg7vF4vpmggWP5MU70QO6</td>\n",
       "      <td>user3</td>\n",
       "      <td>course12</td>\n",
       "    </tr>\n",
       "    <tr>\n",
       "      <th>4</th>\n",
       "      <td>766</td>\n",
       "      <td>2109</td>\n",
       "      <td>HAAyQYNYY3ULmqhNC56bxv5FSwyMVoqP</td>\n",
       "      <td>5Gyp41oLVo7Gg7vF4vpmggWP5MU70QO6</td>\n",
       "      <td>user4</td>\n",
       "      <td>course12</td>\n",
       "    </tr>\n",
       "  </tbody>\n",
       "</table>\n",
       "</div>"
      ],
      "text/plain": [
       "   Unnamed: 0  enrollment_id                          username  \\\n",
       "0         389           1124  61ysO1Pg5Q6bsn73gkzoQt72GbhUHgNd   \n",
       "1         437           1248  T6EWQ7jVP89JlHzj41KN1gEtGYevpSQM   \n",
       "2         628           1758  yZ9FndAKqVsKwZtO1B2JJJblefdbhZ02   \n",
       "3         710           1967  viuKt4GgrX0rYL5EpHoxJbsiC9TblSuk   \n",
       "4         766           2109  HAAyQYNYY3ULmqhNC56bxv5FSwyMVoqP   \n",
       "\n",
       "                          course_id   user    course  \n",
       "0  AXUJZGmZ0xaYSWazu8RQ1G5c76ECT1Kd  user0   course4  \n",
       "1  DPnLzkJJqOOPRJfBxIHbQEERiYHu5ila  user1   course1  \n",
       "2  AXUJZGmZ0xaYSWazu8RQ1G5c76ECT1Kd  user2   course4  \n",
       "3  5Gyp41oLVo7Gg7vF4vpmggWP5MU70QO6  user3  course12  \n",
       "4  5Gyp41oLVo7Gg7vF4vpmggWP5MU70QO6  user4  course12  "
      ]
     },
     "execution_count": 3,
     "metadata": {},
     "output_type": "execute_result"
    }
   ],
   "source": [
    "train_df.head()"
   ]
  },
  {
   "cell_type": "code",
   "execution_count": 4,
   "metadata": {},
   "outputs": [
    {
     "data": {
      "text/plain": [
       "array(['user0', 'user1', 'user2', 'user3', 'user4', 'user5', 'user6',\n",
       "       'user7', 'user8', 'user9'], dtype=object)"
      ]
     },
     "execution_count": 4,
     "metadata": {},
     "output_type": "execute_result"
    }
   ],
   "source": [
    "users = train_df.user.unique()\n",
    "users[:10]"
   ]
  },
  {
   "cell_type": "code",
   "execution_count": 5,
   "metadata": {},
   "outputs": [
    {
     "data": {
      "text/plain": [
       "array(['course4', 'course1', 'course12', 'course0', 'course5', 'course11',\n",
       "       'course10', 'course6', 'course7', 'course3'], dtype=object)"
      ]
     },
     "execution_count": 5,
     "metadata": {},
     "output_type": "execute_result"
    }
   ],
   "source": [
    "courses = train_df.course.unique()\n",
    "courses[:10]"
   ]
  },
  {
   "cell_type": "code",
   "execution_count": 6,
   "metadata": {},
   "outputs": [
    {
     "data": {
      "text/html": [
       "<div>\n",
       "<style scoped>\n",
       "    .dataframe tbody tr th:only-of-type {\n",
       "        vertical-align: middle;\n",
       "    }\n",
       "\n",
       "    .dataframe tbody tr th {\n",
       "        vertical-align: top;\n",
       "    }\n",
       "\n",
       "    .dataframe thead th {\n",
       "        text-align: right;\n",
       "    }\n",
       "</style>\n",
       "<table border=\"1\" class=\"dataframe\">\n",
       "  <thead>\n",
       "    <tr style=\"text-align: right;\">\n",
       "      <th></th>\n",
       "      <th>user</th>\n",
       "    </tr>\n",
       "  </thead>\n",
       "  <tbody>\n",
       "    <tr>\n",
       "      <th>0</th>\n",
       "      <td>user0</td>\n",
       "    </tr>\n",
       "    <tr>\n",
       "      <th>1</th>\n",
       "      <td>user1</td>\n",
       "    </tr>\n",
       "    <tr>\n",
       "      <th>2</th>\n",
       "      <td>user2</td>\n",
       "    </tr>\n",
       "    <tr>\n",
       "      <th>3</th>\n",
       "      <td>user3</td>\n",
       "    </tr>\n",
       "    <tr>\n",
       "      <th>4</th>\n",
       "      <td>user4</td>\n",
       "    </tr>\n",
       "  </tbody>\n",
       "</table>\n",
       "</div>"
      ],
      "text/plain": [
       "    user\n",
       "0  user0\n",
       "1  user1\n",
       "2  user2\n",
       "3  user3\n",
       "4  user4"
      ]
     },
     "execution_count": 6,
     "metadata": {},
     "output_type": "execute_result"
    }
   ],
   "source": [
    "new_df = pd.DataFrame(users, columns = ['user'])\n",
    "new_df.head()"
   ]
  },
  {
   "cell_type": "code",
   "execution_count": 7,
   "metadata": {},
   "outputs": [
    {
     "data": {
      "text/plain": [
       "(13,\n",
       " ['course4',\n",
       "  'course1',\n",
       "  'course12',\n",
       "  'course0',\n",
       "  'course5',\n",
       "  'course11',\n",
       "  'course10',\n",
       "  'course6',\n",
       "  'course7',\n",
       "  'course3'])"
      ]
     },
     "execution_count": 7,
     "metadata": {},
     "output_type": "execute_result"
    }
   ],
   "source": [
    "items_columns = [c for c in courses]\n",
    "len(items_columns), items_columns[:10]"
   ]
  },
  {
   "cell_type": "code",
   "execution_count": 8,
   "metadata": {},
   "outputs": [],
   "source": [
    "items_value = {}\n",
    "for c in courses:\n",
    "    items_value[c] = np.zeros(len(users), dtype=int)\n",
    "    for i, u in enumerate(users):\n",
    "        if ((train_df.user == u) & (train_df.course == c)).any():\n",
    "            items_value[c][i] = 1"
   ]
  },
  {
   "cell_type": "code",
   "execution_count": 9,
   "metadata": {},
   "outputs": [],
   "source": [
    "for col in items_columns:\n",
    "    new_df[col] = items_value[col]"
   ]
  },
  {
   "cell_type": "code",
   "execution_count": 10,
   "metadata": {
    "scrolled": true
   },
   "outputs": [
    {
     "data": {
      "text/html": [
       "<div>\n",
       "<style scoped>\n",
       "    .dataframe tbody tr th:only-of-type {\n",
       "        vertical-align: middle;\n",
       "    }\n",
       "\n",
       "    .dataframe tbody tr th {\n",
       "        vertical-align: top;\n",
       "    }\n",
       "\n",
       "    .dataframe thead th {\n",
       "        text-align: right;\n",
       "    }\n",
       "</style>\n",
       "<table border=\"1\" class=\"dataframe\">\n",
       "  <thead>\n",
       "    <tr style=\"text-align: right;\">\n",
       "      <th></th>\n",
       "      <th>user</th>\n",
       "      <th>course4</th>\n",
       "      <th>course1</th>\n",
       "      <th>course12</th>\n",
       "      <th>course0</th>\n",
       "      <th>course5</th>\n",
       "      <th>course11</th>\n",
       "      <th>course10</th>\n",
       "      <th>course6</th>\n",
       "      <th>course7</th>\n",
       "      <th>course3</th>\n",
       "      <th>course9</th>\n",
       "      <th>course2</th>\n",
       "      <th>course8</th>\n",
       "    </tr>\n",
       "  </thead>\n",
       "  <tbody>\n",
       "    <tr>\n",
       "      <th>0</th>\n",
       "      <td>user0</td>\n",
       "      <td>1</td>\n",
       "      <td>0</td>\n",
       "      <td>0</td>\n",
       "      <td>0</td>\n",
       "      <td>0</td>\n",
       "      <td>0</td>\n",
       "      <td>1</td>\n",
       "      <td>1</td>\n",
       "      <td>1</td>\n",
       "      <td>1</td>\n",
       "      <td>0</td>\n",
       "      <td>0</td>\n",
       "      <td>0</td>\n",
       "    </tr>\n",
       "    <tr>\n",
       "      <th>1</th>\n",
       "      <td>user1</td>\n",
       "      <td>0</td>\n",
       "      <td>1</td>\n",
       "      <td>1</td>\n",
       "      <td>0</td>\n",
       "      <td>0</td>\n",
       "      <td>1</td>\n",
       "      <td>1</td>\n",
       "      <td>1</td>\n",
       "      <td>1</td>\n",
       "      <td>0</td>\n",
       "      <td>0</td>\n",
       "      <td>0</td>\n",
       "      <td>0</td>\n",
       "    </tr>\n",
       "    <tr>\n",
       "      <th>2</th>\n",
       "      <td>user2</td>\n",
       "      <td>1</td>\n",
       "      <td>0</td>\n",
       "      <td>0</td>\n",
       "      <td>0</td>\n",
       "      <td>1</td>\n",
       "      <td>0</td>\n",
       "      <td>1</td>\n",
       "      <td>0</td>\n",
       "      <td>0</td>\n",
       "      <td>0</td>\n",
       "      <td>1</td>\n",
       "      <td>0</td>\n",
       "      <td>1</td>\n",
       "    </tr>\n",
       "    <tr>\n",
       "      <th>3</th>\n",
       "      <td>user3</td>\n",
       "      <td>0</td>\n",
       "      <td>1</td>\n",
       "      <td>1</td>\n",
       "      <td>0</td>\n",
       "      <td>0</td>\n",
       "      <td>1</td>\n",
       "      <td>1</td>\n",
       "      <td>0</td>\n",
       "      <td>0</td>\n",
       "      <td>0</td>\n",
       "      <td>0</td>\n",
       "      <td>0</td>\n",
       "      <td>1</td>\n",
       "    </tr>\n",
       "    <tr>\n",
       "      <th>4</th>\n",
       "      <td>user4</td>\n",
       "      <td>1</td>\n",
       "      <td>1</td>\n",
       "      <td>1</td>\n",
       "      <td>0</td>\n",
       "      <td>1</td>\n",
       "      <td>0</td>\n",
       "      <td>0</td>\n",
       "      <td>1</td>\n",
       "      <td>0</td>\n",
       "      <td>0</td>\n",
       "      <td>0</td>\n",
       "      <td>0</td>\n",
       "      <td>0</td>\n",
       "    </tr>\n",
       "  </tbody>\n",
       "</table>\n",
       "</div>"
      ],
      "text/plain": [
       "    user  course4  course1  course12  course0  course5  course11  course10  \\\n",
       "0  user0        1        0         0        0        0         0         1   \n",
       "1  user1        0        1         1        0        0         1         1   \n",
       "2  user2        1        0         0        0        1         0         1   \n",
       "3  user3        0        1         1        0        0         1         1   \n",
       "4  user4        1        1         1        0        1         0         0   \n",
       "\n",
       "   course6  course7  course3  course9  course2  course8  \n",
       "0        1        1        1        0        0        0  \n",
       "1        1        1        0        0        0        0  \n",
       "2        0        0        0        1        0        1  \n",
       "3        0        0        0        0        0        1  \n",
       "4        1        0        0        0        0        0  "
      ]
     },
     "execution_count": 10,
     "metadata": {},
     "output_type": "execute_result"
    }
   ],
   "source": [
    "new_df.head()"
   ]
  },
  {
   "cell_type": "code",
   "execution_count": 11,
   "metadata": {},
   "outputs": [
    {
     "data": {
      "text/plain": [
       "0     0\n",
       "1     0\n",
       "2     0\n",
       "3     0\n",
       "4     0\n",
       "5     1\n",
       "6     0\n",
       "7     1\n",
       "8     0\n",
       "9     0\n",
       "10    0\n",
       "11    1\n",
       "12    1\n",
       "13    0\n",
       "14    1\n",
       "15    1\n",
       "16    0\n",
       "17    1\n",
       "18    0\n",
       "19    0\n",
       "20    0\n",
       "21    1\n",
       "22    0\n",
       "23    0\n",
       "24    0\n",
       "25    1\n",
       "26    0\n",
       "27    1\n",
       "28    0\n",
       "29    0\n",
       "Name: course0, dtype: int64"
      ]
     },
     "execution_count": 11,
     "metadata": {},
     "output_type": "execute_result"
    }
   ],
   "source": [
    "new_df['course0'][:30]"
   ]
  },
  {
   "cell_type": "code",
   "execution_count": 12,
   "metadata": {},
   "outputs": [],
   "source": [
    "new_df.to_csv('enroll_matrix_train.csv', index=False)"
   ]
  },
  {
   "cell_type": "markdown",
   "metadata": {},
   "source": [
    "## create enroll matrix (test)"
   ]
  },
  {
   "cell_type": "code",
   "execution_count": 46,
   "metadata": {},
   "outputs": [],
   "source": [
    "# Total records\n",
    "test_df = pd.read_csv('./test/enroll_test.csv')"
   ]
  },
  {
   "cell_type": "code",
   "execution_count": 47,
   "metadata": {},
   "outputs": [
    {
     "data": {
      "text/html": [
       "<div>\n",
       "<style scoped>\n",
       "    .dataframe tbody tr th:only-of-type {\n",
       "        vertical-align: middle;\n",
       "    }\n",
       "\n",
       "    .dataframe tbody tr th {\n",
       "        vertical-align: top;\n",
       "    }\n",
       "\n",
       "    .dataframe thead th {\n",
       "        text-align: right;\n",
       "    }\n",
       "</style>\n",
       "<table border=\"1\" class=\"dataframe\">\n",
       "  <thead>\n",
       "    <tr style=\"text-align: right;\">\n",
       "      <th></th>\n",
       "      <th>Unnamed: 0</th>\n",
       "      <th>enrollment_id</th>\n",
       "      <th>username</th>\n",
       "      <th>course_id</th>\n",
       "      <th>user</th>\n",
       "      <th>course</th>\n",
       "    </tr>\n",
       "  </thead>\n",
       "  <tbody>\n",
       "    <tr>\n",
       "      <th>0</th>\n",
       "      <td>225</td>\n",
       "      <td>1974</td>\n",
       "      <td>viuKt4GgrX0rYL5EpHoxJbsiC9TblSuk</td>\n",
       "      <td>81UZtt1JJwBFYMj5u38WNKCSVA4IJSDv</td>\n",
       "      <td>user3</td>\n",
       "      <td>course0</td>\n",
       "    </tr>\n",
       "    <tr>\n",
       "      <th>1</th>\n",
       "      <td>329</td>\n",
       "      <td>2843</td>\n",
       "      <td>g3902agYIRHzac78MKVZlvljLMXXNpQ7</td>\n",
       "      <td>5Gyp41oLVo7Gg7vF4vpmggWP5MU70QO6</td>\n",
       "      <td>user16</td>\n",
       "      <td>course12</td>\n",
       "    </tr>\n",
       "    <tr>\n",
       "      <th>2</th>\n",
       "      <td>641</td>\n",
       "      <td>5311</td>\n",
       "      <td>SFbTZDEo0JTOG7VHfxeJz2kz3qSzlHq4</td>\n",
       "      <td>SpATywNh6bZuzm8s1ceuBUnMUAeoAHHw</td>\n",
       "      <td>user8</td>\n",
       "      <td>course5</td>\n",
       "    </tr>\n",
       "    <tr>\n",
       "      <th>3</th>\n",
       "      <td>890</td>\n",
       "      <td>7447</td>\n",
       "      <td>35E85h2ExBPeTd1VmxNX0GKo8krIMsCP</td>\n",
       "      <td>H2lDW05SyKnwntZ6Fora76aPAEswcMa5</td>\n",
       "      <td>user28</td>\n",
       "      <td>course3</td>\n",
       "    </tr>\n",
       "    <tr>\n",
       "      <th>4</th>\n",
       "      <td>1016</td>\n",
       "      <td>8738</td>\n",
       "      <td>yZ9FndAKqVsKwZtO1B2JJJblefdbhZ02</td>\n",
       "      <td>H2lDW05SyKnwntZ6Fora76aPAEswcMa5</td>\n",
       "      <td>user2</td>\n",
       "      <td>course3</td>\n",
       "    </tr>\n",
       "  </tbody>\n",
       "</table>\n",
       "</div>"
      ],
      "text/plain": [
       "   Unnamed: 0  enrollment_id                          username  \\\n",
       "0         225           1974  viuKt4GgrX0rYL5EpHoxJbsiC9TblSuk   \n",
       "1         329           2843  g3902agYIRHzac78MKVZlvljLMXXNpQ7   \n",
       "2         641           5311  SFbTZDEo0JTOG7VHfxeJz2kz3qSzlHq4   \n",
       "3         890           7447  35E85h2ExBPeTd1VmxNX0GKo8krIMsCP   \n",
       "4        1016           8738  yZ9FndAKqVsKwZtO1B2JJJblefdbhZ02   \n",
       "\n",
       "                          course_id    user    course  \n",
       "0  81UZtt1JJwBFYMj5u38WNKCSVA4IJSDv   user3   course0  \n",
       "1  5Gyp41oLVo7Gg7vF4vpmggWP5MU70QO6  user16  course12  \n",
       "2  SpATywNh6bZuzm8s1ceuBUnMUAeoAHHw   user8   course5  \n",
       "3  H2lDW05SyKnwntZ6Fora76aPAEswcMa5  user28   course3  \n",
       "4  H2lDW05SyKnwntZ6Fora76aPAEswcMa5   user2   course3  "
      ]
     },
     "execution_count": 47,
     "metadata": {},
     "output_type": "execute_result"
    }
   ],
   "source": [
    "test_df.head()"
   ]
  },
  {
   "cell_type": "code",
   "execution_count": 48,
   "metadata": {},
   "outputs": [
    {
     "data": {
      "text/plain": [
       "array(['user3', 'user16', 'user8', 'user28', 'user2', 'user0', 'user10',\n",
       "       'user19', 'user20', 'user5'], dtype=object)"
      ]
     },
     "execution_count": 48,
     "metadata": {},
     "output_type": "execute_result"
    }
   ],
   "source": [
    "users = test_df.user.unique()\n",
    "users[:10]"
   ]
  },
  {
   "cell_type": "code",
   "execution_count": 49,
   "metadata": {},
   "outputs": [
    {
     "data": {
      "text/plain": [
       "array(['course0', 'course12', 'course5', 'course3', 'course8', 'course4',\n",
       "       'course6', 'course2', 'course7', 'course11'], dtype=object)"
      ]
     },
     "execution_count": 49,
     "metadata": {},
     "output_type": "execute_result"
    }
   ],
   "source": [
    "courses = test_df.course.unique()\n",
    "courses[:10]"
   ]
  },
  {
   "cell_type": "code",
   "execution_count": 50,
   "metadata": {},
   "outputs": [
    {
     "data": {
      "text/html": [
       "<div>\n",
       "<style scoped>\n",
       "    .dataframe tbody tr th:only-of-type {\n",
       "        vertical-align: middle;\n",
       "    }\n",
       "\n",
       "    .dataframe tbody tr th {\n",
       "        vertical-align: top;\n",
       "    }\n",
       "\n",
       "    .dataframe thead th {\n",
       "        text-align: right;\n",
       "    }\n",
       "</style>\n",
       "<table border=\"1\" class=\"dataframe\">\n",
       "  <thead>\n",
       "    <tr style=\"text-align: right;\">\n",
       "      <th></th>\n",
       "      <th>user</th>\n",
       "    </tr>\n",
       "  </thead>\n",
       "  <tbody>\n",
       "    <tr>\n",
       "      <th>0</th>\n",
       "      <td>user3</td>\n",
       "    </tr>\n",
       "    <tr>\n",
       "      <th>1</th>\n",
       "      <td>user16</td>\n",
       "    </tr>\n",
       "    <tr>\n",
       "      <th>2</th>\n",
       "      <td>user8</td>\n",
       "    </tr>\n",
       "    <tr>\n",
       "      <th>3</th>\n",
       "      <td>user28</td>\n",
       "    </tr>\n",
       "    <tr>\n",
       "      <th>4</th>\n",
       "      <td>user2</td>\n",
       "    </tr>\n",
       "  </tbody>\n",
       "</table>\n",
       "</div>"
      ],
      "text/plain": [
       "     user\n",
       "0   user3\n",
       "1  user16\n",
       "2   user8\n",
       "3  user28\n",
       "4   user2"
      ]
     },
     "execution_count": 50,
     "metadata": {},
     "output_type": "execute_result"
    }
   ],
   "source": [
    "new_df = pd.DataFrame(users, columns = ['user'])\n",
    "new_df.head()"
   ]
  },
  {
   "cell_type": "code",
   "execution_count": 51,
   "metadata": {},
   "outputs": [
    {
     "data": {
      "text/plain": [
       "(11,\n",
       " ['course0',\n",
       "  'course12',\n",
       "  'course5',\n",
       "  'course3',\n",
       "  'course8',\n",
       "  'course4',\n",
       "  'course6',\n",
       "  'course2',\n",
       "  'course7',\n",
       "  'course11'])"
      ]
     },
     "execution_count": 51,
     "metadata": {},
     "output_type": "execute_result"
    }
   ],
   "source": [
    "items_columns = [c for c in courses]\n",
    "len(items_columns), items_columns[:10]"
   ]
  },
  {
   "cell_type": "code",
   "execution_count": 52,
   "metadata": {},
   "outputs": [],
   "source": [
    "items_value = {}\n",
    "for c in courses:\n",
    "    items_value[c] = np.zeros(len(users), dtype=int)\n",
    "    for i, u in enumerate(users):\n",
    "        if ((test_df.user == u) & (test_df.course == c)).any():\n",
    "            items_value[c][i] = 1"
   ]
  },
  {
   "cell_type": "code",
   "execution_count": 53,
   "metadata": {},
   "outputs": [],
   "source": [
    "for col in items_columns:\n",
    "    new_df[col] = items_value[col]"
   ]
  },
  {
   "cell_type": "code",
   "execution_count": 54,
   "metadata": {
    "scrolled": true
   },
   "outputs": [
    {
     "data": {
      "text/html": [
       "<div>\n",
       "<style scoped>\n",
       "    .dataframe tbody tr th:only-of-type {\n",
       "        vertical-align: middle;\n",
       "    }\n",
       "\n",
       "    .dataframe tbody tr th {\n",
       "        vertical-align: top;\n",
       "    }\n",
       "\n",
       "    .dataframe thead th {\n",
       "        text-align: right;\n",
       "    }\n",
       "</style>\n",
       "<table border=\"1\" class=\"dataframe\">\n",
       "  <thead>\n",
       "    <tr style=\"text-align: right;\">\n",
       "      <th></th>\n",
       "      <th>user</th>\n",
       "      <th>course0</th>\n",
       "      <th>course12</th>\n",
       "      <th>course5</th>\n",
       "      <th>course3</th>\n",
       "      <th>course8</th>\n",
       "      <th>course4</th>\n",
       "      <th>course6</th>\n",
       "      <th>course2</th>\n",
       "      <th>course7</th>\n",
       "      <th>course11</th>\n",
       "      <th>course10</th>\n",
       "    </tr>\n",
       "  </thead>\n",
       "  <tbody>\n",
       "    <tr>\n",
       "      <th>0</th>\n",
       "      <td>user3</td>\n",
       "      <td>1</td>\n",
       "      <td>0</td>\n",
       "      <td>0</td>\n",
       "      <td>0</td>\n",
       "      <td>0</td>\n",
       "      <td>0</td>\n",
       "      <td>0</td>\n",
       "      <td>1</td>\n",
       "      <td>0</td>\n",
       "      <td>0</td>\n",
       "      <td>0</td>\n",
       "    </tr>\n",
       "    <tr>\n",
       "      <th>1</th>\n",
       "      <td>user16</td>\n",
       "      <td>0</td>\n",
       "      <td>1</td>\n",
       "      <td>1</td>\n",
       "      <td>0</td>\n",
       "      <td>0</td>\n",
       "      <td>0</td>\n",
       "      <td>0</td>\n",
       "      <td>0</td>\n",
       "      <td>0</td>\n",
       "      <td>0</td>\n",
       "      <td>0</td>\n",
       "    </tr>\n",
       "    <tr>\n",
       "      <th>2</th>\n",
       "      <td>user8</td>\n",
       "      <td>0</td>\n",
       "      <td>0</td>\n",
       "      <td>1</td>\n",
       "      <td>0</td>\n",
       "      <td>0</td>\n",
       "      <td>0</td>\n",
       "      <td>0</td>\n",
       "      <td>0</td>\n",
       "      <td>0</td>\n",
       "      <td>0</td>\n",
       "      <td>0</td>\n",
       "    </tr>\n",
       "    <tr>\n",
       "      <th>3</th>\n",
       "      <td>user28</td>\n",
       "      <td>0</td>\n",
       "      <td>0</td>\n",
       "      <td>0</td>\n",
       "      <td>1</td>\n",
       "      <td>0</td>\n",
       "      <td>0</td>\n",
       "      <td>0</td>\n",
       "      <td>0</td>\n",
       "      <td>0</td>\n",
       "      <td>0</td>\n",
       "      <td>0</td>\n",
       "    </tr>\n",
       "    <tr>\n",
       "      <th>4</th>\n",
       "      <td>user2</td>\n",
       "      <td>0</td>\n",
       "      <td>0</td>\n",
       "      <td>0</td>\n",
       "      <td>1</td>\n",
       "      <td>0</td>\n",
       "      <td>0</td>\n",
       "      <td>0</td>\n",
       "      <td>0</td>\n",
       "      <td>0</td>\n",
       "      <td>0</td>\n",
       "      <td>0</td>\n",
       "    </tr>\n",
       "  </tbody>\n",
       "</table>\n",
       "</div>"
      ],
      "text/plain": [
       "     user  course0  course12  course5  course3  course8  course4  course6  \\\n",
       "0   user3        1         0        0        0        0        0        0   \n",
       "1  user16        0         1        1        0        0        0        0   \n",
       "2   user8        0         0        1        0        0        0        0   \n",
       "3  user28        0         0        0        1        0        0        0   \n",
       "4   user2        0         0        0        1        0        0        0   \n",
       "\n",
       "   course2  course7  course11  course10  \n",
       "0        1        0         0         0  \n",
       "1        0        0         0         0  \n",
       "2        0        0         0         0  \n",
       "3        0        0         0         0  \n",
       "4        0        0         0         0  "
      ]
     },
     "execution_count": 54,
     "metadata": {},
     "output_type": "execute_result"
    }
   ],
   "source": [
    "new_df.head()"
   ]
  },
  {
   "cell_type": "code",
   "execution_count": 55,
   "metadata": {},
   "outputs": [
    {
     "data": {
      "text/plain": [
       "0     1\n",
       "1     0\n",
       "2     0\n",
       "3     0\n",
       "4     0\n",
       "5     0\n",
       "6     0\n",
       "7     0\n",
       "8     0\n",
       "9     0\n",
       "10    0\n",
       "11    0\n",
       "12    0\n",
       "13    0\n",
       "14    0\n",
       "15    0\n",
       "16    0\n",
       "17    0\n",
       "18    0\n",
       "19    0\n",
       "20    1\n",
       "21    0\n",
       "22    0\n",
       "23    0\n",
       "24    0\n",
       "25    0\n",
       "26    0\n",
       "27    0\n",
       "Name: course0, dtype: int64"
      ]
     },
     "execution_count": 55,
     "metadata": {},
     "output_type": "execute_result"
    }
   ],
   "source": [
    "new_df['course0'][:30]"
   ]
  },
  {
   "cell_type": "code",
   "execution_count": 56,
   "metadata": {},
   "outputs": [],
   "source": [
    "new_df.to_csv('enroll_matrix_test.csv', index=False)"
   ]
  },
  {
   "cell_type": "code",
   "execution_count": null,
   "metadata": {},
   "outputs": [],
   "source": []
  },
  {
   "cell_type": "code",
   "execution_count": null,
   "metadata": {},
   "outputs": [],
   "source": []
  }
 ],
 "metadata": {
  "kernelspec": {
   "display_name": "Python 3",
   "language": "python",
   "name": "python3"
  },
  "language_info": {
   "codemirror_mode": {
    "name": "ipython",
    "version": 3
   },
   "file_extension": ".py",
   "mimetype": "text/x-python",
   "name": "python",
   "nbconvert_exporter": "python",
   "pygments_lexer": "ipython3",
   "version": "3.6.9"
  }
 },
 "nbformat": 4,
 "nbformat_minor": 2
}
