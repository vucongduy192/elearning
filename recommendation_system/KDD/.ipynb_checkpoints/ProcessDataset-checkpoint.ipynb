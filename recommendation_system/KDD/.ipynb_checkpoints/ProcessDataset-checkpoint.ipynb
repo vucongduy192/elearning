{
 "cells": [
  {
   "cell_type": "code",
   "execution_count": 15,
   "metadata": {},
   "outputs": [],
   "source": [
    "import pandas as pd"
   ]
  },
  {
   "cell_type": "markdown",
   "metadata": {},
   "source": [
    "### Convert train"
   ]
  },
  {
   "cell_type": "code",
   "execution_count": 16,
   "metadata": {},
   "outputs": [
    {
     "data": {
      "text/plain": [
       "72395"
      ]
     },
     "execution_count": 16,
     "metadata": {},
     "output_type": "execute_result"
    }
   ],
   "source": [
    "# Total records\n",
    "train_df = pd.read_csv('./train/enrollment_train.csv')\n",
    "len(train_df)"
   ]
  },
  {
   "cell_type": "code",
   "execution_count": 17,
   "metadata": {},
   "outputs": [
    {
     "data": {
      "text/html": [
       "<div>\n",
       "<style scoped>\n",
       "    .dataframe tbody tr th:only-of-type {\n",
       "        vertical-align: middle;\n",
       "    }\n",
       "\n",
       "    .dataframe tbody tr th {\n",
       "        vertical-align: top;\n",
       "    }\n",
       "\n",
       "    .dataframe thead th {\n",
       "        text-align: right;\n",
       "    }\n",
       "</style>\n",
       "<table border=\"1\" class=\"dataframe\">\n",
       "  <thead>\n",
       "    <tr style=\"text-align: right;\">\n",
       "      <th></th>\n",
       "      <th>enrollment_id</th>\n",
       "      <th>username</th>\n",
       "      <th>course_id</th>\n",
       "    </tr>\n",
       "  </thead>\n",
       "  <tbody>\n",
       "    <tr>\n",
       "      <th>0</th>\n",
       "      <td>1</td>\n",
       "      <td>9Uee7oEuuMmgPx2IzPfFkWgkHZyPbWr0</td>\n",
       "      <td>DPnLzkJJqOOPRJfBxIHbQEERiYHu5ila</td>\n",
       "    </tr>\n",
       "    <tr>\n",
       "      <th>1</th>\n",
       "      <td>4</td>\n",
       "      <td>FIHlppZyoq8muPbdVxS44gfvceX9zvU7</td>\n",
       "      <td>DPnLzkJJqOOPRJfBxIHbQEERiYHu5ila</td>\n",
       "    </tr>\n",
       "    <tr>\n",
       "      <th>2</th>\n",
       "      <td>5</td>\n",
       "      <td>p1Mp7WkVfzUijX0peVQKSHbgd5pXyl4c</td>\n",
       "      <td>7GRhBDsirIGkRZBtSMEzNTyDr2JQm4xx</td>\n",
       "    </tr>\n",
       "    <tr>\n",
       "      <th>3</th>\n",
       "      <td>7</td>\n",
       "      <td>I1KwJ6EdCZnEPLfC8Q7yWpIkLOHn7h02</td>\n",
       "      <td>7GRhBDsirIGkRZBtSMEzNTyDr2JQm4xx</td>\n",
       "    </tr>\n",
       "    <tr>\n",
       "      <th>4</th>\n",
       "      <td>13</td>\n",
       "      <td>hDbSkVrFRj9Ryk3c5E1JYJQLyxm4jLRb</td>\n",
       "      <td>5X6FeZozNMgE2VRi3MJYjkkFK8SETtu2</td>\n",
       "    </tr>\n",
       "  </tbody>\n",
       "</table>\n",
       "</div>"
      ],
      "text/plain": [
       "   enrollment_id                          username  \\\n",
       "0              1  9Uee7oEuuMmgPx2IzPfFkWgkHZyPbWr0   \n",
       "1              4  FIHlppZyoq8muPbdVxS44gfvceX9zvU7   \n",
       "2              5  p1Mp7WkVfzUijX0peVQKSHbgd5pXyl4c   \n",
       "3              7  I1KwJ6EdCZnEPLfC8Q7yWpIkLOHn7h02   \n",
       "4             13  hDbSkVrFRj9Ryk3c5E1JYJQLyxm4jLRb   \n",
       "\n",
       "                          course_id  \n",
       "0  DPnLzkJJqOOPRJfBxIHbQEERiYHu5ila  \n",
       "1  DPnLzkJJqOOPRJfBxIHbQEERiYHu5ila  \n",
       "2  7GRhBDsirIGkRZBtSMEzNTyDr2JQm4xx  \n",
       "3  7GRhBDsirIGkRZBtSMEzNTyDr2JQm4xx  \n",
       "4  5X6FeZozNMgE2VRi3MJYjkkFK8SETtu2  "
      ]
     },
     "execution_count": 17,
     "metadata": {},
     "output_type": "execute_result"
    }
   ],
   "source": [
    "train_df.head()"
   ]
  },
  {
   "cell_type": "code",
   "execution_count": 18,
   "metadata": {},
   "outputs": [
    {
     "data": {
      "text/plain": [
       "['81UZtt1JJwBFYMj5u38WNKCSVA4IJSDv',\n",
       " 'DPnLzkJJqOOPRJfBxIHbQEERiYHu5ila',\n",
       " 'I7Go4XwWgpjRJM8EZGEnBpkfSmBNOlsO',\n",
       " 'H2lDW05SyKnwntZ6Fora76aPAEswcMa5',\n",
       " 'AXUJZGmZ0xaYSWazu8RQ1G5c76ECT1Kd',\n",
       " 'SpATywNh6bZuzm8s1ceuBUnMUAeoAHHw',\n",
       " 'ykoe1cCWK134BJmfbNoPEenJOIWdtQOZ',\n",
       " 'shM3Yy9vxHn2aqjSYfQXOcwGo0hWh3MI',\n",
       " '9Bd26pfDLvkPINwLnpaGcf0LrLUvY1Mz',\n",
       " 'V4tXq15GxHo2gaMpaJLZ3IGEkP949IbE',\n",
       " 'a2E7NQC7nZB7WHEhKGhKnKvUWtsLAQzh',\n",
       " 'NmbZ3BmS8V4pMg6oxXHWpqqMZCE1jvYt',\n",
       " '5Gyp41oLVo7Gg7vF4vpmggWP5MU70QO6']"
      ]
     },
     "execution_count": 18,
     "metadata": {},
     "output_type": "execute_result"
    }
   ],
   "source": [
    "top_course = train_df.groupby('course_id').course_id.agg(['count']).reset_index().sort_values(by='count', ascending=False)\n",
    "top_course = top_course['course_id'][:13].tolist()\n",
    "top_course"
   ]
  },
  {
   "cell_type": "code",
   "execution_count": 19,
   "metadata": {
    "scrolled": true
   },
   "outputs": [
    {
     "name": "stdout",
     "output_type": "stream",
     "text": [
      "48371\n"
     ]
    },
    {
     "data": {
      "text/html": [
       "<div>\n",
       "<style scoped>\n",
       "    .dataframe tbody tr th:only-of-type {\n",
       "        vertical-align: middle;\n",
       "    }\n",
       "\n",
       "    .dataframe tbody tr th {\n",
       "        vertical-align: top;\n",
       "    }\n",
       "\n",
       "    .dataframe thead th {\n",
       "        text-align: right;\n",
       "    }\n",
       "</style>\n",
       "<table border=\"1\" class=\"dataframe\">\n",
       "  <thead>\n",
       "    <tr style=\"text-align: right;\">\n",
       "      <th></th>\n",
       "      <th>enrollment_id</th>\n",
       "      <th>username</th>\n",
       "      <th>course_id</th>\n",
       "    </tr>\n",
       "  </thead>\n",
       "  <tbody>\n",
       "    <tr>\n",
       "      <th>0</th>\n",
       "      <td>1</td>\n",
       "      <td>9Uee7oEuuMmgPx2IzPfFkWgkHZyPbWr0</td>\n",
       "      <td>DPnLzkJJqOOPRJfBxIHbQEERiYHu5ila</td>\n",
       "    </tr>\n",
       "    <tr>\n",
       "      <th>1</th>\n",
       "      <td>4</td>\n",
       "      <td>FIHlppZyoq8muPbdVxS44gfvceX9zvU7</td>\n",
       "      <td>DPnLzkJJqOOPRJfBxIHbQEERiYHu5ila</td>\n",
       "    </tr>\n",
       "    <tr>\n",
       "      <th>5</th>\n",
       "      <td>14</td>\n",
       "      <td>XOhIczT5nEeO52jMq1vN7QziDk8L2jnI</td>\n",
       "      <td>DPnLzkJJqOOPRJfBxIHbQEERiYHu5ila</td>\n",
       "    </tr>\n",
       "    <tr>\n",
       "      <th>6</th>\n",
       "      <td>18</td>\n",
       "      <td>b0Hk5D3sJulvyuC4JEm5kvAvOLAxswgQ</td>\n",
       "      <td>DPnLzkJJqOOPRJfBxIHbQEERiYHu5ila</td>\n",
       "    </tr>\n",
       "    <tr>\n",
       "      <th>7</th>\n",
       "      <td>20</td>\n",
       "      <td>BoK7CAUaCFqnLgmWLxeOHg8YkXUSeCtc</td>\n",
       "      <td>DPnLzkJJqOOPRJfBxIHbQEERiYHu5ila</td>\n",
       "    </tr>\n",
       "  </tbody>\n",
       "</table>\n",
       "</div>"
      ],
      "text/plain": [
       "   enrollment_id                          username  \\\n",
       "0              1  9Uee7oEuuMmgPx2IzPfFkWgkHZyPbWr0   \n",
       "1              4  FIHlppZyoq8muPbdVxS44gfvceX9zvU7   \n",
       "5             14  XOhIczT5nEeO52jMq1vN7QziDk8L2jnI   \n",
       "6             18  b0Hk5D3sJulvyuC4JEm5kvAvOLAxswgQ   \n",
       "7             20  BoK7CAUaCFqnLgmWLxeOHg8YkXUSeCtc   \n",
       "\n",
       "                          course_id  \n",
       "0  DPnLzkJJqOOPRJfBxIHbQEERiYHu5ila  \n",
       "1  DPnLzkJJqOOPRJfBxIHbQEERiYHu5ila  \n",
       "5  DPnLzkJJqOOPRJfBxIHbQEERiYHu5ila  \n",
       "6  DPnLzkJJqOOPRJfBxIHbQEERiYHu5ila  \n",
       "7  DPnLzkJJqOOPRJfBxIHbQEERiYHu5ila  "
      ]
     },
     "execution_count": 19,
     "metadata": {},
     "output_type": "execute_result"
    }
   ],
   "source": [
    "new_train_df = train_df[train_df['course_id'].isin(top_course)]\n",
    "print(len(new_train_df))\n",
    "new_train_df.head()"
   ]
  },
  {
   "cell_type": "code",
   "execution_count": 20,
   "metadata": {},
   "outputs": [
    {
     "data": {
      "text/html": [
       "<div>\n",
       "<style scoped>\n",
       "    .dataframe tbody tr th:only-of-type {\n",
       "        vertical-align: middle;\n",
       "    }\n",
       "\n",
       "    .dataframe tbody tr th {\n",
       "        vertical-align: top;\n",
       "    }\n",
       "\n",
       "    .dataframe thead th {\n",
       "        text-align: right;\n",
       "    }\n",
       "</style>\n",
       "<table border=\"1\" class=\"dataframe\">\n",
       "  <thead>\n",
       "    <tr style=\"text-align: right;\">\n",
       "      <th></th>\n",
       "      <th>enrollment_id</th>\n",
       "      <th>username</th>\n",
       "      <th>course_id</th>\n",
       "    </tr>\n",
       "  </thead>\n",
       "  <tbody>\n",
       "  </tbody>\n",
       "</table>\n",
       "</div>"
      ],
      "text/plain": [
       "Empty DataFrame\n",
       "Columns: [enrollment_id, username, course_id]\n",
       "Index: []"
      ]
     },
     "execution_count": 20,
     "metadata": {},
     "output_type": "execute_result"
    }
   ],
   "source": [
    "new_train_df[new_train_df['course_id']=='TAYxxh39I2LZnftBpL0LfF2NxzrCKpkx']"
   ]
  },
  {
   "cell_type": "code",
   "execution_count": 21,
   "metadata": {},
   "outputs": [
    {
     "data": {
      "text/plain": [
       "(71, array(['61ysO1Pg5Q6bsn73gkzoQt72GbhUHgNd',\n",
       "        'T6EWQ7jVP89JlHzj41KN1gEtGYevpSQM',\n",
       "        'yZ9FndAKqVsKwZtO1B2JJJblefdbhZ02',\n",
       "        'viuKt4GgrX0rYL5EpHoxJbsiC9TblSuk',\n",
       "        'HAAyQYNYY3ULmqhNC56bxv5FSwyMVoqP',\n",
       "        'Hj4fYYa64lvHLVeQZBqs9EQ1OtgHTvl6',\n",
       "        'C6xrhZPOmVH2gCVNP26gSSPka2CcwgB5',\n",
       "        'M4qxCm572dyAklYyW6rlwVA2xGuuy2h9',\n",
       "        'SFbTZDEo0JTOG7VHfxeJz2kz3qSzlHq4',\n",
       "        'GMzSpgZQ6jzVsfHn8W8i83JsYNxnP00b'], dtype=object))"
      ]
     },
     "execution_count": 21,
     "metadata": {},
     "output_type": "execute_result"
    }
   ],
   "source": [
    "# Total username had enrolled more than 2 times\n",
    "greater5_username = new_train_df.groupby(['username']).filter(lambda x: len(x) >= 5)\n",
    "unique_greater5_username = greater5_username.username.unique()\n",
    "len(unique_greater5_username), unique_greater5_username[:10]"
   ]
  },
  {
   "cell_type": "code",
   "execution_count": 22,
   "metadata": {},
   "outputs": [
    {
     "data": {
      "text/plain": [
       "383"
      ]
     },
     "execution_count": 22,
     "metadata": {},
     "output_type": "execute_result"
    }
   ],
   "source": [
    "new_train_df = new_train_df[new_train_df['username'].isin(unique_greater5_username)]\n",
    "len(new_train_df)"
   ]
  },
  {
   "cell_type": "code",
   "execution_count": 23,
   "metadata": {},
   "outputs": [
    {
     "data": {
      "text/html": [
       "<div>\n",
       "<style scoped>\n",
       "    .dataframe tbody tr th:only-of-type {\n",
       "        vertical-align: middle;\n",
       "    }\n",
       "\n",
       "    .dataframe tbody tr th {\n",
       "        vertical-align: top;\n",
       "    }\n",
       "\n",
       "    .dataframe thead th {\n",
       "        text-align: right;\n",
       "    }\n",
       "</style>\n",
       "<table border=\"1\" class=\"dataframe\">\n",
       "  <thead>\n",
       "    <tr style=\"text-align: right;\">\n",
       "      <th></th>\n",
       "      <th>enrollment_id</th>\n",
       "      <th>username</th>\n",
       "      <th>course_id</th>\n",
       "    </tr>\n",
       "  </thead>\n",
       "  <tbody>\n",
       "    <tr>\n",
       "      <th>389</th>\n",
       "      <td>1124</td>\n",
       "      <td>61ysO1Pg5Q6bsn73gkzoQt72GbhUHgNd</td>\n",
       "      <td>AXUJZGmZ0xaYSWazu8RQ1G5c76ECT1Kd</td>\n",
       "    </tr>\n",
       "    <tr>\n",
       "      <th>437</th>\n",
       "      <td>1248</td>\n",
       "      <td>T6EWQ7jVP89JlHzj41KN1gEtGYevpSQM</td>\n",
       "      <td>DPnLzkJJqOOPRJfBxIHbQEERiYHu5ila</td>\n",
       "    </tr>\n",
       "    <tr>\n",
       "      <th>628</th>\n",
       "      <td>1758</td>\n",
       "      <td>yZ9FndAKqVsKwZtO1B2JJJblefdbhZ02</td>\n",
       "      <td>AXUJZGmZ0xaYSWazu8RQ1G5c76ECT1Kd</td>\n",
       "    </tr>\n",
       "    <tr>\n",
       "      <th>710</th>\n",
       "      <td>1967</td>\n",
       "      <td>viuKt4GgrX0rYL5EpHoxJbsiC9TblSuk</td>\n",
       "      <td>5Gyp41oLVo7Gg7vF4vpmggWP5MU70QO6</td>\n",
       "    </tr>\n",
       "    <tr>\n",
       "      <th>766</th>\n",
       "      <td>2109</td>\n",
       "      <td>HAAyQYNYY3ULmqhNC56bxv5FSwyMVoqP</td>\n",
       "      <td>5Gyp41oLVo7Gg7vF4vpmggWP5MU70QO6</td>\n",
       "    </tr>\n",
       "  </tbody>\n",
       "</table>\n",
       "</div>"
      ],
      "text/plain": [
       "     enrollment_id                          username  \\\n",
       "389           1124  61ysO1Pg5Q6bsn73gkzoQt72GbhUHgNd   \n",
       "437           1248  T6EWQ7jVP89JlHzj41KN1gEtGYevpSQM   \n",
       "628           1758  yZ9FndAKqVsKwZtO1B2JJJblefdbhZ02   \n",
       "710           1967  viuKt4GgrX0rYL5EpHoxJbsiC9TblSuk   \n",
       "766           2109  HAAyQYNYY3ULmqhNC56bxv5FSwyMVoqP   \n",
       "\n",
       "                            course_id  \n",
       "389  AXUJZGmZ0xaYSWazu8RQ1G5c76ECT1Kd  \n",
       "437  DPnLzkJJqOOPRJfBxIHbQEERiYHu5ila  \n",
       "628  AXUJZGmZ0xaYSWazu8RQ1G5c76ECT1Kd  \n",
       "710  5Gyp41oLVo7Gg7vF4vpmggWP5MU70QO6  \n",
       "766  5Gyp41oLVo7Gg7vF4vpmggWP5MU70QO6  "
      ]
     },
     "execution_count": 23,
     "metadata": {},
     "output_type": "execute_result"
    }
   ],
   "source": [
    "new_train_df.head()"
   ]
  },
  {
   "cell_type": "code",
   "execution_count": 24,
   "metadata": {},
   "outputs": [
    {
     "data": {
      "text/plain": [
       "(13, 71)"
      ]
     },
     "execution_count": 24,
     "metadata": {},
     "output_type": "execute_result"
    }
   ],
   "source": [
    "len(top_course), len(unique_greater5_username)"
   ]
  },
  {
   "cell_type": "markdown",
   "metadata": {},
   "source": [
    "### New dataset"
   ]
  },
  {
   "cell_type": "code",
   "execution_count": 25,
   "metadata": {},
   "outputs": [
    {
     "data": {
      "text/plain": [
       "(71, array(['61ysO1Pg5Q6bsn73gkzoQt72GbhUHgNd',\n",
       "        'T6EWQ7jVP89JlHzj41KN1gEtGYevpSQM',\n",
       "        'yZ9FndAKqVsKwZtO1B2JJJblefdbhZ02',\n",
       "        'viuKt4GgrX0rYL5EpHoxJbsiC9TblSuk',\n",
       "        'HAAyQYNYY3ULmqhNC56bxv5FSwyMVoqP',\n",
       "        'Hj4fYYa64lvHLVeQZBqs9EQ1OtgHTvl6',\n",
       "        'C6xrhZPOmVH2gCVNP26gSSPka2CcwgB5',\n",
       "        'M4qxCm572dyAklYyW6rlwVA2xGuuy2h9',\n",
       "        'SFbTZDEo0JTOG7VHfxeJz2kz3qSzlHq4',\n",
       "        'GMzSpgZQ6jzVsfHn8W8i83JsYNxnP00b'], dtype=object), ['user0',\n",
       "  'user1',\n",
       "  'user2',\n",
       "  'user3',\n",
       "  'user4',\n",
       "  'user5',\n",
       "  'user6',\n",
       "  'user7',\n",
       "  'user8',\n",
       "  'user9'])"
      ]
     },
     "execution_count": 25,
     "metadata": {},
     "output_type": "execute_result"
    }
   ],
   "source": [
    "username = new_train_df.username.unique()\n",
    "new_username = list(['user{}'.format(i) for i in range(len(username))])\n",
    "\n",
    "dict_username = dict(zip(username, new_username))\n",
    "len(username), username[:10], new_username[:10]"
   ]
  },
  {
   "cell_type": "code",
   "execution_count": 26,
   "metadata": {},
   "outputs": [
    {
     "data": {
      "text/plain": [
       "(13,\n",
       " ['81UZtt1JJwBFYMj5u38WNKCSVA4IJSDv',\n",
       "  'DPnLzkJJqOOPRJfBxIHbQEERiYHu5ila',\n",
       "  'I7Go4XwWgpjRJM8EZGEnBpkfSmBNOlsO',\n",
       "  'H2lDW05SyKnwntZ6Fora76aPAEswcMa5',\n",
       "  'AXUJZGmZ0xaYSWazu8RQ1G5c76ECT1Kd',\n",
       "  'SpATywNh6bZuzm8s1ceuBUnMUAeoAHHw',\n",
       "  'ykoe1cCWK134BJmfbNoPEenJOIWdtQOZ',\n",
       "  'shM3Yy9vxHn2aqjSYfQXOcwGo0hWh3MI',\n",
       "  '9Bd26pfDLvkPINwLnpaGcf0LrLUvY1Mz',\n",
       "  'V4tXq15GxHo2gaMpaJLZ3IGEkP949IbE'],\n",
       " ['course0',\n",
       "  'course1',\n",
       "  'course2',\n",
       "  'course3',\n",
       "  'course4',\n",
       "  'course5',\n",
       "  'course6',\n",
       "  'course7',\n",
       "  'course8',\n",
       "  'course9'])"
      ]
     },
     "execution_count": 26,
     "metadata": {},
     "output_type": "execute_result"
    }
   ],
   "source": [
    "course_id = top_course\n",
    "new_course_id = list(['course{}'.format(i) for i in range(len(course_id))])\n",
    "\n",
    "dict_course_id = dict(zip(course_id, new_course_id))\n",
    "len(course_id), course_id[:10], new_course_id[:10]"
   ]
  },
  {
   "cell_type": "code",
   "execution_count": 27,
   "metadata": {},
   "outputs": [
    {
     "data": {
      "text/plain": [
       "389     user0\n",
       "437     user1\n",
       "628     user2\n",
       "710     user3\n",
       "766     user4\n",
       "1187    user5\n",
       "1575    user6\n",
       "1615    user6\n",
       "1815    user7\n",
       "1899    user8\n",
       "Name: user, dtype: object"
      ]
     },
     "execution_count": 27,
     "metadata": {},
     "output_type": "execute_result"
    }
   ],
   "source": [
    "new_train_df['user'] = new_train_df['username'].apply(lambda u: dict_username[u])\n",
    "new_train_df['user'][:10]"
   ]
  },
  {
   "cell_type": "code",
   "execution_count": 28,
   "metadata": {},
   "outputs": [
    {
     "data": {
      "text/plain": [
       "389      course4\n",
       "437      course1\n",
       "628      course4\n",
       "710     course12\n",
       "766     course12\n",
       "1187     course0\n",
       "1575     course5\n",
       "1615    course11\n",
       "1815     course4\n",
       "1899    course10\n",
       "Name: course, dtype: object"
      ]
     },
     "execution_count": 28,
     "metadata": {},
     "output_type": "execute_result"
    }
   ],
   "source": [
    "new_train_df['course'] = new_train_df['course_id'].apply(lambda c: dict_course_id[c])\n",
    "new_train_df['course'][:10]"
   ]
  },
  {
   "cell_type": "code",
   "execution_count": 29,
   "metadata": {},
   "outputs": [
    {
     "data": {
      "text/html": [
       "<div>\n",
       "<style scoped>\n",
       "    .dataframe tbody tr th:only-of-type {\n",
       "        vertical-align: middle;\n",
       "    }\n",
       "\n",
       "    .dataframe tbody tr th {\n",
       "        vertical-align: top;\n",
       "    }\n",
       "\n",
       "    .dataframe thead th {\n",
       "        text-align: right;\n",
       "    }\n",
       "</style>\n",
       "<table border=\"1\" class=\"dataframe\">\n",
       "  <thead>\n",
       "    <tr style=\"text-align: right;\">\n",
       "      <th></th>\n",
       "      <th>enrollment_id</th>\n",
       "      <th>username</th>\n",
       "      <th>course_id</th>\n",
       "      <th>user</th>\n",
       "      <th>course</th>\n",
       "    </tr>\n",
       "  </thead>\n",
       "  <tbody>\n",
       "    <tr>\n",
       "      <th>389</th>\n",
       "      <td>1124</td>\n",
       "      <td>61ysO1Pg5Q6bsn73gkzoQt72GbhUHgNd</td>\n",
       "      <td>AXUJZGmZ0xaYSWazu8RQ1G5c76ECT1Kd</td>\n",
       "      <td>user0</td>\n",
       "      <td>course4</td>\n",
       "    </tr>\n",
       "    <tr>\n",
       "      <th>437</th>\n",
       "      <td>1248</td>\n",
       "      <td>T6EWQ7jVP89JlHzj41KN1gEtGYevpSQM</td>\n",
       "      <td>DPnLzkJJqOOPRJfBxIHbQEERiYHu5ila</td>\n",
       "      <td>user1</td>\n",
       "      <td>course1</td>\n",
       "    </tr>\n",
       "    <tr>\n",
       "      <th>628</th>\n",
       "      <td>1758</td>\n",
       "      <td>yZ9FndAKqVsKwZtO1B2JJJblefdbhZ02</td>\n",
       "      <td>AXUJZGmZ0xaYSWazu8RQ1G5c76ECT1Kd</td>\n",
       "      <td>user2</td>\n",
       "      <td>course4</td>\n",
       "    </tr>\n",
       "    <tr>\n",
       "      <th>710</th>\n",
       "      <td>1967</td>\n",
       "      <td>viuKt4GgrX0rYL5EpHoxJbsiC9TblSuk</td>\n",
       "      <td>5Gyp41oLVo7Gg7vF4vpmggWP5MU70QO6</td>\n",
       "      <td>user3</td>\n",
       "      <td>course12</td>\n",
       "    </tr>\n",
       "    <tr>\n",
       "      <th>766</th>\n",
       "      <td>2109</td>\n",
       "      <td>HAAyQYNYY3ULmqhNC56bxv5FSwyMVoqP</td>\n",
       "      <td>5Gyp41oLVo7Gg7vF4vpmggWP5MU70QO6</td>\n",
       "      <td>user4</td>\n",
       "      <td>course12</td>\n",
       "    </tr>\n",
       "  </tbody>\n",
       "</table>\n",
       "</div>"
      ],
      "text/plain": [
       "     enrollment_id                          username  \\\n",
       "389           1124  61ysO1Pg5Q6bsn73gkzoQt72GbhUHgNd   \n",
       "437           1248  T6EWQ7jVP89JlHzj41KN1gEtGYevpSQM   \n",
       "628           1758  yZ9FndAKqVsKwZtO1B2JJJblefdbhZ02   \n",
       "710           1967  viuKt4GgrX0rYL5EpHoxJbsiC9TblSuk   \n",
       "766           2109  HAAyQYNYY3ULmqhNC56bxv5FSwyMVoqP   \n",
       "\n",
       "                            course_id   user    course  \n",
       "389  AXUJZGmZ0xaYSWazu8RQ1G5c76ECT1Kd  user0   course4  \n",
       "437  DPnLzkJJqOOPRJfBxIHbQEERiYHu5ila  user1   course1  \n",
       "628  AXUJZGmZ0xaYSWazu8RQ1G5c76ECT1Kd  user2   course4  \n",
       "710  5Gyp41oLVo7Gg7vF4vpmggWP5MU70QO6  user3  course12  \n",
       "766  5Gyp41oLVo7Gg7vF4vpmggWP5MU70QO6  user4  course12  "
      ]
     },
     "execution_count": 29,
     "metadata": {},
     "output_type": "execute_result"
    }
   ],
   "source": [
    "new_train_df.head()"
   ]
  },
  {
   "cell_type": "code",
   "execution_count": 30,
   "metadata": {},
   "outputs": [],
   "source": [
    "new_train_df.to_csv('./train/enroll_train.csv')"
   ]
  },
  {
   "cell_type": "markdown",
   "metadata": {},
   "source": [
    "### Use new username, course to apply in test"
   ]
  },
  {
   "cell_type": "code",
   "execution_count": 31,
   "metadata": {},
   "outputs": [
    {
     "data": {
      "text/plain": [
       "24013"
      ]
     },
     "execution_count": 31,
     "metadata": {},
     "output_type": "execute_result"
    }
   ],
   "source": [
    "# Total records\n",
    "test_df = pd.read_csv('./test/enrollment_test.csv')\n",
    "len(test_df)"
   ]
  },
  {
   "cell_type": "code",
   "execution_count": 32,
   "metadata": {},
   "outputs": [
    {
     "data": {
      "text/html": [
       "<div>\n",
       "<style scoped>\n",
       "    .dataframe tbody tr th:only-of-type {\n",
       "        vertical-align: middle;\n",
       "    }\n",
       "\n",
       "    .dataframe tbody tr th {\n",
       "        vertical-align: top;\n",
       "    }\n",
       "\n",
       "    .dataframe thead th {\n",
       "        text-align: right;\n",
       "    }\n",
       "</style>\n",
       "<table border=\"1\" class=\"dataframe\">\n",
       "  <thead>\n",
       "    <tr style=\"text-align: right;\">\n",
       "      <th></th>\n",
       "      <th>enrollment_id</th>\n",
       "      <th>username</th>\n",
       "      <th>course_id</th>\n",
       "    </tr>\n",
       "  </thead>\n",
       "  <tbody>\n",
       "    <tr>\n",
       "      <th>0</th>\n",
       "      <td>30</td>\n",
       "      <td>JPkczYOxyoDZBjwZAAQHmjpSvnPQzwV0</td>\n",
       "      <td>DPnLzkJJqOOPRJfBxIHbQEERiYHu5ila</td>\n",
       "    </tr>\n",
       "    <tr>\n",
       "      <th>1</th>\n",
       "      <td>31</td>\n",
       "      <td>6mzGZyDGSLMvgMQyFwXmz47ojS1kH3j6</td>\n",
       "      <td>DPnLzkJJqOOPRJfBxIHbQEERiYHu5ila</td>\n",
       "    </tr>\n",
       "    <tr>\n",
       "      <th>2</th>\n",
       "      <td>45</td>\n",
       "      <td>5Tz6BGN7p1lkmdoopAY1Z5ufYTrUsi9E</td>\n",
       "      <td>7GRhBDsirIGkRZBtSMEzNTyDr2JQm4xx</td>\n",
       "    </tr>\n",
       "    <tr>\n",
       "      <th>3</th>\n",
       "      <td>48</td>\n",
       "      <td>1ELMItXjpijnCZU4WKxvrVri8AjkR2gf</td>\n",
       "      <td>AXUJZGmZ0xaYSWazu8RQ1G5c76ECT1Kd</td>\n",
       "    </tr>\n",
       "    <tr>\n",
       "      <th>4</th>\n",
       "      <td>50</td>\n",
       "      <td>LnNj9zDI8D38ixGOYTIjTH2iF5m36v9S</td>\n",
       "      <td>7GRhBDsirIGkRZBtSMEzNTyDr2JQm4xx</td>\n",
       "    </tr>\n",
       "  </tbody>\n",
       "</table>\n",
       "</div>"
      ],
      "text/plain": [
       "   enrollment_id                          username  \\\n",
       "0             30  JPkczYOxyoDZBjwZAAQHmjpSvnPQzwV0   \n",
       "1             31  6mzGZyDGSLMvgMQyFwXmz47ojS1kH3j6   \n",
       "2             45  5Tz6BGN7p1lkmdoopAY1Z5ufYTrUsi9E   \n",
       "3             48  1ELMItXjpijnCZU4WKxvrVri8AjkR2gf   \n",
       "4             50  LnNj9zDI8D38ixGOYTIjTH2iF5m36v9S   \n",
       "\n",
       "                          course_id  \n",
       "0  DPnLzkJJqOOPRJfBxIHbQEERiYHu5ila  \n",
       "1  DPnLzkJJqOOPRJfBxIHbQEERiYHu5ila  \n",
       "2  7GRhBDsirIGkRZBtSMEzNTyDr2JQm4xx  \n",
       "3  AXUJZGmZ0xaYSWazu8RQ1G5c76ECT1Kd  \n",
       "4  7GRhBDsirIGkRZBtSMEzNTyDr2JQm4xx  "
      ]
     },
     "execution_count": 32,
     "metadata": {},
     "output_type": "execute_result"
    }
   ],
   "source": [
    "test_df.head()"
   ]
  },
  {
   "cell_type": "code",
   "execution_count": 33,
   "metadata": {},
   "outputs": [
    {
     "data": {
      "text/plain": [
       "array(['61ysO1Pg5Q6bsn73gkzoQt72GbhUHgNd',\n",
       "       'T6EWQ7jVP89JlHzj41KN1gEtGYevpSQM',\n",
       "       'yZ9FndAKqVsKwZtO1B2JJJblefdbhZ02',\n",
       "       'viuKt4GgrX0rYL5EpHoxJbsiC9TblSuk',\n",
       "       'HAAyQYNYY3ULmqhNC56bxv5FSwyMVoqP',\n",
       "       'Hj4fYYa64lvHLVeQZBqs9EQ1OtgHTvl6',\n",
       "       'C6xrhZPOmVH2gCVNP26gSSPka2CcwgB5',\n",
       "       'M4qxCm572dyAklYyW6rlwVA2xGuuy2h9',\n",
       "       'SFbTZDEo0JTOG7VHfxeJz2kz3qSzlHq4',\n",
       "       'GMzSpgZQ6jzVsfHn8W8i83JsYNxnP00b'], dtype=object)"
      ]
     },
     "execution_count": 33,
     "metadata": {},
     "output_type": "execute_result"
    }
   ],
   "source": [
    "# user name unique in train_df \n",
    "username[:10]"
   ]
  },
  {
   "cell_type": "code",
   "execution_count": 34,
   "metadata": {},
   "outputs": [
    {
     "data": {
      "text/plain": [
       "['81UZtt1JJwBFYMj5u38WNKCSVA4IJSDv',\n",
       " 'DPnLzkJJqOOPRJfBxIHbQEERiYHu5ila',\n",
       " 'I7Go4XwWgpjRJM8EZGEnBpkfSmBNOlsO',\n",
       " 'H2lDW05SyKnwntZ6Fora76aPAEswcMa5',\n",
       " 'AXUJZGmZ0xaYSWazu8RQ1G5c76ECT1Kd',\n",
       " 'SpATywNh6bZuzm8s1ceuBUnMUAeoAHHw',\n",
       " 'ykoe1cCWK134BJmfbNoPEenJOIWdtQOZ',\n",
       " 'shM3Yy9vxHn2aqjSYfQXOcwGo0hWh3MI',\n",
       " '9Bd26pfDLvkPINwLnpaGcf0LrLUvY1Mz',\n",
       " 'V4tXq15GxHo2gaMpaJLZ3IGEkP949IbE']"
      ]
     },
     "execution_count": 34,
     "metadata": {},
     "output_type": "execute_result"
    }
   ],
   "source": [
    "# course_id unique in train_df \n",
    "course_id[:10]"
   ]
  },
  {
   "cell_type": "code",
   "execution_count": 35,
   "metadata": {},
   "outputs": [],
   "source": [
    "# Only test if username and course appear in train_df\n",
    "def inTrain(row):\n",
    "    if row['username'] in username and row['course_id'] in course_id:\n",
    "        return True\n",
    "    return False"
   ]
  },
  {
   "cell_type": "code",
   "execution_count": 36,
   "metadata": {},
   "outputs": [
    {
     "data": {
      "text/plain": [
       "38"
      ]
     },
     "execution_count": 36,
     "metadata": {},
     "output_type": "execute_result"
    }
   ],
   "source": [
    "in_train = test_df.apply(inTrain, axis=1)\n",
    "new_test_df = test_df[in_train]\n",
    "len(new_test_df)"
   ]
  },
  {
   "cell_type": "code",
   "execution_count": 37,
   "metadata": {},
   "outputs": [
    {
     "data": {
      "text/html": [
       "<div>\n",
       "<style scoped>\n",
       "    .dataframe tbody tr th:only-of-type {\n",
       "        vertical-align: middle;\n",
       "    }\n",
       "\n",
       "    .dataframe tbody tr th {\n",
       "        vertical-align: top;\n",
       "    }\n",
       "\n",
       "    .dataframe thead th {\n",
       "        text-align: right;\n",
       "    }\n",
       "</style>\n",
       "<table border=\"1\" class=\"dataframe\">\n",
       "  <thead>\n",
       "    <tr style=\"text-align: right;\">\n",
       "      <th></th>\n",
       "      <th>enrollment_id</th>\n",
       "      <th>username</th>\n",
       "      <th>course_id</th>\n",
       "    </tr>\n",
       "  </thead>\n",
       "  <tbody>\n",
       "    <tr>\n",
       "      <th>225</th>\n",
       "      <td>1974</td>\n",
       "      <td>viuKt4GgrX0rYL5EpHoxJbsiC9TblSuk</td>\n",
       "      <td>81UZtt1JJwBFYMj5u38WNKCSVA4IJSDv</td>\n",
       "    </tr>\n",
       "    <tr>\n",
       "      <th>329</th>\n",
       "      <td>2843</td>\n",
       "      <td>g3902agYIRHzac78MKVZlvljLMXXNpQ7</td>\n",
       "      <td>5Gyp41oLVo7Gg7vF4vpmggWP5MU70QO6</td>\n",
       "    </tr>\n",
       "    <tr>\n",
       "      <th>641</th>\n",
       "      <td>5311</td>\n",
       "      <td>SFbTZDEo0JTOG7VHfxeJz2kz3qSzlHq4</td>\n",
       "      <td>SpATywNh6bZuzm8s1ceuBUnMUAeoAHHw</td>\n",
       "    </tr>\n",
       "    <tr>\n",
       "      <th>890</th>\n",
       "      <td>7447</td>\n",
       "      <td>35E85h2ExBPeTd1VmxNX0GKo8krIMsCP</td>\n",
       "      <td>H2lDW05SyKnwntZ6Fora76aPAEswcMa5</td>\n",
       "    </tr>\n",
       "    <tr>\n",
       "      <th>1016</th>\n",
       "      <td>8738</td>\n",
       "      <td>yZ9FndAKqVsKwZtO1B2JJJblefdbhZ02</td>\n",
       "      <td>H2lDW05SyKnwntZ6Fora76aPAEswcMa5</td>\n",
       "    </tr>\n",
       "  </tbody>\n",
       "</table>\n",
       "</div>"
      ],
      "text/plain": [
       "      enrollment_id                          username  \\\n",
       "225            1974  viuKt4GgrX0rYL5EpHoxJbsiC9TblSuk   \n",
       "329            2843  g3902agYIRHzac78MKVZlvljLMXXNpQ7   \n",
       "641            5311  SFbTZDEo0JTOG7VHfxeJz2kz3qSzlHq4   \n",
       "890            7447  35E85h2ExBPeTd1VmxNX0GKo8krIMsCP   \n",
       "1016           8738  yZ9FndAKqVsKwZtO1B2JJJblefdbhZ02   \n",
       "\n",
       "                             course_id  \n",
       "225   81UZtt1JJwBFYMj5u38WNKCSVA4IJSDv  \n",
       "329   5Gyp41oLVo7Gg7vF4vpmggWP5MU70QO6  \n",
       "641   SpATywNh6bZuzm8s1ceuBUnMUAeoAHHw  \n",
       "890   H2lDW05SyKnwntZ6Fora76aPAEswcMa5  \n",
       "1016  H2lDW05SyKnwntZ6Fora76aPAEswcMa5  "
      ]
     },
     "execution_count": 37,
     "metadata": {},
     "output_type": "execute_result"
    }
   ],
   "source": [
    "new_test_df.head()"
   ]
  },
  {
   "cell_type": "code",
   "execution_count": 38,
   "metadata": {},
   "outputs": [
    {
     "name": "stderr",
     "output_type": "stream",
     "text": [
      "/home/duyvc/.local/lib/python3.6/site-packages/ipykernel_launcher.py:1: SettingWithCopyWarning: \n",
      "A value is trying to be set on a copy of a slice from a DataFrame.\n",
      "Try using .loc[row_indexer,col_indexer] = value instead\n",
      "\n",
      "See the caveats in the documentation: http://pandas.pydata.org/pandas-docs/stable/user_guide/indexing.html#returning-a-view-versus-a-copy\n",
      "  \"\"\"Entry point for launching an IPython kernel.\n"
     ]
    },
    {
     "data": {
      "text/plain": [
       "225      user3\n",
       "329     user16\n",
       "641      user8\n",
       "890     user28\n",
       "1016     user2\n",
       "1163     user0\n",
       "1388    user10\n",
       "1419    user16\n",
       "1467    user19\n",
       "1475    user20\n",
       "Name: user, dtype: object"
      ]
     },
     "execution_count": 38,
     "metadata": {},
     "output_type": "execute_result"
    }
   ],
   "source": [
    "new_test_df['user'] = new_test_df['username'].apply(lambda u: dict_username[u])\n",
    "new_test_df['user'][:10]"
   ]
  },
  {
   "cell_type": "code",
   "execution_count": 39,
   "metadata": {},
   "outputs": [
    {
     "name": "stderr",
     "output_type": "stream",
     "text": [
      "/home/duyvc/.local/lib/python3.6/site-packages/ipykernel_launcher.py:1: SettingWithCopyWarning: \n",
      "A value is trying to be set on a copy of a slice from a DataFrame.\n",
      "Try using .loc[row_indexer,col_indexer] = value instead\n",
      "\n",
      "See the caveats in the documentation: http://pandas.pydata.org/pandas-docs/stable/user_guide/indexing.html#returning-a-view-versus-a-copy\n",
      "  \"\"\"Entry point for launching an IPython kernel.\n"
     ]
    },
    {
     "data": {
      "text/plain": [
       "225      course0\n",
       "329     course12\n",
       "641      course5\n",
       "890      course3\n",
       "1016     course3\n",
       "1163     course8\n",
       "1388     course4\n",
       "1419     course5\n",
       "1467     course5\n",
       "1475     course5\n",
       "Name: course, dtype: object"
      ]
     },
     "execution_count": 39,
     "metadata": {},
     "output_type": "execute_result"
    }
   ],
   "source": [
    "new_test_df['course'] = new_test_df['course_id'].apply(lambda c: dict_course_id[c])\n",
    "new_test_df['course'][:10]"
   ]
  },
  {
   "cell_type": "code",
   "execution_count": 40,
   "metadata": {
    "scrolled": true
   },
   "outputs": [
    {
     "data": {
      "text/html": [
       "<div>\n",
       "<style scoped>\n",
       "    .dataframe tbody tr th:only-of-type {\n",
       "        vertical-align: middle;\n",
       "    }\n",
       "\n",
       "    .dataframe tbody tr th {\n",
       "        vertical-align: top;\n",
       "    }\n",
       "\n",
       "    .dataframe thead th {\n",
       "        text-align: right;\n",
       "    }\n",
       "</style>\n",
       "<table border=\"1\" class=\"dataframe\">\n",
       "  <thead>\n",
       "    <tr style=\"text-align: right;\">\n",
       "      <th></th>\n",
       "      <th>enrollment_id</th>\n",
       "      <th>username</th>\n",
       "      <th>course_id</th>\n",
       "      <th>user</th>\n",
       "      <th>course</th>\n",
       "    </tr>\n",
       "  </thead>\n",
       "  <tbody>\n",
       "    <tr>\n",
       "      <th>225</th>\n",
       "      <td>1974</td>\n",
       "      <td>viuKt4GgrX0rYL5EpHoxJbsiC9TblSuk</td>\n",
       "      <td>81UZtt1JJwBFYMj5u38WNKCSVA4IJSDv</td>\n",
       "      <td>user3</td>\n",
       "      <td>course0</td>\n",
       "    </tr>\n",
       "    <tr>\n",
       "      <th>329</th>\n",
       "      <td>2843</td>\n",
       "      <td>g3902agYIRHzac78MKVZlvljLMXXNpQ7</td>\n",
       "      <td>5Gyp41oLVo7Gg7vF4vpmggWP5MU70QO6</td>\n",
       "      <td>user16</td>\n",
       "      <td>course12</td>\n",
       "    </tr>\n",
       "    <tr>\n",
       "      <th>641</th>\n",
       "      <td>5311</td>\n",
       "      <td>SFbTZDEo0JTOG7VHfxeJz2kz3qSzlHq4</td>\n",
       "      <td>SpATywNh6bZuzm8s1ceuBUnMUAeoAHHw</td>\n",
       "      <td>user8</td>\n",
       "      <td>course5</td>\n",
       "    </tr>\n",
       "    <tr>\n",
       "      <th>890</th>\n",
       "      <td>7447</td>\n",
       "      <td>35E85h2ExBPeTd1VmxNX0GKo8krIMsCP</td>\n",
       "      <td>H2lDW05SyKnwntZ6Fora76aPAEswcMa5</td>\n",
       "      <td>user28</td>\n",
       "      <td>course3</td>\n",
       "    </tr>\n",
       "    <tr>\n",
       "      <th>1016</th>\n",
       "      <td>8738</td>\n",
       "      <td>yZ9FndAKqVsKwZtO1B2JJJblefdbhZ02</td>\n",
       "      <td>H2lDW05SyKnwntZ6Fora76aPAEswcMa5</td>\n",
       "      <td>user2</td>\n",
       "      <td>course3</td>\n",
       "    </tr>\n",
       "  </tbody>\n",
       "</table>\n",
       "</div>"
      ],
      "text/plain": [
       "      enrollment_id                          username  \\\n",
       "225            1974  viuKt4GgrX0rYL5EpHoxJbsiC9TblSuk   \n",
       "329            2843  g3902agYIRHzac78MKVZlvljLMXXNpQ7   \n",
       "641            5311  SFbTZDEo0JTOG7VHfxeJz2kz3qSzlHq4   \n",
       "890            7447  35E85h2ExBPeTd1VmxNX0GKo8krIMsCP   \n",
       "1016           8738  yZ9FndAKqVsKwZtO1B2JJJblefdbhZ02   \n",
       "\n",
       "                             course_id    user    course  \n",
       "225   81UZtt1JJwBFYMj5u38WNKCSVA4IJSDv   user3   course0  \n",
       "329   5Gyp41oLVo7Gg7vF4vpmggWP5MU70QO6  user16  course12  \n",
       "641   SpATywNh6bZuzm8s1ceuBUnMUAeoAHHw   user8   course5  \n",
       "890   H2lDW05SyKnwntZ6Fora76aPAEswcMa5  user28   course3  \n",
       "1016  H2lDW05SyKnwntZ6Fora76aPAEswcMa5   user2   course3  "
      ]
     },
     "execution_count": 40,
     "metadata": {},
     "output_type": "execute_result"
    }
   ],
   "source": [
    "new_test_df.head()"
   ]
  },
  {
   "cell_type": "code",
   "execution_count": 41,
   "metadata": {},
   "outputs": [],
   "source": [
    "new_test_df.to_csv('./test/enroll_test.csv')"
   ]
  },
  {
   "cell_type": "code",
   "execution_count": null,
   "metadata": {},
   "outputs": [],
   "source": []
  }
 ],
 "metadata": {
  "kernelspec": {
   "display_name": "Python 3",
   "language": "python",
   "name": "python3"
  },
  "language_info": {
   "codemirror_mode": {
    "name": "ipython",
    "version": 3
   },
   "file_extension": ".py",
   "mimetype": "text/x-python",
   "name": "python",
   "nbconvert_exporter": "python",
   "pygments_lexer": "ipython3",
   "version": "3.6.9"
  }
 },
 "nbformat": 4,
 "nbformat_minor": 2
}
