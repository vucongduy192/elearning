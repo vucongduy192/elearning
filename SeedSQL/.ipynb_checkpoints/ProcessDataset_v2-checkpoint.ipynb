{
 "cells": [
  {
   "cell_type": "code",
   "execution_count": 1,
   "metadata": {},
   "outputs": [],
   "source": [
    "# !pip3 install names"
   ]
  },
  {
   "cell_type": "code",
   "execution_count": 2,
   "metadata": {},
   "outputs": [],
   "source": [
    "import pandas as pd\n",
    "import numpy as np\n",
    "import names"
   ]
  },
  {
   "cell_type": "code",
   "execution_count": 3,
   "metadata": {},
   "outputs": [],
   "source": [
    "TOP_COURSE = 37 # number course to get\n",
    "TOP_ENROLL = 4 # users had enrolled equal or more than 5 times"
   ]
  },
  {
   "cell_type": "markdown",
   "metadata": {},
   "source": [
    "### Filter training enrollment by TOP_COURSE and TOP_ENROLL"
   ]
  },
  {
   "cell_type": "code",
   "execution_count": 4,
   "metadata": {},
   "outputs": [
    {
     "data": {
      "text/plain": [
       "72395"
      ]
     },
     "execution_count": 4,
     "metadata": {},
     "output_type": "execute_result"
    }
   ],
   "source": [
    "# Total records\n",
    "train_df = pd.read_csv('./train/enrollment_train.csv')\n",
    "len(train_df)"
   ]
  },
  {
   "cell_type": "code",
   "execution_count": 5,
   "metadata": {},
   "outputs": [
    {
     "data": {
      "text/html": [
       "<div>\n",
       "<style scoped>\n",
       "    .dataframe tbody tr th:only-of-type {\n",
       "        vertical-align: middle;\n",
       "    }\n",
       "\n",
       "    .dataframe tbody tr th {\n",
       "        vertical-align: top;\n",
       "    }\n",
       "\n",
       "    .dataframe thead th {\n",
       "        text-align: right;\n",
       "    }\n",
       "</style>\n",
       "<table border=\"1\" class=\"dataframe\">\n",
       "  <thead>\n",
       "    <tr style=\"text-align: right;\">\n",
       "      <th></th>\n",
       "      <th>enrollment_id</th>\n",
       "      <th>username</th>\n",
       "      <th>course_id</th>\n",
       "    </tr>\n",
       "  </thead>\n",
       "  <tbody>\n",
       "    <tr>\n",
       "      <th>0</th>\n",
       "      <td>1</td>\n",
       "      <td>9Uee7oEuuMmgPx2IzPfFkWgkHZyPbWr0</td>\n",
       "      <td>DPnLzkJJqOOPRJfBxIHbQEERiYHu5ila</td>\n",
       "    </tr>\n",
       "    <tr>\n",
       "      <th>1</th>\n",
       "      <td>4</td>\n",
       "      <td>FIHlppZyoq8muPbdVxS44gfvceX9zvU7</td>\n",
       "      <td>DPnLzkJJqOOPRJfBxIHbQEERiYHu5ila</td>\n",
       "    </tr>\n",
       "    <tr>\n",
       "      <th>2</th>\n",
       "      <td>5</td>\n",
       "      <td>p1Mp7WkVfzUijX0peVQKSHbgd5pXyl4c</td>\n",
       "      <td>7GRhBDsirIGkRZBtSMEzNTyDr2JQm4xx</td>\n",
       "    </tr>\n",
       "    <tr>\n",
       "      <th>3</th>\n",
       "      <td>7</td>\n",
       "      <td>I1KwJ6EdCZnEPLfC8Q7yWpIkLOHn7h02</td>\n",
       "      <td>7GRhBDsirIGkRZBtSMEzNTyDr2JQm4xx</td>\n",
       "    </tr>\n",
       "    <tr>\n",
       "      <th>4</th>\n",
       "      <td>13</td>\n",
       "      <td>hDbSkVrFRj9Ryk3c5E1JYJQLyxm4jLRb</td>\n",
       "      <td>5X6FeZozNMgE2VRi3MJYjkkFK8SETtu2</td>\n",
       "    </tr>\n",
       "  </tbody>\n",
       "</table>\n",
       "</div>"
      ],
      "text/plain": [
       "   enrollment_id                          username  \\\n",
       "0              1  9Uee7oEuuMmgPx2IzPfFkWgkHZyPbWr0   \n",
       "1              4  FIHlppZyoq8muPbdVxS44gfvceX9zvU7   \n",
       "2              5  p1Mp7WkVfzUijX0peVQKSHbgd5pXyl4c   \n",
       "3              7  I1KwJ6EdCZnEPLfC8Q7yWpIkLOHn7h02   \n",
       "4             13  hDbSkVrFRj9Ryk3c5E1JYJQLyxm4jLRb   \n",
       "\n",
       "                          course_id  \n",
       "0  DPnLzkJJqOOPRJfBxIHbQEERiYHu5ila  \n",
       "1  DPnLzkJJqOOPRJfBxIHbQEERiYHu5ila  \n",
       "2  7GRhBDsirIGkRZBtSMEzNTyDr2JQm4xx  \n",
       "3  7GRhBDsirIGkRZBtSMEzNTyDr2JQm4xx  \n",
       "4  5X6FeZozNMgE2VRi3MJYjkkFK8SETtu2  "
      ]
     },
     "execution_count": 5,
     "metadata": {},
     "output_type": "execute_result"
    }
   ],
   "source": [
    "train_df.head()"
   ]
  },
  {
   "cell_type": "code",
   "execution_count": 6,
   "metadata": {},
   "outputs": [
    {
     "data": {
      "text/plain": [
       "39"
      ]
     },
     "execution_count": 6,
     "metadata": {},
     "output_type": "execute_result"
    }
   ],
   "source": [
    "len(train_df.groupby('course_id').course_id)"
   ]
  },
  {
   "cell_type": "code",
   "execution_count": 7,
   "metadata": {},
   "outputs": [
    {
     "data": {
      "text/plain": [
       "53870"
      ]
     },
     "execution_count": 7,
     "metadata": {},
     "output_type": "execute_result"
    }
   ],
   "source": [
    "len(train_df.groupby('username').username)"
   ]
  },
  {
   "cell_type": "code",
   "execution_count": 8,
   "metadata": {},
   "outputs": [
    {
     "data": {
      "text/plain": [
       "(['81UZtt1JJwBFYMj5u38WNKCSVA4IJSDv',\n",
       "  'DPnLzkJJqOOPRJfBxIHbQEERiYHu5ila',\n",
       "  'I7Go4XwWgpjRJM8EZGEnBpkfSmBNOlsO',\n",
       "  'H2lDW05SyKnwntZ6Fora76aPAEswcMa5',\n",
       "  'AXUJZGmZ0xaYSWazu8RQ1G5c76ECT1Kd',\n",
       "  'SpATywNh6bZuzm8s1ceuBUnMUAeoAHHw',\n",
       "  'ykoe1cCWK134BJmfbNoPEenJOIWdtQOZ',\n",
       "  'shM3Yy9vxHn2aqjSYfQXOcwGo0hWh3MI',\n",
       "  '9Bd26pfDLvkPINwLnpaGcf0LrLUvY1Mz',\n",
       "  'V4tXq15GxHo2gaMpaJLZ3IGEkP949IbE',\n",
       "  'a2E7NQC7nZB7WHEhKGhKnKvUWtsLAQzh',\n",
       "  'NmbZ3BmS8V4pMg6oxXHWpqqMZCE1jvYt',\n",
       "  '5Gyp41oLVo7Gg7vF4vpmggWP5MU70QO6',\n",
       "  'xMd9DzNyUCTLRPVbwWVzf4vq06oqrTT1',\n",
       "  '1pvLqtotBsKv7QSOsLicJDQMHx3lui6d',\n",
       "  'A3fsA9Zfv1X2fVEQhTw51lKENdNrEqT3',\n",
       "  '3cnZpv6ReApmCaZyaQwi2izDZxVRdC01',\n",
       "  'fbPkOYLVPtPgIt0MxizjfFJov3JbHyAi',\n",
       "  'Er0RFawC4sHagDmmQZcBGBrzamLQcblZ',\n",
       "  '3VkHkmOtom3jM2wCu94xgzzu1d6Dn7or',\n",
       "  'nSfGxfEtzw5G72fVbfaowxsV46Pg1xIc',\n",
       "  'Wm3dddHSynJ76EJV6hyLYKGGRL0JF3YK',\n",
       "  'bWdj2GDclj5ofokWjzoa5jAwMkxCykd6',\n",
       "  'DABrJ6O4AotFwuAbfo1fuMj40VmMpPGX',\n",
       "  '7GRhBDsirIGkRZBtSMEzNTyDr2JQm4xx',\n",
       "  'mTmmr5zd8l4wXhwiULwjSmSbi9ktcFmV',\n",
       "  '9zpXzW9zCfU8KGBWkhlsGH8B8czISH4J',\n",
       "  'q6A6QG7qMpyNcznyT2XaIxnfNGkZRxXl',\n",
       "  'HbeAZjZFFQUe90oTP0RRO0PEtRAqU3kK',\n",
       "  '9Mq1P5hrrLw6Bh9X4W4ZjisQJDdxjz9x',\n",
       "  'G8EPVSXsOYB5YQWZGiz1aVq5Pgr2GrQu',\n",
       "  'X78EhlW2JxwO1I6S3U4yZVwkEQpKXLOj',\n",
       "  'TAYxxh39I2LZnftBpL0LfF2NxzrCKpkx',\n",
       "  'RXDvfPUBYFlVdlueBFbLW0mhhAyGEqpt',\n",
       "  'tXbz2ZYaRyb2ZsWUBPoYzAmisOhHQrYl',\n",
       "  '5X6FeZozNMgE2VRi3MJYjkkFK8SETtu2',\n",
       "  'gvEwgd64UX4t3K7ftZwXiMkFuxFUAqQE'],\n",
       " range(0, 37))"
      ]
     },
     "execution_count": 8,
     "metadata": {},
     "output_type": "execute_result"
    }
   ],
   "source": [
    "top_course = train_df.groupby('course_id').course_id.agg(['count']).reset_index().sort_values(by='count', ascending=False)\n",
    "top_course = top_course['course_id'][:TOP_COURSE].tolist()\n",
    "top_course, range(len(top_course))"
   ]
  },
  {
   "cell_type": "code",
   "execution_count": 9,
   "metadata": {
    "scrolled": true
   },
   "outputs": [
    {
     "name": "stdout",
     "output_type": "stream",
     "text": [
      "71557\n"
     ]
    },
    {
     "data": {
      "text/html": [
       "<div>\n",
       "<style scoped>\n",
       "    .dataframe tbody tr th:only-of-type {\n",
       "        vertical-align: middle;\n",
       "    }\n",
       "\n",
       "    .dataframe tbody tr th {\n",
       "        vertical-align: top;\n",
       "    }\n",
       "\n",
       "    .dataframe thead th {\n",
       "        text-align: right;\n",
       "    }\n",
       "</style>\n",
       "<table border=\"1\" class=\"dataframe\">\n",
       "  <thead>\n",
       "    <tr style=\"text-align: right;\">\n",
       "      <th></th>\n",
       "      <th>enrollment_id</th>\n",
       "      <th>username</th>\n",
       "      <th>course_id</th>\n",
       "    </tr>\n",
       "  </thead>\n",
       "  <tbody>\n",
       "    <tr>\n",
       "      <th>0</th>\n",
       "      <td>1</td>\n",
       "      <td>9Uee7oEuuMmgPx2IzPfFkWgkHZyPbWr0</td>\n",
       "      <td>DPnLzkJJqOOPRJfBxIHbQEERiYHu5ila</td>\n",
       "    </tr>\n",
       "    <tr>\n",
       "      <th>1</th>\n",
       "      <td>4</td>\n",
       "      <td>FIHlppZyoq8muPbdVxS44gfvceX9zvU7</td>\n",
       "      <td>DPnLzkJJqOOPRJfBxIHbQEERiYHu5ila</td>\n",
       "    </tr>\n",
       "    <tr>\n",
       "      <th>2</th>\n",
       "      <td>5</td>\n",
       "      <td>p1Mp7WkVfzUijX0peVQKSHbgd5pXyl4c</td>\n",
       "      <td>7GRhBDsirIGkRZBtSMEzNTyDr2JQm4xx</td>\n",
       "    </tr>\n",
       "    <tr>\n",
       "      <th>3</th>\n",
       "      <td>7</td>\n",
       "      <td>I1KwJ6EdCZnEPLfC8Q7yWpIkLOHn7h02</td>\n",
       "      <td>7GRhBDsirIGkRZBtSMEzNTyDr2JQm4xx</td>\n",
       "    </tr>\n",
       "    <tr>\n",
       "      <th>4</th>\n",
       "      <td>13</td>\n",
       "      <td>hDbSkVrFRj9Ryk3c5E1JYJQLyxm4jLRb</td>\n",
       "      <td>5X6FeZozNMgE2VRi3MJYjkkFK8SETtu2</td>\n",
       "    </tr>\n",
       "  </tbody>\n",
       "</table>\n",
       "</div>"
      ],
      "text/plain": [
       "   enrollment_id                          username  \\\n",
       "0              1  9Uee7oEuuMmgPx2IzPfFkWgkHZyPbWr0   \n",
       "1              4  FIHlppZyoq8muPbdVxS44gfvceX9zvU7   \n",
       "2              5  p1Mp7WkVfzUijX0peVQKSHbgd5pXyl4c   \n",
       "3              7  I1KwJ6EdCZnEPLfC8Q7yWpIkLOHn7h02   \n",
       "4             13  hDbSkVrFRj9Ryk3c5E1JYJQLyxm4jLRb   \n",
       "\n",
       "                          course_id  \n",
       "0  DPnLzkJJqOOPRJfBxIHbQEERiYHu5ila  \n",
       "1  DPnLzkJJqOOPRJfBxIHbQEERiYHu5ila  \n",
       "2  7GRhBDsirIGkRZBtSMEzNTyDr2JQm4xx  \n",
       "3  7GRhBDsirIGkRZBtSMEzNTyDr2JQm4xx  \n",
       "4  5X6FeZozNMgE2VRi3MJYjkkFK8SETtu2  "
      ]
     },
     "execution_count": 9,
     "metadata": {},
     "output_type": "execute_result"
    }
   ],
   "source": [
    "new_train_df = train_df[train_df['course_id'].isin(top_course)]\n",
    "print(len(new_train_df))\n",
    "new_train_df.head()"
   ]
  },
  {
   "cell_type": "code",
   "execution_count": 10,
   "metadata": {},
   "outputs": [
    {
     "data": {
      "text/html": [
       "<div>\n",
       "<style scoped>\n",
       "    .dataframe tbody tr th:only-of-type {\n",
       "        vertical-align: middle;\n",
       "    }\n",
       "\n",
       "    .dataframe tbody tr th {\n",
       "        vertical-align: top;\n",
       "    }\n",
       "\n",
       "    .dataframe thead th {\n",
       "        text-align: right;\n",
       "    }\n",
       "</style>\n",
       "<table border=\"1\" class=\"dataframe\">\n",
       "  <thead>\n",
       "    <tr style=\"text-align: right;\">\n",
       "      <th></th>\n",
       "      <th>enrollment_id</th>\n",
       "      <th>username</th>\n",
       "      <th>course_id</th>\n",
       "    </tr>\n",
       "  </thead>\n",
       "  <tbody>\n",
       "    <tr>\n",
       "      <th>0</th>\n",
       "      <td>1</td>\n",
       "      <td>9Uee7oEuuMmgPx2IzPfFkWgkHZyPbWr0</td>\n",
       "      <td>DPnLzkJJqOOPRJfBxIHbQEERiYHu5ila</td>\n",
       "    </tr>\n",
       "    <tr>\n",
       "      <th>1</th>\n",
       "      <td>4</td>\n",
       "      <td>FIHlppZyoq8muPbdVxS44gfvceX9zvU7</td>\n",
       "      <td>DPnLzkJJqOOPRJfBxIHbQEERiYHu5ila</td>\n",
       "    </tr>\n",
       "    <tr>\n",
       "      <th>5</th>\n",
       "      <td>14</td>\n",
       "      <td>XOhIczT5nEeO52jMq1vN7QziDk8L2jnI</td>\n",
       "      <td>DPnLzkJJqOOPRJfBxIHbQEERiYHu5ila</td>\n",
       "    </tr>\n",
       "    <tr>\n",
       "      <th>6</th>\n",
       "      <td>18</td>\n",
       "      <td>b0Hk5D3sJulvyuC4JEm5kvAvOLAxswgQ</td>\n",
       "      <td>DPnLzkJJqOOPRJfBxIHbQEERiYHu5ila</td>\n",
       "    </tr>\n",
       "    <tr>\n",
       "      <th>7</th>\n",
       "      <td>20</td>\n",
       "      <td>BoK7CAUaCFqnLgmWLxeOHg8YkXUSeCtc</td>\n",
       "      <td>DPnLzkJJqOOPRJfBxIHbQEERiYHu5ila</td>\n",
       "    </tr>\n",
       "    <tr>\n",
       "      <th>...</th>\n",
       "      <td>...</td>\n",
       "      <td>...</td>\n",
       "      <td>...</td>\n",
       "    </tr>\n",
       "    <tr>\n",
       "      <th>70920</th>\n",
       "      <td>196955</td>\n",
       "      <td>5JwFy3LzvMAPj3PPVJsanD1801FDhYLS</td>\n",
       "      <td>DPnLzkJJqOOPRJfBxIHbQEERiYHu5ila</td>\n",
       "    </tr>\n",
       "    <tr>\n",
       "      <th>70931</th>\n",
       "      <td>196994</td>\n",
       "      <td>BDe3LY4LwNXANV689l0Qamfouhqdygxh</td>\n",
       "      <td>DPnLzkJJqOOPRJfBxIHbQEERiYHu5ila</td>\n",
       "    </tr>\n",
       "    <tr>\n",
       "      <th>70935</th>\n",
       "      <td>197002</td>\n",
       "      <td>U8vo2wOZC3Q8EW1kIl6iwoIzgmQUZ4u1</td>\n",
       "      <td>DPnLzkJJqOOPRJfBxIHbQEERiYHu5ila</td>\n",
       "    </tr>\n",
       "    <tr>\n",
       "      <th>70938</th>\n",
       "      <td>197009</td>\n",
       "      <td>8nwJGMvEWVLgnvDRJG8GJRGN3pQnQQ5v</td>\n",
       "      <td>DPnLzkJJqOOPRJfBxIHbQEERiYHu5ila</td>\n",
       "    </tr>\n",
       "    <tr>\n",
       "      <th>70947</th>\n",
       "      <td>197027</td>\n",
       "      <td>vVomSgkHkyw3sqrRqYKc3zE1eWaa2d4G</td>\n",
       "      <td>DPnLzkJJqOOPRJfBxIHbQEERiYHu5ila</td>\n",
       "    </tr>\n",
       "  </tbody>\n",
       "</table>\n",
       "<p>6241 rows × 3 columns</p>\n",
       "</div>"
      ],
      "text/plain": [
       "       enrollment_id                          username  \\\n",
       "0                  1  9Uee7oEuuMmgPx2IzPfFkWgkHZyPbWr0   \n",
       "1                  4  FIHlppZyoq8muPbdVxS44gfvceX9zvU7   \n",
       "5                 14  XOhIczT5nEeO52jMq1vN7QziDk8L2jnI   \n",
       "6                 18  b0Hk5D3sJulvyuC4JEm5kvAvOLAxswgQ   \n",
       "7                 20  BoK7CAUaCFqnLgmWLxeOHg8YkXUSeCtc   \n",
       "...              ...                               ...   \n",
       "70920         196955  5JwFy3LzvMAPj3PPVJsanD1801FDhYLS   \n",
       "70931         196994  BDe3LY4LwNXANV689l0Qamfouhqdygxh   \n",
       "70935         197002  U8vo2wOZC3Q8EW1kIl6iwoIzgmQUZ4u1   \n",
       "70938         197009  8nwJGMvEWVLgnvDRJG8GJRGN3pQnQQ5v   \n",
       "70947         197027  vVomSgkHkyw3sqrRqYKc3zE1eWaa2d4G   \n",
       "\n",
       "                              course_id  \n",
       "0      DPnLzkJJqOOPRJfBxIHbQEERiYHu5ila  \n",
       "1      DPnLzkJJqOOPRJfBxIHbQEERiYHu5ila  \n",
       "5      DPnLzkJJqOOPRJfBxIHbQEERiYHu5ila  \n",
       "6      DPnLzkJJqOOPRJfBxIHbQEERiYHu5ila  \n",
       "7      DPnLzkJJqOOPRJfBxIHbQEERiYHu5ila  \n",
       "...                                 ...  \n",
       "70920  DPnLzkJJqOOPRJfBxIHbQEERiYHu5ila  \n",
       "70931  DPnLzkJJqOOPRJfBxIHbQEERiYHu5ila  \n",
       "70935  DPnLzkJJqOOPRJfBxIHbQEERiYHu5ila  \n",
       "70938  DPnLzkJJqOOPRJfBxIHbQEERiYHu5ila  \n",
       "70947  DPnLzkJJqOOPRJfBxIHbQEERiYHu5ila  \n",
       "\n",
       "[6241 rows x 3 columns]"
      ]
     },
     "execution_count": 10,
     "metadata": {},
     "output_type": "execute_result"
    }
   ],
   "source": [
    "new_train_df[new_train_df['course_id']=='DPnLzkJJqOOPRJfBxIHbQEERiYHu5ila']"
   ]
  },
  {
   "cell_type": "code",
   "execution_count": 11,
   "metadata": {},
   "outputs": [
    {
     "data": {
      "text/plain": [
       "(1444, array(['9Uee7oEuuMmgPx2IzPfFkWgkHZyPbWr0',\n",
       "        'BoK7CAUaCFqnLgmWLxeOHg8YkXUSeCtc',\n",
       "        '2oTvbzieHn2y5oozeOgSnruqE6N0BtR5',\n",
       "        'l9KseRU4xYtwOzoILYmGcicF0iiXQqxl',\n",
       "        'KXi2lu4GlKmrO1lJTLg3t4l701rvNXNZ',\n",
       "        'FX39OUMp2fc5cOhN2hgQkfpLfm3Fwtwz',\n",
       "        'eakdJaYNzY2KmT602U8CscAjNHHpGkgl',\n",
       "        'tp9GLoYyljDV6mILQxrtrv1Iw4qcPl5Z',\n",
       "        'zVX5LPwTGC1SEitxSfv31cubNXKJSEc2',\n",
       "        'ah2KXEU3IJN3pCxNzFybzDR3Qrtpz7ty'], dtype=object))"
      ]
     },
     "execution_count": 11,
     "metadata": {},
     "output_type": "execute_result"
    }
   ],
   "source": [
    "# Total username had enrolled equals or more than 5 times\n",
    "greater5_username = new_train_df.groupby(['username']).filter(lambda x: len(x) >= TOP_ENROLL)\n",
    "unique_greater5_username = greater5_username.username.unique()\n",
    "len(unique_greater5_username), unique_greater5_username[:10]"
   ]
  },
  {
   "cell_type": "code",
   "execution_count": 12,
   "metadata": {},
   "outputs": [
    {
     "data": {
      "text/plain": [
       "7087"
      ]
     },
     "execution_count": 12,
     "metadata": {},
     "output_type": "execute_result"
    }
   ],
   "source": [
    "new_train_df = new_train_df[new_train_df['username'].isin(unique_greater5_username)]\n",
    "len(new_train_df)"
   ]
  },
  {
   "cell_type": "code",
   "execution_count": 13,
   "metadata": {},
   "outputs": [
    {
     "data": {
      "text/html": [
       "<div>\n",
       "<style scoped>\n",
       "    .dataframe tbody tr th:only-of-type {\n",
       "        vertical-align: middle;\n",
       "    }\n",
       "\n",
       "    .dataframe tbody tr th {\n",
       "        vertical-align: top;\n",
       "    }\n",
       "\n",
       "    .dataframe thead th {\n",
       "        text-align: right;\n",
       "    }\n",
       "</style>\n",
       "<table border=\"1\" class=\"dataframe\">\n",
       "  <thead>\n",
       "    <tr style=\"text-align: right;\">\n",
       "      <th></th>\n",
       "      <th>enrollment_id</th>\n",
       "      <th>username</th>\n",
       "      <th>course_id</th>\n",
       "    </tr>\n",
       "  </thead>\n",
       "  <tbody>\n",
       "    <tr>\n",
       "      <th>0</th>\n",
       "      <td>1</td>\n",
       "      <td>9Uee7oEuuMmgPx2IzPfFkWgkHZyPbWr0</td>\n",
       "      <td>DPnLzkJJqOOPRJfBxIHbQEERiYHu5ila</td>\n",
       "    </tr>\n",
       "    <tr>\n",
       "      <th>7</th>\n",
       "      <td>20</td>\n",
       "      <td>BoK7CAUaCFqnLgmWLxeOHg8YkXUSeCtc</td>\n",
       "      <td>DPnLzkJJqOOPRJfBxIHbQEERiYHu5ila</td>\n",
       "    </tr>\n",
       "    <tr>\n",
       "      <th>9</th>\n",
       "      <td>23</td>\n",
       "      <td>BoK7CAUaCFqnLgmWLxeOHg8YkXUSeCtc</td>\n",
       "      <td>AXUJZGmZ0xaYSWazu8RQ1G5c76ECT1Kd</td>\n",
       "    </tr>\n",
       "    <tr>\n",
       "      <th>11</th>\n",
       "      <td>28</td>\n",
       "      <td>BoK7CAUaCFqnLgmWLxeOHg8YkXUSeCtc</td>\n",
       "      <td>TAYxxh39I2LZnftBpL0LfF2NxzrCKpkx</td>\n",
       "    </tr>\n",
       "    <tr>\n",
       "      <th>15</th>\n",
       "      <td>49</td>\n",
       "      <td>2oTvbzieHn2y5oozeOgSnruqE6N0BtR5</td>\n",
       "      <td>7GRhBDsirIGkRZBtSMEzNTyDr2JQm4xx</td>\n",
       "    </tr>\n",
       "  </tbody>\n",
       "</table>\n",
       "</div>"
      ],
      "text/plain": [
       "    enrollment_id                          username  \\\n",
       "0               1  9Uee7oEuuMmgPx2IzPfFkWgkHZyPbWr0   \n",
       "7              20  BoK7CAUaCFqnLgmWLxeOHg8YkXUSeCtc   \n",
       "9              23  BoK7CAUaCFqnLgmWLxeOHg8YkXUSeCtc   \n",
       "11             28  BoK7CAUaCFqnLgmWLxeOHg8YkXUSeCtc   \n",
       "15             49  2oTvbzieHn2y5oozeOgSnruqE6N0BtR5   \n",
       "\n",
       "                           course_id  \n",
       "0   DPnLzkJJqOOPRJfBxIHbQEERiYHu5ila  \n",
       "7   DPnLzkJJqOOPRJfBxIHbQEERiYHu5ila  \n",
       "9   AXUJZGmZ0xaYSWazu8RQ1G5c76ECT1Kd  \n",
       "11  TAYxxh39I2LZnftBpL0LfF2NxzrCKpkx  \n",
       "15  7GRhBDsirIGkRZBtSMEzNTyDr2JQm4xx  "
      ]
     },
     "execution_count": 13,
     "metadata": {},
     "output_type": "execute_result"
    }
   ],
   "source": [
    "new_train_df.head()"
   ]
  },
  {
   "cell_type": "code",
   "execution_count": 14,
   "metadata": {},
   "outputs": [
    {
     "data": {
      "text/html": [
       "<div>\n",
       "<style scoped>\n",
       "    .dataframe tbody tr th:only-of-type {\n",
       "        vertical-align: middle;\n",
       "    }\n",
       "\n",
       "    .dataframe tbody tr th {\n",
       "        vertical-align: top;\n",
       "    }\n",
       "\n",
       "    .dataframe thead th {\n",
       "        text-align: right;\n",
       "    }\n",
       "</style>\n",
       "<table border=\"1\" class=\"dataframe\">\n",
       "  <thead>\n",
       "    <tr style=\"text-align: right;\">\n",
       "      <th></th>\n",
       "      <th>enrollment_id</th>\n",
       "      <th>username</th>\n",
       "      <th>course_id</th>\n",
       "    </tr>\n",
       "  </thead>\n",
       "  <tbody>\n",
       "    <tr>\n",
       "      <th>0</th>\n",
       "      <td>1</td>\n",
       "      <td>9Uee7oEuuMmgPx2IzPfFkWgkHZyPbWr0</td>\n",
       "      <td>DPnLzkJJqOOPRJfBxIHbQEERiYHu5ila</td>\n",
       "    </tr>\n",
       "    <tr>\n",
       "      <th>7</th>\n",
       "      <td>20</td>\n",
       "      <td>BoK7CAUaCFqnLgmWLxeOHg8YkXUSeCtc</td>\n",
       "      <td>DPnLzkJJqOOPRJfBxIHbQEERiYHu5ila</td>\n",
       "    </tr>\n",
       "    <tr>\n",
       "      <th>60</th>\n",
       "      <td>159</td>\n",
       "      <td>FX39OUMp2fc5cOhN2hgQkfpLfm3Fwtwz</td>\n",
       "      <td>DPnLzkJJqOOPRJfBxIHbQEERiYHu5ila</td>\n",
       "    </tr>\n",
       "    <tr>\n",
       "      <th>65</th>\n",
       "      <td>186</td>\n",
       "      <td>eakdJaYNzY2KmT602U8CscAjNHHpGkgl</td>\n",
       "      <td>DPnLzkJJqOOPRJfBxIHbQEERiYHu5ila</td>\n",
       "    </tr>\n",
       "    <tr>\n",
       "      <th>86</th>\n",
       "      <td>245</td>\n",
       "      <td>zVX5LPwTGC1SEitxSfv31cubNXKJSEc2</td>\n",
       "      <td>DPnLzkJJqOOPRJfBxIHbQEERiYHu5ila</td>\n",
       "    </tr>\n",
       "    <tr>\n",
       "      <th>...</th>\n",
       "      <td>...</td>\n",
       "      <td>...</td>\n",
       "      <td>...</td>\n",
       "    </tr>\n",
       "    <tr>\n",
       "      <th>70668</th>\n",
       "      <td>196259</td>\n",
       "      <td>daIQdEkCKmllniXrj4OaClrzUCm1oKIb</td>\n",
       "      <td>DPnLzkJJqOOPRJfBxIHbQEERiYHu5ila</td>\n",
       "    </tr>\n",
       "    <tr>\n",
       "      <th>70710</th>\n",
       "      <td>196359</td>\n",
       "      <td>Io5gLr8QOxaBw8nFReloAXOpt3IlZ5WE</td>\n",
       "      <td>DPnLzkJJqOOPRJfBxIHbQEERiYHu5ila</td>\n",
       "    </tr>\n",
       "    <tr>\n",
       "      <th>70715</th>\n",
       "      <td>196369</td>\n",
       "      <td>nV86nhQ7hJG7k83qAXvGwRzPT357EJhH</td>\n",
       "      <td>DPnLzkJJqOOPRJfBxIHbQEERiYHu5ila</td>\n",
       "    </tr>\n",
       "    <tr>\n",
       "      <th>70775</th>\n",
       "      <td>196544</td>\n",
       "      <td>j79CPp6e09l3A1MeqgSV5ajYlxbk9Ixy</td>\n",
       "      <td>DPnLzkJJqOOPRJfBxIHbQEERiYHu5ila</td>\n",
       "    </tr>\n",
       "    <tr>\n",
       "      <th>70793</th>\n",
       "      <td>196602</td>\n",
       "      <td>KYLGj0LJWlbOKu0N6ntmca4SUIisJJd9</td>\n",
       "      <td>DPnLzkJJqOOPRJfBxIHbQEERiYHu5ila</td>\n",
       "    </tr>\n",
       "  </tbody>\n",
       "</table>\n",
       "<p>291 rows × 3 columns</p>\n",
       "</div>"
      ],
      "text/plain": [
       "       enrollment_id                          username  \\\n",
       "0                  1  9Uee7oEuuMmgPx2IzPfFkWgkHZyPbWr0   \n",
       "7                 20  BoK7CAUaCFqnLgmWLxeOHg8YkXUSeCtc   \n",
       "60               159  FX39OUMp2fc5cOhN2hgQkfpLfm3Fwtwz   \n",
       "65               186  eakdJaYNzY2KmT602U8CscAjNHHpGkgl   \n",
       "86               245  zVX5LPwTGC1SEitxSfv31cubNXKJSEc2   \n",
       "...              ...                               ...   \n",
       "70668         196259  daIQdEkCKmllniXrj4OaClrzUCm1oKIb   \n",
       "70710         196359  Io5gLr8QOxaBw8nFReloAXOpt3IlZ5WE   \n",
       "70715         196369  nV86nhQ7hJG7k83qAXvGwRzPT357EJhH   \n",
       "70775         196544  j79CPp6e09l3A1MeqgSV5ajYlxbk9Ixy   \n",
       "70793         196602  KYLGj0LJWlbOKu0N6ntmca4SUIisJJd9   \n",
       "\n",
       "                              course_id  \n",
       "0      DPnLzkJJqOOPRJfBxIHbQEERiYHu5ila  \n",
       "7      DPnLzkJJqOOPRJfBxIHbQEERiYHu5ila  \n",
       "60     DPnLzkJJqOOPRJfBxIHbQEERiYHu5ila  \n",
       "65     DPnLzkJJqOOPRJfBxIHbQEERiYHu5ila  \n",
       "86     DPnLzkJJqOOPRJfBxIHbQEERiYHu5ila  \n",
       "...                                 ...  \n",
       "70668  DPnLzkJJqOOPRJfBxIHbQEERiYHu5ila  \n",
       "70710  DPnLzkJJqOOPRJfBxIHbQEERiYHu5ila  \n",
       "70715  DPnLzkJJqOOPRJfBxIHbQEERiYHu5ila  \n",
       "70775  DPnLzkJJqOOPRJfBxIHbQEERiYHu5ila  \n",
       "70793  DPnLzkJJqOOPRJfBxIHbQEERiYHu5ila  \n",
       "\n",
       "[291 rows x 3 columns]"
      ]
     },
     "execution_count": 14,
     "metadata": {},
     "output_type": "execute_result"
    }
   ],
   "source": [
    "new_train_df[new_train_df['course_id']=='DPnLzkJJqOOPRJfBxIHbQEERiYHu5ila']"
   ]
  },
  {
   "cell_type": "code",
   "execution_count": 15,
   "metadata": {},
   "outputs": [
    {
     "data": {
      "text/plain": [
       "(37, 1444)"
      ]
     },
     "execution_count": 15,
     "metadata": {},
     "output_type": "execute_result"
    }
   ],
   "source": [
    "len(top_course), len(unique_greater5_username)"
   ]
  },
  {
   "cell_type": "markdown",
   "metadata": {},
   "source": [
    "### New dataset"
   ]
  },
  {
   "cell_type": "code",
   "execution_count": 16,
   "metadata": {},
   "outputs": [],
   "source": [
    "sample_dict = {\n",
    "    'Công nghệ phần mềm': [\n",
    "        'Thiết kế giao diện người dùng',\n",
    "        'Kiểm thử và đảm bảo chất lượng phần mềm',\n",
    "        'Kiến trúc phần mềm',\n",
    "        'Phân tích và thiết kế hướng đối tượng',\n",
    "        'Quản lý dự án phần mềm',\n",
    "    ],\n",
    "    'Toán học': [        \n",
    "        'Giải tích',\n",
    "        'Tư duy toán học',\n",
    "        'Đại số tuyến tính',\n",
    "        'Lý thuyết trò chơi',\n",
    "    ],\n",
    "    'Khoa học máy tính': [        \n",
    "        'Trí tuệ nhân tạo',\n",
    "        'Chương trình dịch',\n",
    "        'Xử lý ảnh',\n",
    "        'Xử lý ngôn ngữ tự nhiên',\n",
    "    ],\n",
    "    'Ngôn ngữ': [\n",
    "        'Nhập môn tiếng Nhật',\n",
    "        'Tiếng Anh giao tiếp',\n",
    "    ],\n",
    "    'Mạng và truyền thông': [        \n",
    "        'Lập trình mạng',\n",
    "        'Phát triển ứng dụng Web',\n",
    "        'An ninh mạng',\n",
    "    ],\n",
    "    'Kinh tế học cơ bản': [\n",
    "        'Kinh tế tiền tệ và ngân hàng',\n",
    "        'Nguyên tắc kinh tế vi mô',\n",
    "        'Khái niệm cơ bản về giao dịch',\n",
    "        'Cơ sở kinh doanh',\n",
    "        'Thị trường tài chính',\n",
    "    ],\n",
    "    'Marketing' : [\n",
    "        'Giới thiệu về marketing',\n",
    "        'Marketing trong thế giới thực',\n",
    "        'Tiếp thị kỹ thuật số',\n",
    "    ],\n",
    "    'Lịch sử': [\n",
    "        'Lịch sử Việt Nam cận đại',\n",
    "        'Chiến tranh thế giới thứ 1',\n",
    "        'Chiến tranh thế giới thứ 2',\n",
    "        'Văn hóa Việt Nam',\n",
    "        'Lịch sử Hà Nội',\n",
    "    ],\n",
    "    'Sức khỏe và đời sống': [\n",
    "        'Dinh dưỡng cho trẻ',\n",
    "        'Tâm lý xã hội',\n",
    "        'Bệnh tiểu đường',\n",
    "    ],\n",
    "    'Nghệ thuật': [\n",
    "        'Giới thiệu về kiến trúc',\n",
    "        'Nhạc truyền thống',\n",
    "        'Hội họa',\n",
    "    ]\n",
    "}\n",
    "\n",
    "sample_dict_en = {\n",
    "    'Software Engineering': [\n",
    "        'Human Interface',\n",
    "        'Software Testing Techniques',\n",
    "        'Software Architecture',\n",
    "        'Object Oriented Programming',\n",
    "        'Software Project Management ',\n",
    "    ],\n",
    "    'Math and Logic': [        \n",
    "        'Mathematical Analysis',\n",
    "        'Mathematical Thinking',\n",
    "        'Linear Algebra',\n",
    "        'Game Theory',\n",
    "    ],\n",
    "    'Computer Science': [        \n",
    "        'Artificial Intelligence',\n",
    "        'Compiler Programing',\n",
    "        'Image Processing',\n",
    "        'Natural Language Processing',\n",
    "    ],\n",
    "    'Language': [\n",
    "        'Introduction to Japanese',\n",
    "        'Communication English',\n",
    "    ],\n",
    "    'Communications and Computer Networks': [        \n",
    "        'Network Programming',\n",
    "        'Website Development',\n",
    "        'Network Security',\n",
    "    ],\n",
    "    'Economic': [\n",
    "        'Introduction to Bank',\n",
    "        'Micro Economic',\n",
    "        'Introduction to Transactional',\n",
    "        'Business Model',\n",
    "        'Financial Markets',\n",
    "    ],\n",
    "    'Marketing' : [\n",
    "        'Introduction to marketing',\n",
    "        'Marketing in the World',\n",
    "        'Digital mMkerting',\n",
    "    ],\n",
    "    'History': [\n",
    "        'History of Vietnam',\n",
    "        '1st World War',\n",
    "        '2nd World War',\n",
    "        'Vietnamese culture',\n",
    "        'History of Ha Noi',\n",
    "    ],\n",
    "    'Health': [\n",
    "        'Children Nutrition',\n",
    "        'Psychology',\n",
    "        'Healthcare Management',\n",
    "    ],\n",
    "    'Arts and Humanities': [\n",
    "        'Introdution to Architect',\n",
    "        'Traditional music',\n",
    "        'Painting',\n",
    "    ]\n",
    "}\n",
    "\n",
    "\n",
    "courses_data = {\n",
    "    'category': [],\n",
    "    'course': [],\n",
    "    'category_en': [],\n",
    "    'course_en': [],\n",
    "}\n",
    "\n",
    "for category, courses in sample_dict_en.items():\n",
    "    for course in courses:\n",
    "        courses_data['category_en'].append(category)\n",
    "        courses_data['course_en'].append(course)\n",
    "\n",
    "for category, courses in sample_dict.items():\n",
    "    for course in courses:\n",
    "        courses_data['category'].append(category)\n",
    "        courses_data['course'].append(course)\n",
    "courses_data_df = pd.DataFrame(courses_data, columns= ['category', 'course', 'category_en', 'course_en'])\n",
    "courses_data_df.to_csv('./courses.csv', index = False, header=True)"
   ]
  },
  {
   "cell_type": "code",
   "execution_count": 17,
   "metadata": {},
   "outputs": [
    {
     "name": "stdout",
     "output_type": "stream",
     "text": [
      "['Công nghệ phần mềm', 'Khoa học máy tính', 'Kinh tế học cơ bản', 'Lịch sử', 'Marketing', 'Mạng và truyền thông', 'Nghệ thuật', 'Ngôn ngữ', 'Sức khỏe và đời sống', 'Toán học']\n",
      "Công nghệ phần mềm----Khoa học máy tính----0.9\n",
      "Công nghệ phần mềm----Kinh tế học cơ bản----0.1\n",
      "Công nghệ phần mềm----Lịch sử----0.1\n",
      "Công nghệ phần mềm----Marketing----0.1\n",
      "Công nghệ phần mềm----Mạng và truyền thông----0.9\n",
      "Công nghệ phần mềm----Nghệ thuật----0.1\n",
      "Công nghệ phần mềm----Ngôn ngữ----0.1\n",
      "Công nghệ phần mềm----Sức khỏe và đời sống----0.1\n",
      "Công nghệ phần mềm----Toán học----0.5\n",
      "Khoa học máy tính----Kinh tế học cơ bản----0.1\n",
      "Khoa học máy tính----Lịch sử----0.1\n",
      "Khoa học máy tính----Marketing----0.5\n",
      "Khoa học máy tính----Mạng và truyền thông----0.9\n",
      "Khoa học máy tính----Nghệ thuật----0.1\n",
      "Khoa học máy tính----Ngôn ngữ----0.1\n",
      "Khoa học máy tính----Sức khỏe và đời sống----0.1\n",
      "Khoa học máy tính----Toán học----0.5\n",
      "Kinh tế học cơ bản----Lịch sử----0.3\n",
      "Kinh tế học cơ bản----Marketing----0.9\n",
      "Kinh tế học cơ bản----Mạng và truyền thông----0.1\n",
      "Kinh tế học cơ bản----Nghệ thuật----0.1\n",
      "Kinh tế học cơ bản----Ngôn ngữ----0.3\n",
      "Kinh tế học cơ bản----Sức khỏe và đời sống----0.1\n",
      "Kinh tế học cơ bản----Toán học----0.5\n",
      "Lịch sử----Marketing----0.1\n",
      "Lịch sử----Mạng và truyền thông----0.1\n",
      "Lịch sử----Nghệ thuật----0.5\n",
      "Lịch sử----Ngôn ngữ----0.5\n",
      "Lịch sử----Sức khỏe và đời sống----0.1\n",
      "Lịch sử----Toán học----0.1\n",
      "Marketing----Mạng và truyền thông----0.9\n",
      "Marketing----Nghệ thuật----0.5\n",
      "Marketing----Ngôn ngữ----0.5\n",
      "Marketing----Sức khỏe và đời sống----0.1\n",
      "Marketing----Toán học----0.1\n",
      "Mạng và truyền thông----Nghệ thuật----0.1\n",
      "Mạng và truyền thông----Ngôn ngữ----0.1\n",
      "Mạng và truyền thông----Sức khỏe và đời sống----0.1\n",
      "Mạng và truyền thông----Toán học----0.5\n",
      "Nghệ thuật----Ngôn ngữ----0.5\n",
      "Nghệ thuật----Sức khỏe và đời sống----0.1\n",
      "Nghệ thuật----Toán học----0.1\n",
      "Ngôn ngữ----Sức khỏe và đời sống----0.1\n",
      "Ngôn ngữ----Toán học----0.1\n",
      "Sức khỏe và đời sống----Toán học----0.1\n"
     ]
    }
   ],
   "source": [
    "categories = list(sample_dict.keys())\n",
    "categories.sort()\n",
    "print(categories)\n",
    "\n",
    "defaut_categories = categories.copy()\n",
    "weights = [\n",
    "    0.9, 0.1, 0.1, 0.1, 0.9, 0.1, 0.1, 0.1, 0.5,\n",
    "    0.1, 0.1, 0.5, 0.9, 0.1, 0.1, 0.1, 0.5,\n",
    "    0.3, 0.9, 0.1, 0.1, 0.3, 0.1, 0.5,\n",
    "    0.1, 0.1, 0.5, 0.5, 0.1, 0.1,\n",
    "    0.9, 0.5, 0.5, 0.1, 0.1,\n",
    "    0.1, 0.1, 0.1, 0.5,\n",
    "    0.5, 0.1, 0.1,\n",
    "    0.1, 0.1,\n",
    "    0.1,\n",
    "]\n",
    "\n",
    "rules_data = {\n",
    "    'c_from': [],\n",
    "    'c_to': [],\n",
    "    'weight': weights\n",
    "}\n",
    "\n",
    "for c_from in defaut_categories:\n",
    "    categories.pop(0)\n",
    "    if len(categories) == 0:\n",
    "        break\n",
    "    for c_to in categories:\n",
    "        print(c_from, c_to, weights[0], sep='----')\n",
    "        rules_data['c_from'].append(c_from)\n",
    "        rules_data['c_to'].append(c_to)\n",
    "        rules_data['weight'].append(weights[0])\n",
    "        weights.pop(0)\n",
    "\n",
    "\n",
    "rules_data_df = pd.DataFrame(rules_data, columns= ['c_from', 'c_to', 'weight'])\n",
    "rules_data_df.to_csv('./rules.csv', index = False, header=True)"
   ]
  },
  {
   "cell_type": "code",
   "execution_count": 18,
   "metadata": {},
   "outputs": [
    {
     "data": {
      "text/plain": [
       "1444"
      ]
     },
     "execution_count": 18,
     "metadata": {},
     "output_type": "execute_result"
    }
   ],
   "source": [
    "username = new_train_df.username.unique()\n",
    "len(username)"
   ]
  },
  {
   "cell_type": "code",
   "execution_count": 19,
   "metadata": {},
   "outputs": [],
   "source": [
    "new_username = list(['user{}'.format(i+1) for i in range(len(username))])\n",
    "new_name = list([names.get_full_name() for i in range(len(username))])\n",
    "\n",
    "dict_username = dict(zip(username, new_username))\n",
    "len(new_username), new_username[:10], new_name[:10]\n",
    "\n",
    "users_data = {\n",
    "    'user': new_username,\n",
    "    'name': new_name\n",
    "}\n",
    "users_data_df = pd.DataFrame(users_data, columns= ['user', 'name'])\n",
    "users_data_df.to_csv('./users.csv', index = False, header=True)"
   ]
  },
  {
   "cell_type": "code",
   "execution_count": 20,
   "metadata": {},
   "outputs": [
    {
     "data": {
      "text/plain": [
       "(37,\n",
       " ['81UZtt1JJwBFYMj5u38WNKCSVA4IJSDv',\n",
       "  'DPnLzkJJqOOPRJfBxIHbQEERiYHu5ila',\n",
       "  'I7Go4XwWgpjRJM8EZGEnBpkfSmBNOlsO',\n",
       "  'H2lDW05SyKnwntZ6Fora76aPAEswcMa5',\n",
       "  'AXUJZGmZ0xaYSWazu8RQ1G5c76ECT1Kd',\n",
       "  'SpATywNh6bZuzm8s1ceuBUnMUAeoAHHw',\n",
       "  'ykoe1cCWK134BJmfbNoPEenJOIWdtQOZ',\n",
       "  'shM3Yy9vxHn2aqjSYfQXOcwGo0hWh3MI',\n",
       "  '9Bd26pfDLvkPINwLnpaGcf0LrLUvY1Mz',\n",
       "  'V4tXq15GxHo2gaMpaJLZ3IGEkP949IbE'],\n",
       " ['Thiết kế giao diện người dùng',\n",
       "  'Kiểm thử và đảm bảo chất lượng phần mềm',\n",
       "  'Kiến trúc phần mềm',\n",
       "  'Phân tích và thiết kế hướng đối tượng',\n",
       "  'Quản lý dự án phần mềm',\n",
       "  'Giải tích',\n",
       "  'Tư duy toán học',\n",
       "  'Đại số tuyến tính',\n",
       "  'Lý thuyết trò chơi',\n",
       "  'Trí tuệ nhân tạo'])"
      ]
     },
     "execution_count": 20,
     "metadata": {},
     "output_type": "execute_result"
    }
   ],
   "source": [
    "course_id = top_course\n",
    "sample_course = np.hstack(list(sample_dict.values()))\n",
    "len(sample_course), sample_course, range(len(course_id))\n",
    "new_course_id = list([sample_course[i] for i in range(len(course_id))])\n",
    "\n",
    "dict_course_id = dict(zip(course_id, new_course_id))\n",
    "len(course_id), course_id[:10], new_course_id[:10]"
   ]
  },
  {
   "cell_type": "code",
   "execution_count": 21,
   "metadata": {},
   "outputs": [
    {
     "data": {
      "text/plain": [
       "(37, 37)"
      ]
     },
     "execution_count": 21,
     "metadata": {},
     "output_type": "execute_result"
    }
   ],
   "source": [
    "len(sample_course), len(course_id)"
   ]
  },
  {
   "cell_type": "code",
   "execution_count": 22,
   "metadata": {},
   "outputs": [
    {
     "data": {
      "text/plain": [
       "['Thiết kế giao diện người dùng',\n",
       " 'Kiểm thử và đảm bảo chất lượng phần mềm',\n",
       " 'Kiến trúc phần mềm',\n",
       " 'Phân tích và thiết kế hướng đối tượng',\n",
       " 'Quản lý dự án phần mềm',\n",
       " 'Giải tích',\n",
       " 'Tư duy toán học',\n",
       " 'Đại số tuyến tính',\n",
       " 'Lý thuyết trò chơi',\n",
       " 'Trí tuệ nhân tạo',\n",
       " 'Chương trình dịch',\n",
       " 'Xử lý ảnh',\n",
       " 'Xử lý ngôn ngữ tự nhiên',\n",
       " 'Nhập môn tiếng Nhật',\n",
       " 'Tiếng Anh giao tiếp',\n",
       " 'Lập trình mạng',\n",
       " 'Phát triển ứng dụng Web',\n",
       " 'An ninh mạng',\n",
       " 'Kinh tế tiền tệ và ngân hàng',\n",
       " 'Nguyên tắc kinh tế vi mô',\n",
       " 'Khái niệm cơ bản về giao dịch',\n",
       " 'Cơ sở kinh doanh',\n",
       " 'Thị trường tài chính',\n",
       " 'Giới thiệu về marketing',\n",
       " 'Marketing trong thế giới thực',\n",
       " 'Tiếp thị kỹ thuật số',\n",
       " 'Lịch sử Việt Nam cận đại',\n",
       " 'Chiến tranh thế giới thứ 1',\n",
       " 'Chiến tranh thế giới thứ 2',\n",
       " 'Văn hóa Việt Nam',\n",
       " 'Lịch sử Hà Nội',\n",
       " 'Dinh dưỡng cho trẻ',\n",
       " 'Tâm lý xã hội',\n",
       " 'Bệnh tiểu đường',\n",
       " 'Giới thiệu về kiến trúc',\n",
       " 'Nhạc truyền thống',\n",
       " 'Hội họa']"
      ]
     },
     "execution_count": 22,
     "metadata": {},
     "output_type": "execute_result"
    }
   ],
   "source": [
    "new_course_id"
   ]
  },
  {
   "cell_type": "code",
   "execution_count": 23,
   "metadata": {},
   "outputs": [
    {
     "data": {
      "text/plain": [
       "0     user1\n",
       "7     user2\n",
       "9     user2\n",
       "11    user2\n",
       "15    user3\n",
       "18    user4\n",
       "34    user5\n",
       "60    user6\n",
       "65    user7\n",
       "72    user8\n",
       "Name: user, dtype: object"
      ]
     },
     "execution_count": 23,
     "metadata": {},
     "output_type": "execute_result"
    }
   ],
   "source": [
    "new_train_df['user'] = new_train_df['username'].apply(lambda u: dict_username[u])\n",
    "new_train_df['user'][:10]"
   ]
  },
  {
   "cell_type": "code",
   "execution_count": 24,
   "metadata": {},
   "outputs": [
    {
     "data": {
      "text/plain": [
       "0     Kiểm thử và đảm bảo chất lượng phần mềm\n",
       "7     Kiểm thử và đảm bảo chất lượng phần mềm\n",
       "9                      Quản lý dự án phần mềm\n",
       "11                              Tâm lý xã hội\n",
       "15              Marketing trong thế giới thực\n",
       "18              Marketing trong thế giới thực\n",
       "34              Marketing trong thế giới thực\n",
       "60    Kiểm thử và đảm bảo chất lượng phần mềm\n",
       "65    Kiểm thử và đảm bảo chất lượng phần mềm\n",
       "72                          Nhạc truyền thống\n",
       "Name: course, dtype: object"
      ]
     },
     "execution_count": 24,
     "metadata": {},
     "output_type": "execute_result"
    }
   ],
   "source": [
    "new_train_df['course'] = new_train_df['course_id'].apply(lambda c: dict_course_id[c])\n",
    "new_train_df['course'][:10]"
   ]
  },
  {
   "cell_type": "code",
   "execution_count": 25,
   "metadata": {},
   "outputs": [
    {
     "data": {
      "text/html": [
       "<div>\n",
       "<style scoped>\n",
       "    .dataframe tbody tr th:only-of-type {\n",
       "        vertical-align: middle;\n",
       "    }\n",
       "\n",
       "    .dataframe tbody tr th {\n",
       "        vertical-align: top;\n",
       "    }\n",
       "\n",
       "    .dataframe thead th {\n",
       "        text-align: right;\n",
       "    }\n",
       "</style>\n",
       "<table border=\"1\" class=\"dataframe\">\n",
       "  <thead>\n",
       "    <tr style=\"text-align: right;\">\n",
       "      <th></th>\n",
       "      <th>enrollment_id</th>\n",
       "      <th>username</th>\n",
       "      <th>course_id</th>\n",
       "      <th>user</th>\n",
       "      <th>course</th>\n",
       "    </tr>\n",
       "  </thead>\n",
       "  <tbody>\n",
       "    <tr>\n",
       "      <th>0</th>\n",
       "      <td>1</td>\n",
       "      <td>9Uee7oEuuMmgPx2IzPfFkWgkHZyPbWr0</td>\n",
       "      <td>DPnLzkJJqOOPRJfBxIHbQEERiYHu5ila</td>\n",
       "      <td>user1</td>\n",
       "      <td>Kiểm thử và đảm bảo chất lượng phần mềm</td>\n",
       "    </tr>\n",
       "    <tr>\n",
       "      <th>7</th>\n",
       "      <td>20</td>\n",
       "      <td>BoK7CAUaCFqnLgmWLxeOHg8YkXUSeCtc</td>\n",
       "      <td>DPnLzkJJqOOPRJfBxIHbQEERiYHu5ila</td>\n",
       "      <td>user2</td>\n",
       "      <td>Kiểm thử và đảm bảo chất lượng phần mềm</td>\n",
       "    </tr>\n",
       "    <tr>\n",
       "      <th>9</th>\n",
       "      <td>23</td>\n",
       "      <td>BoK7CAUaCFqnLgmWLxeOHg8YkXUSeCtc</td>\n",
       "      <td>AXUJZGmZ0xaYSWazu8RQ1G5c76ECT1Kd</td>\n",
       "      <td>user2</td>\n",
       "      <td>Quản lý dự án phần mềm</td>\n",
       "    </tr>\n",
       "    <tr>\n",
       "      <th>11</th>\n",
       "      <td>28</td>\n",
       "      <td>BoK7CAUaCFqnLgmWLxeOHg8YkXUSeCtc</td>\n",
       "      <td>TAYxxh39I2LZnftBpL0LfF2NxzrCKpkx</td>\n",
       "      <td>user2</td>\n",
       "      <td>Tâm lý xã hội</td>\n",
       "    </tr>\n",
       "    <tr>\n",
       "      <th>15</th>\n",
       "      <td>49</td>\n",
       "      <td>2oTvbzieHn2y5oozeOgSnruqE6N0BtR5</td>\n",
       "      <td>7GRhBDsirIGkRZBtSMEzNTyDr2JQm4xx</td>\n",
       "      <td>user3</td>\n",
       "      <td>Marketing trong thế giới thực</td>\n",
       "    </tr>\n",
       "    <tr>\n",
       "      <th>18</th>\n",
       "      <td>58</td>\n",
       "      <td>l9KseRU4xYtwOzoILYmGcicF0iiXQqxl</td>\n",
       "      <td>7GRhBDsirIGkRZBtSMEzNTyDr2JQm4xx</td>\n",
       "      <td>user4</td>\n",
       "      <td>Marketing trong thế giới thực</td>\n",
       "    </tr>\n",
       "    <tr>\n",
       "      <th>34</th>\n",
       "      <td>96</td>\n",
       "      <td>KXi2lu4GlKmrO1lJTLg3t4l701rvNXNZ</td>\n",
       "      <td>7GRhBDsirIGkRZBtSMEzNTyDr2JQm4xx</td>\n",
       "      <td>user5</td>\n",
       "      <td>Marketing trong thế giới thực</td>\n",
       "    </tr>\n",
       "    <tr>\n",
       "      <th>60</th>\n",
       "      <td>159</td>\n",
       "      <td>FX39OUMp2fc5cOhN2hgQkfpLfm3Fwtwz</td>\n",
       "      <td>DPnLzkJJqOOPRJfBxIHbQEERiYHu5ila</td>\n",
       "      <td>user6</td>\n",
       "      <td>Kiểm thử và đảm bảo chất lượng phần mềm</td>\n",
       "    </tr>\n",
       "    <tr>\n",
       "      <th>65</th>\n",
       "      <td>186</td>\n",
       "      <td>eakdJaYNzY2KmT602U8CscAjNHHpGkgl</td>\n",
       "      <td>DPnLzkJJqOOPRJfBxIHbQEERiYHu5ila</td>\n",
       "      <td>user7</td>\n",
       "      <td>Kiểm thử và đảm bảo chất lượng phần mềm</td>\n",
       "    </tr>\n",
       "    <tr>\n",
       "      <th>72</th>\n",
       "      <td>200</td>\n",
       "      <td>tp9GLoYyljDV6mILQxrtrv1Iw4qcPl5Z</td>\n",
       "      <td>5X6FeZozNMgE2VRi3MJYjkkFK8SETtu2</td>\n",
       "      <td>user8</td>\n",
       "      <td>Nhạc truyền thống</td>\n",
       "    </tr>\n",
       "  </tbody>\n",
       "</table>\n",
       "</div>"
      ],
      "text/plain": [
       "    enrollment_id                          username  \\\n",
       "0               1  9Uee7oEuuMmgPx2IzPfFkWgkHZyPbWr0   \n",
       "7              20  BoK7CAUaCFqnLgmWLxeOHg8YkXUSeCtc   \n",
       "9              23  BoK7CAUaCFqnLgmWLxeOHg8YkXUSeCtc   \n",
       "11             28  BoK7CAUaCFqnLgmWLxeOHg8YkXUSeCtc   \n",
       "15             49  2oTvbzieHn2y5oozeOgSnruqE6N0BtR5   \n",
       "18             58  l9KseRU4xYtwOzoILYmGcicF0iiXQqxl   \n",
       "34             96  KXi2lu4GlKmrO1lJTLg3t4l701rvNXNZ   \n",
       "60            159  FX39OUMp2fc5cOhN2hgQkfpLfm3Fwtwz   \n",
       "65            186  eakdJaYNzY2KmT602U8CscAjNHHpGkgl   \n",
       "72            200  tp9GLoYyljDV6mILQxrtrv1Iw4qcPl5Z   \n",
       "\n",
       "                           course_id   user  \\\n",
       "0   DPnLzkJJqOOPRJfBxIHbQEERiYHu5ila  user1   \n",
       "7   DPnLzkJJqOOPRJfBxIHbQEERiYHu5ila  user2   \n",
       "9   AXUJZGmZ0xaYSWazu8RQ1G5c76ECT1Kd  user2   \n",
       "11  TAYxxh39I2LZnftBpL0LfF2NxzrCKpkx  user2   \n",
       "15  7GRhBDsirIGkRZBtSMEzNTyDr2JQm4xx  user3   \n",
       "18  7GRhBDsirIGkRZBtSMEzNTyDr2JQm4xx  user4   \n",
       "34  7GRhBDsirIGkRZBtSMEzNTyDr2JQm4xx  user5   \n",
       "60  DPnLzkJJqOOPRJfBxIHbQEERiYHu5ila  user6   \n",
       "65  DPnLzkJJqOOPRJfBxIHbQEERiYHu5ila  user7   \n",
       "72  5X6FeZozNMgE2VRi3MJYjkkFK8SETtu2  user8   \n",
       "\n",
       "                                     course  \n",
       "0   Kiểm thử và đảm bảo chất lượng phần mềm  \n",
       "7   Kiểm thử và đảm bảo chất lượng phần mềm  \n",
       "9                    Quản lý dự án phần mềm  \n",
       "11                            Tâm lý xã hội  \n",
       "15            Marketing trong thế giới thực  \n",
       "18            Marketing trong thế giới thực  \n",
       "34            Marketing trong thế giới thực  \n",
       "60  Kiểm thử và đảm bảo chất lượng phần mềm  \n",
       "65  Kiểm thử và đảm bảo chất lượng phần mềm  \n",
       "72                        Nhạc truyền thống  "
      ]
     },
     "execution_count": 25,
     "metadata": {},
     "output_type": "execute_result"
    }
   ],
   "source": [
    "new_train_df[:10]"
   ]
  },
  {
   "cell_type": "code",
   "execution_count": 26,
   "metadata": {},
   "outputs": [],
   "source": [
    "new_train_df.to_csv('./enroll_train.csv')"
   ]
  },
  {
   "cell_type": "code",
   "execution_count": 27,
   "metadata": {},
   "outputs": [],
   "source": [
    "# Save to experiment\n",
    "new_train_df.to_csv('./experiment/v2/enrollment_train.csv', columns=['enrollment_id', 'username', 'course_id'], index=False)"
   ]
  },
  {
   "cell_type": "markdown",
   "metadata": {},
   "source": [
    "### Use new username, course to apply in test"
   ]
  },
  {
   "cell_type": "code",
   "execution_count": 28,
   "metadata": {},
   "outputs": [
    {
     "data": {
      "text/plain": [
       "24013"
      ]
     },
     "execution_count": 28,
     "metadata": {},
     "output_type": "execute_result"
    }
   ],
   "source": [
    "# Total records\n",
    "test_df = pd.read_csv('./test/enrollment_test.csv')\n",
    "len(test_df)"
   ]
  },
  {
   "cell_type": "code",
   "execution_count": 29,
   "metadata": {},
   "outputs": [
    {
     "data": {
      "text/html": [
       "<div>\n",
       "<style scoped>\n",
       "    .dataframe tbody tr th:only-of-type {\n",
       "        vertical-align: middle;\n",
       "    }\n",
       "\n",
       "    .dataframe tbody tr th {\n",
       "        vertical-align: top;\n",
       "    }\n",
       "\n",
       "    .dataframe thead th {\n",
       "        text-align: right;\n",
       "    }\n",
       "</style>\n",
       "<table border=\"1\" class=\"dataframe\">\n",
       "  <thead>\n",
       "    <tr style=\"text-align: right;\">\n",
       "      <th></th>\n",
       "      <th>enrollment_id</th>\n",
       "      <th>username</th>\n",
       "      <th>course_id</th>\n",
       "    </tr>\n",
       "  </thead>\n",
       "  <tbody>\n",
       "    <tr>\n",
       "      <th>0</th>\n",
       "      <td>30</td>\n",
       "      <td>JPkczYOxyoDZBjwZAAQHmjpSvnPQzwV0</td>\n",
       "      <td>DPnLzkJJqOOPRJfBxIHbQEERiYHu5ila</td>\n",
       "    </tr>\n",
       "    <tr>\n",
       "      <th>1</th>\n",
       "      <td>31</td>\n",
       "      <td>6mzGZyDGSLMvgMQyFwXmz47ojS1kH3j6</td>\n",
       "      <td>DPnLzkJJqOOPRJfBxIHbQEERiYHu5ila</td>\n",
       "    </tr>\n",
       "    <tr>\n",
       "      <th>2</th>\n",
       "      <td>45</td>\n",
       "      <td>5Tz6BGN7p1lkmdoopAY1Z5ufYTrUsi9E</td>\n",
       "      <td>7GRhBDsirIGkRZBtSMEzNTyDr2JQm4xx</td>\n",
       "    </tr>\n",
       "    <tr>\n",
       "      <th>3</th>\n",
       "      <td>48</td>\n",
       "      <td>1ELMItXjpijnCZU4WKxvrVri8AjkR2gf</td>\n",
       "      <td>AXUJZGmZ0xaYSWazu8RQ1G5c76ECT1Kd</td>\n",
       "    </tr>\n",
       "    <tr>\n",
       "      <th>4</th>\n",
       "      <td>50</td>\n",
       "      <td>LnNj9zDI8D38ixGOYTIjTH2iF5m36v9S</td>\n",
       "      <td>7GRhBDsirIGkRZBtSMEzNTyDr2JQm4xx</td>\n",
       "    </tr>\n",
       "  </tbody>\n",
       "</table>\n",
       "</div>"
      ],
      "text/plain": [
       "   enrollment_id                          username  \\\n",
       "0             30  JPkczYOxyoDZBjwZAAQHmjpSvnPQzwV0   \n",
       "1             31  6mzGZyDGSLMvgMQyFwXmz47ojS1kH3j6   \n",
       "2             45  5Tz6BGN7p1lkmdoopAY1Z5ufYTrUsi9E   \n",
       "3             48  1ELMItXjpijnCZU4WKxvrVri8AjkR2gf   \n",
       "4             50  LnNj9zDI8D38ixGOYTIjTH2iF5m36v9S   \n",
       "\n",
       "                          course_id  \n",
       "0  DPnLzkJJqOOPRJfBxIHbQEERiYHu5ila  \n",
       "1  DPnLzkJJqOOPRJfBxIHbQEERiYHu5ila  \n",
       "2  7GRhBDsirIGkRZBtSMEzNTyDr2JQm4xx  \n",
       "3  AXUJZGmZ0xaYSWazu8RQ1G5c76ECT1Kd  \n",
       "4  7GRhBDsirIGkRZBtSMEzNTyDr2JQm4xx  "
      ]
     },
     "execution_count": 29,
     "metadata": {},
     "output_type": "execute_result"
    }
   ],
   "source": [
    "test_df.head()"
   ]
  },
  {
   "cell_type": "code",
   "execution_count": 30,
   "metadata": {},
   "outputs": [
    {
     "data": {
      "text/plain": [
       "array(['9Uee7oEuuMmgPx2IzPfFkWgkHZyPbWr0',\n",
       "       'BoK7CAUaCFqnLgmWLxeOHg8YkXUSeCtc',\n",
       "       '2oTvbzieHn2y5oozeOgSnruqE6N0BtR5',\n",
       "       'l9KseRU4xYtwOzoILYmGcicF0iiXQqxl',\n",
       "       'KXi2lu4GlKmrO1lJTLg3t4l701rvNXNZ',\n",
       "       'FX39OUMp2fc5cOhN2hgQkfpLfm3Fwtwz',\n",
       "       'eakdJaYNzY2KmT602U8CscAjNHHpGkgl',\n",
       "       'tp9GLoYyljDV6mILQxrtrv1Iw4qcPl5Z',\n",
       "       'zVX5LPwTGC1SEitxSfv31cubNXKJSEc2',\n",
       "       'ah2KXEU3IJN3pCxNzFybzDR3Qrtpz7ty'], dtype=object)"
      ]
     },
     "execution_count": 30,
     "metadata": {},
     "output_type": "execute_result"
    }
   ],
   "source": [
    "# user name unique in train_df \n",
    "username[:10]"
   ]
  },
  {
   "cell_type": "code",
   "execution_count": 31,
   "metadata": {},
   "outputs": [
    {
     "data": {
      "text/plain": [
       "['81UZtt1JJwBFYMj5u38WNKCSVA4IJSDv',\n",
       " 'DPnLzkJJqOOPRJfBxIHbQEERiYHu5ila',\n",
       " 'I7Go4XwWgpjRJM8EZGEnBpkfSmBNOlsO',\n",
       " 'H2lDW05SyKnwntZ6Fora76aPAEswcMa5',\n",
       " 'AXUJZGmZ0xaYSWazu8RQ1G5c76ECT1Kd',\n",
       " 'SpATywNh6bZuzm8s1ceuBUnMUAeoAHHw',\n",
       " 'ykoe1cCWK134BJmfbNoPEenJOIWdtQOZ',\n",
       " 'shM3Yy9vxHn2aqjSYfQXOcwGo0hWh3MI',\n",
       " '9Bd26pfDLvkPINwLnpaGcf0LrLUvY1Mz',\n",
       " 'V4tXq15GxHo2gaMpaJLZ3IGEkP949IbE']"
      ]
     },
     "execution_count": 31,
     "metadata": {},
     "output_type": "execute_result"
    }
   ],
   "source": [
    "# course_id unique in train_df \n",
    "course_id[:10]"
   ]
  },
  {
   "cell_type": "code",
   "execution_count": 32,
   "metadata": {},
   "outputs": [],
   "source": [
    "# Only test if username and course appear in train_df\n",
    "def inTrain(row):\n",
    "    if row['username'] in username and row['course_id'] in course_id:\n",
    "        return True\n",
    "    return False"
   ]
  },
  {
   "cell_type": "code",
   "execution_count": 33,
   "metadata": {},
   "outputs": [
    {
     "data": {
      "text/plain": [
       "1304"
      ]
     },
     "execution_count": 33,
     "metadata": {},
     "output_type": "execute_result"
    }
   ],
   "source": [
    "in_train = test_df.apply(inTrain, axis=1)\n",
    "new_test_df = test_df[in_train]\n",
    "len(new_test_df)"
   ]
  },
  {
   "cell_type": "code",
   "execution_count": 34,
   "metadata": {},
   "outputs": [
    {
     "data": {
      "text/html": [
       "<div>\n",
       "<style scoped>\n",
       "    .dataframe tbody tr th:only-of-type {\n",
       "        vertical-align: middle;\n",
       "    }\n",
       "\n",
       "    .dataframe tbody tr th {\n",
       "        vertical-align: top;\n",
       "    }\n",
       "\n",
       "    .dataframe thead th {\n",
       "        text-align: right;\n",
       "    }\n",
       "</style>\n",
       "<table border=\"1\" class=\"dataframe\">\n",
       "  <thead>\n",
       "    <tr style=\"text-align: right;\">\n",
       "      <th></th>\n",
       "      <th>enrollment_id</th>\n",
       "      <th>username</th>\n",
       "      <th>course_id</th>\n",
       "    </tr>\n",
       "  </thead>\n",
       "  <tbody>\n",
       "    <tr>\n",
       "      <th>23</th>\n",
       "      <td>171</td>\n",
       "      <td>BkozGGotFoRWvs7kivTQvwwV5JZ8hddc</td>\n",
       "      <td>DPnLzkJJqOOPRJfBxIHbQEERiYHu5ila</td>\n",
       "    </tr>\n",
       "    <tr>\n",
       "      <th>38</th>\n",
       "      <td>334</td>\n",
       "      <td>uQjl8NGtIQkRfoe9edBiMgtYYmdkzVXR</td>\n",
       "      <td>DPnLzkJJqOOPRJfBxIHbQEERiYHu5ila</td>\n",
       "    </tr>\n",
       "    <tr>\n",
       "      <th>45</th>\n",
       "      <td>425</td>\n",
       "      <td>HlYiU2TA92it9HWOPDlsBmlpdZ7J7QTJ</td>\n",
       "      <td>DPnLzkJJqOOPRJfBxIHbQEERiYHu5ila</td>\n",
       "    </tr>\n",
       "    <tr>\n",
       "      <th>75</th>\n",
       "      <td>677</td>\n",
       "      <td>DBl87nF6WTgoCD6kgTHVE2oB45pDEn6y</td>\n",
       "      <td>DPnLzkJJqOOPRJfBxIHbQEERiYHu5ila</td>\n",
       "    </tr>\n",
       "    <tr>\n",
       "      <th>102</th>\n",
       "      <td>835</td>\n",
       "      <td>3ZzhbGHk0AMavVBVS0pUAaZvWnLoQODp</td>\n",
       "      <td>DPnLzkJJqOOPRJfBxIHbQEERiYHu5ila</td>\n",
       "    </tr>\n",
       "  </tbody>\n",
       "</table>\n",
       "</div>"
      ],
      "text/plain": [
       "     enrollment_id                          username  \\\n",
       "23             171  BkozGGotFoRWvs7kivTQvwwV5JZ8hddc   \n",
       "38             334  uQjl8NGtIQkRfoe9edBiMgtYYmdkzVXR   \n",
       "45             425  HlYiU2TA92it9HWOPDlsBmlpdZ7J7QTJ   \n",
       "75             677  DBl87nF6WTgoCD6kgTHVE2oB45pDEn6y   \n",
       "102            835  3ZzhbGHk0AMavVBVS0pUAaZvWnLoQODp   \n",
       "\n",
       "                            course_id  \n",
       "23   DPnLzkJJqOOPRJfBxIHbQEERiYHu5ila  \n",
       "38   DPnLzkJJqOOPRJfBxIHbQEERiYHu5ila  \n",
       "45   DPnLzkJJqOOPRJfBxIHbQEERiYHu5ila  \n",
       "75   DPnLzkJJqOOPRJfBxIHbQEERiYHu5ila  \n",
       "102  DPnLzkJJqOOPRJfBxIHbQEERiYHu5ila  "
      ]
     },
     "execution_count": 34,
     "metadata": {},
     "output_type": "execute_result"
    }
   ],
   "source": [
    "new_test_df.head()"
   ]
  },
  {
   "cell_type": "code",
   "execution_count": 35,
   "metadata": {},
   "outputs": [
    {
     "name": "stderr",
     "output_type": "stream",
     "text": [
      "/home/duyvc/.local/lib/python3.6/site-packages/ipykernel_launcher.py:1: SettingWithCopyWarning: \n",
      "A value is trying to be set on a copy of a slice from a DataFrame.\n",
      "Try using .loc[row_indexer,col_indexer] = value instead\n",
      "\n",
      "See the caveats in the documentation: http://pandas.pydata.org/pandas-docs/stable/user_guide/indexing.html#returning-a-view-versus-a-copy\n",
      "  \"\"\"Entry point for launching an IPython kernel.\n"
     ]
    },
    {
     "data": {
      "text/plain": [
       "23     user599\n",
       "38      user16\n",
       "45     user160\n",
       "75     user855\n",
       "102    user732\n",
       "168    user596\n",
       "173    user756\n",
       "176    user600\n",
       "190    user311\n",
       "207    user644\n",
       "Name: user_id, dtype: object"
      ]
     },
     "execution_count": 35,
     "metadata": {},
     "output_type": "execute_result"
    }
   ],
   "source": [
    "new_test_df['user_id'] = new_test_df['username'].apply(lambda u: dict_username[u])\n",
    "new_test_df['user_id'][:10]"
   ]
  },
  {
   "cell_type": "code",
   "execution_count": 36,
   "metadata": {},
   "outputs": [
    {
     "name": "stderr",
     "output_type": "stream",
     "text": [
      "/home/duyvc/.local/lib/python3.6/site-packages/ipykernel_launcher.py:1: SettingWithCopyWarning: \n",
      "A value is trying to be set on a copy of a slice from a DataFrame.\n",
      "Try using .loc[row_indexer,col_indexer] = value instead\n",
      "\n",
      "See the caveats in the documentation: http://pandas.pydata.org/pandas-docs/stable/user_guide/indexing.html#returning-a-view-versus-a-copy\n",
      "  \"\"\"Entry point for launching an IPython kernel.\n"
     ]
    },
    {
     "data": {
      "text/plain": [
       "23     Kiểm thử và đảm bảo chất lượng phần mềm\n",
       "38     Kiểm thử và đảm bảo chất lượng phần mềm\n",
       "45     Kiểm thử và đảm bảo chất lượng phần mềm\n",
       "75     Kiểm thử và đảm bảo chất lượng phần mềm\n",
       "102    Kiểm thử và đảm bảo chất lượng phần mềm\n",
       "168                     Quản lý dự án phần mềm\n",
       "173              Marketing trong thế giới thực\n",
       "176                     Quản lý dự án phần mềm\n",
       "190              Marketing trong thế giới thực\n",
       "207                               An ninh mạng\n",
       "Name: course_idd, dtype: object"
      ]
     },
     "execution_count": 36,
     "metadata": {},
     "output_type": "execute_result"
    }
   ],
   "source": [
    "new_test_df['course_idd'] = new_test_df['course_id'].apply(lambda c: dict_course_id[c])\n",
    "new_test_df['course_idd'][:10]"
   ]
  },
  {
   "cell_type": "code",
   "execution_count": 37,
   "metadata": {
    "scrolled": true
   },
   "outputs": [
    {
     "data": {
      "text/html": [
       "<div>\n",
       "<style scoped>\n",
       "    .dataframe tbody tr th:only-of-type {\n",
       "        vertical-align: middle;\n",
       "    }\n",
       "\n",
       "    .dataframe tbody tr th {\n",
       "        vertical-align: top;\n",
       "    }\n",
       "\n",
       "    .dataframe thead th {\n",
       "        text-align: right;\n",
       "    }\n",
       "</style>\n",
       "<table border=\"1\" class=\"dataframe\">\n",
       "  <thead>\n",
       "    <tr style=\"text-align: right;\">\n",
       "      <th></th>\n",
       "      <th>enrollment_id</th>\n",
       "      <th>username</th>\n",
       "      <th>course_id</th>\n",
       "      <th>user_id</th>\n",
       "      <th>course_idd</th>\n",
       "    </tr>\n",
       "  </thead>\n",
       "  <tbody>\n",
       "    <tr>\n",
       "      <th>23</th>\n",
       "      <td>171</td>\n",
       "      <td>BkozGGotFoRWvs7kivTQvwwV5JZ8hddc</td>\n",
       "      <td>DPnLzkJJqOOPRJfBxIHbQEERiYHu5ila</td>\n",
       "      <td>user599</td>\n",
       "      <td>Kiểm thử và đảm bảo chất lượng phần mềm</td>\n",
       "    </tr>\n",
       "    <tr>\n",
       "      <th>38</th>\n",
       "      <td>334</td>\n",
       "      <td>uQjl8NGtIQkRfoe9edBiMgtYYmdkzVXR</td>\n",
       "      <td>DPnLzkJJqOOPRJfBxIHbQEERiYHu5ila</td>\n",
       "      <td>user16</td>\n",
       "      <td>Kiểm thử và đảm bảo chất lượng phần mềm</td>\n",
       "    </tr>\n",
       "    <tr>\n",
       "      <th>45</th>\n",
       "      <td>425</td>\n",
       "      <td>HlYiU2TA92it9HWOPDlsBmlpdZ7J7QTJ</td>\n",
       "      <td>DPnLzkJJqOOPRJfBxIHbQEERiYHu5ila</td>\n",
       "      <td>user160</td>\n",
       "      <td>Kiểm thử và đảm bảo chất lượng phần mềm</td>\n",
       "    </tr>\n",
       "    <tr>\n",
       "      <th>75</th>\n",
       "      <td>677</td>\n",
       "      <td>DBl87nF6WTgoCD6kgTHVE2oB45pDEn6y</td>\n",
       "      <td>DPnLzkJJqOOPRJfBxIHbQEERiYHu5ila</td>\n",
       "      <td>user855</td>\n",
       "      <td>Kiểm thử và đảm bảo chất lượng phần mềm</td>\n",
       "    </tr>\n",
       "    <tr>\n",
       "      <th>102</th>\n",
       "      <td>835</td>\n",
       "      <td>3ZzhbGHk0AMavVBVS0pUAaZvWnLoQODp</td>\n",
       "      <td>DPnLzkJJqOOPRJfBxIHbQEERiYHu5ila</td>\n",
       "      <td>user732</td>\n",
       "      <td>Kiểm thử và đảm bảo chất lượng phần mềm</td>\n",
       "    </tr>\n",
       "  </tbody>\n",
       "</table>\n",
       "</div>"
      ],
      "text/plain": [
       "     enrollment_id                          username  \\\n",
       "23             171  BkozGGotFoRWvs7kivTQvwwV5JZ8hddc   \n",
       "38             334  uQjl8NGtIQkRfoe9edBiMgtYYmdkzVXR   \n",
       "45             425  HlYiU2TA92it9HWOPDlsBmlpdZ7J7QTJ   \n",
       "75             677  DBl87nF6WTgoCD6kgTHVE2oB45pDEn6y   \n",
       "102            835  3ZzhbGHk0AMavVBVS0pUAaZvWnLoQODp   \n",
       "\n",
       "                            course_id  user_id  \\\n",
       "23   DPnLzkJJqOOPRJfBxIHbQEERiYHu5ila  user599   \n",
       "38   DPnLzkJJqOOPRJfBxIHbQEERiYHu5ila   user16   \n",
       "45   DPnLzkJJqOOPRJfBxIHbQEERiYHu5ila  user160   \n",
       "75   DPnLzkJJqOOPRJfBxIHbQEERiYHu5ila  user855   \n",
       "102  DPnLzkJJqOOPRJfBxIHbQEERiYHu5ila  user732   \n",
       "\n",
       "                                  course_idd  \n",
       "23   Kiểm thử và đảm bảo chất lượng phần mềm  \n",
       "38   Kiểm thử và đảm bảo chất lượng phần mềm  \n",
       "45   Kiểm thử và đảm bảo chất lượng phần mềm  \n",
       "75   Kiểm thử và đảm bảo chất lượng phần mềm  \n",
       "102  Kiểm thử và đảm bảo chất lượng phần mềm  "
      ]
     },
     "execution_count": 37,
     "metadata": {},
     "output_type": "execute_result"
    }
   ],
   "source": [
    "new_test_df.head()"
   ]
  },
  {
   "cell_type": "code",
   "execution_count": 38,
   "metadata": {},
   "outputs": [],
   "source": [
    "new_test_df.to_csv('./enroll_test.csv')"
   ]
  },
  {
   "cell_type": "code",
   "execution_count": 39,
   "metadata": {},
   "outputs": [],
   "source": [
    "# Save to experiment\n",
    "new_test_df.to_csv('./experiment/v2/enrollment_test.csv', columns=['enrollment_id', 'username', 'course_id'], index=False)"
   ]
  }
 ],
 "metadata": {
  "kernelspec": {
   "display_name": "Python 3",
   "language": "python",
   "name": "python3"
  },
  "language_info": {
   "codemirror_mode": {
    "name": "ipython",
    "version": 3
   },
   "file_extension": ".py",
   "mimetype": "text/x-python",
   "name": "python",
   "nbconvert_exporter": "python",
   "pygments_lexer": "ipython3",
   "version": "3.6.9"
  }
 },
 "nbformat": 4,
 "nbformat_minor": 2
}
