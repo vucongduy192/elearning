{
 "cells": [
  {
   "cell_type": "code",
   "execution_count": 1,
   "metadata": {},
   "outputs": [],
   "source": [
    "# !pip3 install names"
   ]
  },
  {
   "cell_type": "code",
   "execution_count": 2,
   "metadata": {},
   "outputs": [],
   "source": [
    "import pandas as pd\n",
    "import numpy as np\n",
    "import names"
   ]
  },
  {
   "cell_type": "code",
   "execution_count": 3,
   "metadata": {},
   "outputs": [],
   "source": [
    "TOP_COURSE = 20 # number course to get\n",
    "TOP_ENROLL = 4 # users had enrolled equal or more than 5 times"
   ]
  },
  {
   "cell_type": "markdown",
   "metadata": {},
   "source": [
    "### Filter training enrollment by TOP_COURSE and TOP_ENROLL"
   ]
  },
  {
   "cell_type": "code",
   "execution_count": 4,
   "metadata": {},
   "outputs": [
    {
     "data": {
      "text/plain": [
       "72395"
      ]
     },
     "execution_count": 4,
     "metadata": {},
     "output_type": "execute_result"
    }
   ],
   "source": [
    "# Total records\n",
    "train_df = pd.read_csv('./train/enrollment_train.csv')\n",
    "len(train_df)"
   ]
  },
  {
   "cell_type": "code",
   "execution_count": 5,
   "metadata": {},
   "outputs": [
    {
     "data": {
      "text/html": [
       "<div>\n",
       "<style scoped>\n",
       "    .dataframe tbody tr th:only-of-type {\n",
       "        vertical-align: middle;\n",
       "    }\n",
       "\n",
       "    .dataframe tbody tr th {\n",
       "        vertical-align: top;\n",
       "    }\n",
       "\n",
       "    .dataframe thead th {\n",
       "        text-align: right;\n",
       "    }\n",
       "</style>\n",
       "<table border=\"1\" class=\"dataframe\">\n",
       "  <thead>\n",
       "    <tr style=\"text-align: right;\">\n",
       "      <th></th>\n",
       "      <th>enrollment_id</th>\n",
       "      <th>username</th>\n",
       "      <th>course_id</th>\n",
       "    </tr>\n",
       "  </thead>\n",
       "  <tbody>\n",
       "    <tr>\n",
       "      <th>0</th>\n",
       "      <td>1</td>\n",
       "      <td>9Uee7oEuuMmgPx2IzPfFkWgkHZyPbWr0</td>\n",
       "      <td>DPnLzkJJqOOPRJfBxIHbQEERiYHu5ila</td>\n",
       "    </tr>\n",
       "    <tr>\n",
       "      <th>1</th>\n",
       "      <td>4</td>\n",
       "      <td>FIHlppZyoq8muPbdVxS44gfvceX9zvU7</td>\n",
       "      <td>DPnLzkJJqOOPRJfBxIHbQEERiYHu5ila</td>\n",
       "    </tr>\n",
       "    <tr>\n",
       "      <th>2</th>\n",
       "      <td>5</td>\n",
       "      <td>p1Mp7WkVfzUijX0peVQKSHbgd5pXyl4c</td>\n",
       "      <td>7GRhBDsirIGkRZBtSMEzNTyDr2JQm4xx</td>\n",
       "    </tr>\n",
       "    <tr>\n",
       "      <th>3</th>\n",
       "      <td>7</td>\n",
       "      <td>I1KwJ6EdCZnEPLfC8Q7yWpIkLOHn7h02</td>\n",
       "      <td>7GRhBDsirIGkRZBtSMEzNTyDr2JQm4xx</td>\n",
       "    </tr>\n",
       "    <tr>\n",
       "      <th>4</th>\n",
       "      <td>13</td>\n",
       "      <td>hDbSkVrFRj9Ryk3c5E1JYJQLyxm4jLRb</td>\n",
       "      <td>5X6FeZozNMgE2VRi3MJYjkkFK8SETtu2</td>\n",
       "    </tr>\n",
       "  </tbody>\n",
       "</table>\n",
       "</div>"
      ],
      "text/plain": [
       "   enrollment_id                          username  \\\n",
       "0              1  9Uee7oEuuMmgPx2IzPfFkWgkHZyPbWr0   \n",
       "1              4  FIHlppZyoq8muPbdVxS44gfvceX9zvU7   \n",
       "2              5  p1Mp7WkVfzUijX0peVQKSHbgd5pXyl4c   \n",
       "3              7  I1KwJ6EdCZnEPLfC8Q7yWpIkLOHn7h02   \n",
       "4             13  hDbSkVrFRj9Ryk3c5E1JYJQLyxm4jLRb   \n",
       "\n",
       "                          course_id  \n",
       "0  DPnLzkJJqOOPRJfBxIHbQEERiYHu5ila  \n",
       "1  DPnLzkJJqOOPRJfBxIHbQEERiYHu5ila  \n",
       "2  7GRhBDsirIGkRZBtSMEzNTyDr2JQm4xx  \n",
       "3  7GRhBDsirIGkRZBtSMEzNTyDr2JQm4xx  \n",
       "4  5X6FeZozNMgE2VRi3MJYjkkFK8SETtu2  "
      ]
     },
     "execution_count": 5,
     "metadata": {},
     "output_type": "execute_result"
    }
   ],
   "source": [
    "train_df.head()"
   ]
  },
  {
   "cell_type": "code",
   "execution_count": 6,
   "metadata": {},
   "outputs": [
    {
     "data": {
      "text/plain": [
       "39"
      ]
     },
     "execution_count": 6,
     "metadata": {},
     "output_type": "execute_result"
    }
   ],
   "source": [
    "len(train_df.groupby('course_id').course_id)"
   ]
  },
  {
   "cell_type": "code",
   "execution_count": 7,
   "metadata": {},
   "outputs": [
    {
     "data": {
      "text/plain": [
       "53870"
      ]
     },
     "execution_count": 7,
     "metadata": {},
     "output_type": "execute_result"
    }
   ],
   "source": [
    "len(train_df.groupby('username').course_id)"
   ]
  },
  {
   "cell_type": "code",
   "execution_count": 8,
   "metadata": {},
   "outputs": [
    {
     "data": {
      "text/plain": [
       "(['81UZtt1JJwBFYMj5u38WNKCSVA4IJSDv',\n",
       "  'DPnLzkJJqOOPRJfBxIHbQEERiYHu5ila',\n",
       "  'I7Go4XwWgpjRJM8EZGEnBpkfSmBNOlsO',\n",
       "  'H2lDW05SyKnwntZ6Fora76aPAEswcMa5',\n",
       "  'AXUJZGmZ0xaYSWazu8RQ1G5c76ECT1Kd',\n",
       "  'SpATywNh6bZuzm8s1ceuBUnMUAeoAHHw',\n",
       "  'ykoe1cCWK134BJmfbNoPEenJOIWdtQOZ',\n",
       "  'shM3Yy9vxHn2aqjSYfQXOcwGo0hWh3MI',\n",
       "  '9Bd26pfDLvkPINwLnpaGcf0LrLUvY1Mz',\n",
       "  'V4tXq15GxHo2gaMpaJLZ3IGEkP949IbE',\n",
       "  'a2E7NQC7nZB7WHEhKGhKnKvUWtsLAQzh',\n",
       "  'NmbZ3BmS8V4pMg6oxXHWpqqMZCE1jvYt',\n",
       "  '5Gyp41oLVo7Gg7vF4vpmggWP5MU70QO6',\n",
       "  'xMd9DzNyUCTLRPVbwWVzf4vq06oqrTT1',\n",
       "  '1pvLqtotBsKv7QSOsLicJDQMHx3lui6d',\n",
       "  'A3fsA9Zfv1X2fVEQhTw51lKENdNrEqT3',\n",
       "  '3cnZpv6ReApmCaZyaQwi2izDZxVRdC01',\n",
       "  'fbPkOYLVPtPgIt0MxizjfFJov3JbHyAi',\n",
       "  'Er0RFawC4sHagDmmQZcBGBrzamLQcblZ',\n",
       "  '3VkHkmOtom3jM2wCu94xgzzu1d6Dn7or'],\n",
       " range(0, 20))"
      ]
     },
     "execution_count": 8,
     "metadata": {},
     "output_type": "execute_result"
    }
   ],
   "source": [
    "top_course = train_df.groupby('course_id').course_id.agg(['count']).reset_index().sort_values(by='count', ascending=False)\n",
    "top_course = top_course['course_id'][:TOP_COURSE].tolist()\n",
    "top_course, range(len(top_course))"
   ]
  },
  {
   "cell_type": "code",
   "execution_count": 9,
   "metadata": {
    "scrolled": true
   },
   "outputs": [
    {
     "name": "stdout",
     "output_type": "stream",
     "text": [
      "57946\n"
     ]
    },
    {
     "data": {
      "text/html": [
       "<div>\n",
       "<style scoped>\n",
       "    .dataframe tbody tr th:only-of-type {\n",
       "        vertical-align: middle;\n",
       "    }\n",
       "\n",
       "    .dataframe tbody tr th {\n",
       "        vertical-align: top;\n",
       "    }\n",
       "\n",
       "    .dataframe thead th {\n",
       "        text-align: right;\n",
       "    }\n",
       "</style>\n",
       "<table border=\"1\" class=\"dataframe\">\n",
       "  <thead>\n",
       "    <tr style=\"text-align: right;\">\n",
       "      <th></th>\n",
       "      <th>enrollment_id</th>\n",
       "      <th>username</th>\n",
       "      <th>course_id</th>\n",
       "    </tr>\n",
       "  </thead>\n",
       "  <tbody>\n",
       "    <tr>\n",
       "      <th>0</th>\n",
       "      <td>1</td>\n",
       "      <td>9Uee7oEuuMmgPx2IzPfFkWgkHZyPbWr0</td>\n",
       "      <td>DPnLzkJJqOOPRJfBxIHbQEERiYHu5ila</td>\n",
       "    </tr>\n",
       "    <tr>\n",
       "      <th>1</th>\n",
       "      <td>4</td>\n",
       "      <td>FIHlppZyoq8muPbdVxS44gfvceX9zvU7</td>\n",
       "      <td>DPnLzkJJqOOPRJfBxIHbQEERiYHu5ila</td>\n",
       "    </tr>\n",
       "    <tr>\n",
       "      <th>5</th>\n",
       "      <td>14</td>\n",
       "      <td>XOhIczT5nEeO52jMq1vN7QziDk8L2jnI</td>\n",
       "      <td>DPnLzkJJqOOPRJfBxIHbQEERiYHu5ila</td>\n",
       "    </tr>\n",
       "    <tr>\n",
       "      <th>6</th>\n",
       "      <td>18</td>\n",
       "      <td>b0Hk5D3sJulvyuC4JEm5kvAvOLAxswgQ</td>\n",
       "      <td>DPnLzkJJqOOPRJfBxIHbQEERiYHu5ila</td>\n",
       "    </tr>\n",
       "    <tr>\n",
       "      <th>7</th>\n",
       "      <td>20</td>\n",
       "      <td>BoK7CAUaCFqnLgmWLxeOHg8YkXUSeCtc</td>\n",
       "      <td>DPnLzkJJqOOPRJfBxIHbQEERiYHu5ila</td>\n",
       "    </tr>\n",
       "  </tbody>\n",
       "</table>\n",
       "</div>"
      ],
      "text/plain": [
       "   enrollment_id                          username  \\\n",
       "0              1  9Uee7oEuuMmgPx2IzPfFkWgkHZyPbWr0   \n",
       "1              4  FIHlppZyoq8muPbdVxS44gfvceX9zvU7   \n",
       "5             14  XOhIczT5nEeO52jMq1vN7QziDk8L2jnI   \n",
       "6             18  b0Hk5D3sJulvyuC4JEm5kvAvOLAxswgQ   \n",
       "7             20  BoK7CAUaCFqnLgmWLxeOHg8YkXUSeCtc   \n",
       "\n",
       "                          course_id  \n",
       "0  DPnLzkJJqOOPRJfBxIHbQEERiYHu5ila  \n",
       "1  DPnLzkJJqOOPRJfBxIHbQEERiYHu5ila  \n",
       "5  DPnLzkJJqOOPRJfBxIHbQEERiYHu5ila  \n",
       "6  DPnLzkJJqOOPRJfBxIHbQEERiYHu5ila  \n",
       "7  DPnLzkJJqOOPRJfBxIHbQEERiYHu5ila  "
      ]
     },
     "execution_count": 9,
     "metadata": {},
     "output_type": "execute_result"
    }
   ],
   "source": [
    "new_train_df = train_df[train_df['course_id'].isin(top_course)]\n",
    "print(len(new_train_df))\n",
    "new_train_df.head()"
   ]
  },
  {
   "cell_type": "code",
   "execution_count": 10,
   "metadata": {},
   "outputs": [
    {
     "data": {
      "text/html": [
       "<div>\n",
       "<style scoped>\n",
       "    .dataframe tbody tr th:only-of-type {\n",
       "        vertical-align: middle;\n",
       "    }\n",
       "\n",
       "    .dataframe tbody tr th {\n",
       "        vertical-align: top;\n",
       "    }\n",
       "\n",
       "    .dataframe thead th {\n",
       "        text-align: right;\n",
       "    }\n",
       "</style>\n",
       "<table border=\"1\" class=\"dataframe\">\n",
       "  <thead>\n",
       "    <tr style=\"text-align: right;\">\n",
       "      <th></th>\n",
       "      <th>enrollment_id</th>\n",
       "      <th>username</th>\n",
       "      <th>course_id</th>\n",
       "    </tr>\n",
       "  </thead>\n",
       "  <tbody>\n",
       "    <tr>\n",
       "      <th>0</th>\n",
       "      <td>1</td>\n",
       "      <td>9Uee7oEuuMmgPx2IzPfFkWgkHZyPbWr0</td>\n",
       "      <td>DPnLzkJJqOOPRJfBxIHbQEERiYHu5ila</td>\n",
       "    </tr>\n",
       "    <tr>\n",
       "      <th>1</th>\n",
       "      <td>4</td>\n",
       "      <td>FIHlppZyoq8muPbdVxS44gfvceX9zvU7</td>\n",
       "      <td>DPnLzkJJqOOPRJfBxIHbQEERiYHu5ila</td>\n",
       "    </tr>\n",
       "    <tr>\n",
       "      <th>5</th>\n",
       "      <td>14</td>\n",
       "      <td>XOhIczT5nEeO52jMq1vN7QziDk8L2jnI</td>\n",
       "      <td>DPnLzkJJqOOPRJfBxIHbQEERiYHu5ila</td>\n",
       "    </tr>\n",
       "    <tr>\n",
       "      <th>6</th>\n",
       "      <td>18</td>\n",
       "      <td>b0Hk5D3sJulvyuC4JEm5kvAvOLAxswgQ</td>\n",
       "      <td>DPnLzkJJqOOPRJfBxIHbQEERiYHu5ila</td>\n",
       "    </tr>\n",
       "    <tr>\n",
       "      <th>7</th>\n",
       "      <td>20</td>\n",
       "      <td>BoK7CAUaCFqnLgmWLxeOHg8YkXUSeCtc</td>\n",
       "      <td>DPnLzkJJqOOPRJfBxIHbQEERiYHu5ila</td>\n",
       "    </tr>\n",
       "    <tr>\n",
       "      <th>...</th>\n",
       "      <td>...</td>\n",
       "      <td>...</td>\n",
       "      <td>...</td>\n",
       "    </tr>\n",
       "    <tr>\n",
       "      <th>70920</th>\n",
       "      <td>196955</td>\n",
       "      <td>5JwFy3LzvMAPj3PPVJsanD1801FDhYLS</td>\n",
       "      <td>DPnLzkJJqOOPRJfBxIHbQEERiYHu5ila</td>\n",
       "    </tr>\n",
       "    <tr>\n",
       "      <th>70931</th>\n",
       "      <td>196994</td>\n",
       "      <td>BDe3LY4LwNXANV689l0Qamfouhqdygxh</td>\n",
       "      <td>DPnLzkJJqOOPRJfBxIHbQEERiYHu5ila</td>\n",
       "    </tr>\n",
       "    <tr>\n",
       "      <th>70935</th>\n",
       "      <td>197002</td>\n",
       "      <td>U8vo2wOZC3Q8EW1kIl6iwoIzgmQUZ4u1</td>\n",
       "      <td>DPnLzkJJqOOPRJfBxIHbQEERiYHu5ila</td>\n",
       "    </tr>\n",
       "    <tr>\n",
       "      <th>70938</th>\n",
       "      <td>197009</td>\n",
       "      <td>8nwJGMvEWVLgnvDRJG8GJRGN3pQnQQ5v</td>\n",
       "      <td>DPnLzkJJqOOPRJfBxIHbQEERiYHu5ila</td>\n",
       "    </tr>\n",
       "    <tr>\n",
       "      <th>70947</th>\n",
       "      <td>197027</td>\n",
       "      <td>vVomSgkHkyw3sqrRqYKc3zE1eWaa2d4G</td>\n",
       "      <td>DPnLzkJJqOOPRJfBxIHbQEERiYHu5ila</td>\n",
       "    </tr>\n",
       "  </tbody>\n",
       "</table>\n",
       "<p>6241 rows × 3 columns</p>\n",
       "</div>"
      ],
      "text/plain": [
       "       enrollment_id                          username  \\\n",
       "0                  1  9Uee7oEuuMmgPx2IzPfFkWgkHZyPbWr0   \n",
       "1                  4  FIHlppZyoq8muPbdVxS44gfvceX9zvU7   \n",
       "5                 14  XOhIczT5nEeO52jMq1vN7QziDk8L2jnI   \n",
       "6                 18  b0Hk5D3sJulvyuC4JEm5kvAvOLAxswgQ   \n",
       "7                 20  BoK7CAUaCFqnLgmWLxeOHg8YkXUSeCtc   \n",
       "...              ...                               ...   \n",
       "70920         196955  5JwFy3LzvMAPj3PPVJsanD1801FDhYLS   \n",
       "70931         196994  BDe3LY4LwNXANV689l0Qamfouhqdygxh   \n",
       "70935         197002  U8vo2wOZC3Q8EW1kIl6iwoIzgmQUZ4u1   \n",
       "70938         197009  8nwJGMvEWVLgnvDRJG8GJRGN3pQnQQ5v   \n",
       "70947         197027  vVomSgkHkyw3sqrRqYKc3zE1eWaa2d4G   \n",
       "\n",
       "                              course_id  \n",
       "0      DPnLzkJJqOOPRJfBxIHbQEERiYHu5ila  \n",
       "1      DPnLzkJJqOOPRJfBxIHbQEERiYHu5ila  \n",
       "5      DPnLzkJJqOOPRJfBxIHbQEERiYHu5ila  \n",
       "6      DPnLzkJJqOOPRJfBxIHbQEERiYHu5ila  \n",
       "7      DPnLzkJJqOOPRJfBxIHbQEERiYHu5ila  \n",
       "...                                 ...  \n",
       "70920  DPnLzkJJqOOPRJfBxIHbQEERiYHu5ila  \n",
       "70931  DPnLzkJJqOOPRJfBxIHbQEERiYHu5ila  \n",
       "70935  DPnLzkJJqOOPRJfBxIHbQEERiYHu5ila  \n",
       "70938  DPnLzkJJqOOPRJfBxIHbQEERiYHu5ila  \n",
       "70947  DPnLzkJJqOOPRJfBxIHbQEERiYHu5ila  \n",
       "\n",
       "[6241 rows x 3 columns]"
      ]
     },
     "execution_count": 10,
     "metadata": {},
     "output_type": "execute_result"
    }
   ],
   "source": [
    "new_train_df[new_train_df['course_id']=='DPnLzkJJqOOPRJfBxIHbQEERiYHu5ila']"
   ]
  },
  {
   "cell_type": "code",
   "execution_count": 11,
   "metadata": {},
   "outputs": [
    {
     "data": {
      "text/plain": [
       "(692,\n",
       " array(['9Uee7oEuuMmgPx2IzPfFkWgkHZyPbWr0',\n",
       "        'FX39OUMp2fc5cOhN2hgQkfpLfm3Fwtwz',\n",
       "        'eakdJaYNzY2KmT602U8CscAjNHHpGkgl',\n",
       "        'zVX5LPwTGC1SEitxSfv31cubNXKJSEc2',\n",
       "        'sD3rDh1CtXsAdfDDyFRBf917K7ELQzHQ',\n",
       "        'Wyji6pvgj7unEJ4mD7FWwu0Sma8fUdv4',\n",
       "        '8GKtgh5ojCBJDZIzab4pnG3eXm8mejoD',\n",
       "        '90tR2Jy52lv1kJ6TwJ9Jqo5P6u0CqT0E',\n",
       "        '0CuRIhBavvQKL5rTT1QWf2kztAfRXZug',\n",
       "        '61ysO1Pg5Q6bsn73gkzoQt72GbhUHgNd'], dtype=object))"
      ]
     },
     "execution_count": 11,
     "metadata": {},
     "output_type": "execute_result"
    }
   ],
   "source": [
    "# Total username had enrolled equals or more than 5 times\n",
    "greater5_username = new_train_df.groupby(['username']).filter(lambda x: len(x) >= TOP_ENROLL)\n",
    "unique_greater5_username = greater5_username.username.unique()\n",
    "len(unique_greater5_username), unique_greater5_username[:10]"
   ]
  },
  {
   "cell_type": "code",
   "execution_count": 12,
   "metadata": {},
   "outputs": [
    {
     "data": {
      "text/plain": [
       "3137"
      ]
     },
     "execution_count": 12,
     "metadata": {},
     "output_type": "execute_result"
    }
   ],
   "source": [
    "new_train_df = new_train_df[new_train_df['username'].isin(unique_greater5_username)]\n",
    "len(new_train_df)"
   ]
  },
  {
   "cell_type": "code",
   "execution_count": 13,
   "metadata": {},
   "outputs": [
    {
     "data": {
      "text/html": [
       "<div>\n",
       "<style scoped>\n",
       "    .dataframe tbody tr th:only-of-type {\n",
       "        vertical-align: middle;\n",
       "    }\n",
       "\n",
       "    .dataframe tbody tr th {\n",
       "        vertical-align: top;\n",
       "    }\n",
       "\n",
       "    .dataframe thead th {\n",
       "        text-align: right;\n",
       "    }\n",
       "</style>\n",
       "<table border=\"1\" class=\"dataframe\">\n",
       "  <thead>\n",
       "    <tr style=\"text-align: right;\">\n",
       "      <th></th>\n",
       "      <th>enrollment_id</th>\n",
       "      <th>username</th>\n",
       "      <th>course_id</th>\n",
       "    </tr>\n",
       "  </thead>\n",
       "  <tbody>\n",
       "    <tr>\n",
       "      <th>0</th>\n",
       "      <td>1</td>\n",
       "      <td>9Uee7oEuuMmgPx2IzPfFkWgkHZyPbWr0</td>\n",
       "      <td>DPnLzkJJqOOPRJfBxIHbQEERiYHu5ila</td>\n",
       "    </tr>\n",
       "    <tr>\n",
       "      <th>60</th>\n",
       "      <td>159</td>\n",
       "      <td>FX39OUMp2fc5cOhN2hgQkfpLfm3Fwtwz</td>\n",
       "      <td>DPnLzkJJqOOPRJfBxIHbQEERiYHu5ila</td>\n",
       "    </tr>\n",
       "    <tr>\n",
       "      <th>65</th>\n",
       "      <td>186</td>\n",
       "      <td>eakdJaYNzY2KmT602U8CscAjNHHpGkgl</td>\n",
       "      <td>DPnLzkJJqOOPRJfBxIHbQEERiYHu5ila</td>\n",
       "    </tr>\n",
       "    <tr>\n",
       "      <th>86</th>\n",
       "      <td>245</td>\n",
       "      <td>zVX5LPwTGC1SEitxSfv31cubNXKJSEc2</td>\n",
       "      <td>DPnLzkJJqOOPRJfBxIHbQEERiYHu5ila</td>\n",
       "    </tr>\n",
       "    <tr>\n",
       "      <th>158</th>\n",
       "      <td>432</td>\n",
       "      <td>sD3rDh1CtXsAdfDDyFRBf917K7ELQzHQ</td>\n",
       "      <td>DPnLzkJJqOOPRJfBxIHbQEERiYHu5ila</td>\n",
       "    </tr>\n",
       "  </tbody>\n",
       "</table>\n",
       "</div>"
      ],
      "text/plain": [
       "     enrollment_id                          username  \\\n",
       "0                1  9Uee7oEuuMmgPx2IzPfFkWgkHZyPbWr0   \n",
       "60             159  FX39OUMp2fc5cOhN2hgQkfpLfm3Fwtwz   \n",
       "65             186  eakdJaYNzY2KmT602U8CscAjNHHpGkgl   \n",
       "86             245  zVX5LPwTGC1SEitxSfv31cubNXKJSEc2   \n",
       "158            432  sD3rDh1CtXsAdfDDyFRBf917K7ELQzHQ   \n",
       "\n",
       "                            course_id  \n",
       "0    DPnLzkJJqOOPRJfBxIHbQEERiYHu5ila  \n",
       "60   DPnLzkJJqOOPRJfBxIHbQEERiYHu5ila  \n",
       "65   DPnLzkJJqOOPRJfBxIHbQEERiYHu5ila  \n",
       "86   DPnLzkJJqOOPRJfBxIHbQEERiYHu5ila  \n",
       "158  DPnLzkJJqOOPRJfBxIHbQEERiYHu5ila  "
      ]
     },
     "execution_count": 13,
     "metadata": {},
     "output_type": "execute_result"
    }
   ],
   "source": [
    "new_train_df.head()"
   ]
  },
  {
   "cell_type": "code",
   "execution_count": 14,
   "metadata": {},
   "outputs": [
    {
     "data": {
      "text/html": [
       "<div>\n",
       "<style scoped>\n",
       "    .dataframe tbody tr th:only-of-type {\n",
       "        vertical-align: middle;\n",
       "    }\n",
       "\n",
       "    .dataframe tbody tr th {\n",
       "        vertical-align: top;\n",
       "    }\n",
       "\n",
       "    .dataframe thead th {\n",
       "        text-align: right;\n",
       "    }\n",
       "</style>\n",
       "<table border=\"1\" class=\"dataframe\">\n",
       "  <thead>\n",
       "    <tr style=\"text-align: right;\">\n",
       "      <th></th>\n",
       "      <th>enrollment_id</th>\n",
       "      <th>username</th>\n",
       "      <th>course_id</th>\n",
       "    </tr>\n",
       "  </thead>\n",
       "  <tbody>\n",
       "    <tr>\n",
       "      <th>0</th>\n",
       "      <td>1</td>\n",
       "      <td>9Uee7oEuuMmgPx2IzPfFkWgkHZyPbWr0</td>\n",
       "      <td>DPnLzkJJqOOPRJfBxIHbQEERiYHu5ila</td>\n",
       "    </tr>\n",
       "    <tr>\n",
       "      <th>60</th>\n",
       "      <td>159</td>\n",
       "      <td>FX39OUMp2fc5cOhN2hgQkfpLfm3Fwtwz</td>\n",
       "      <td>DPnLzkJJqOOPRJfBxIHbQEERiYHu5ila</td>\n",
       "    </tr>\n",
       "    <tr>\n",
       "      <th>65</th>\n",
       "      <td>186</td>\n",
       "      <td>eakdJaYNzY2KmT602U8CscAjNHHpGkgl</td>\n",
       "      <td>DPnLzkJJqOOPRJfBxIHbQEERiYHu5ila</td>\n",
       "    </tr>\n",
       "    <tr>\n",
       "      <th>86</th>\n",
       "      <td>245</td>\n",
       "      <td>zVX5LPwTGC1SEitxSfv31cubNXKJSEc2</td>\n",
       "      <td>DPnLzkJJqOOPRJfBxIHbQEERiYHu5ila</td>\n",
       "    </tr>\n",
       "    <tr>\n",
       "      <th>158</th>\n",
       "      <td>432</td>\n",
       "      <td>sD3rDh1CtXsAdfDDyFRBf917K7ELQzHQ</td>\n",
       "      <td>DPnLzkJJqOOPRJfBxIHbQEERiYHu5ila</td>\n",
       "    </tr>\n",
       "    <tr>\n",
       "      <th>...</th>\n",
       "      <td>...</td>\n",
       "      <td>...</td>\n",
       "      <td>...</td>\n",
       "    </tr>\n",
       "    <tr>\n",
       "      <th>68236</th>\n",
       "      <td>189472</td>\n",
       "      <td>MoQLSLdgc8N78DNeGEQHypzHbyf063p0</td>\n",
       "      <td>DPnLzkJJqOOPRJfBxIHbQEERiYHu5ila</td>\n",
       "    </tr>\n",
       "    <tr>\n",
       "      <th>70419</th>\n",
       "      <td>195618</td>\n",
       "      <td>uhbUne0Zqx7l0LKNWrxxR44WistJmxKI</td>\n",
       "      <td>DPnLzkJJqOOPRJfBxIHbQEERiYHu5ila</td>\n",
       "    </tr>\n",
       "    <tr>\n",
       "      <th>70710</th>\n",
       "      <td>196359</td>\n",
       "      <td>Io5gLr8QOxaBw8nFReloAXOpt3IlZ5WE</td>\n",
       "      <td>DPnLzkJJqOOPRJfBxIHbQEERiYHu5ila</td>\n",
       "    </tr>\n",
       "    <tr>\n",
       "      <th>70715</th>\n",
       "      <td>196369</td>\n",
       "      <td>nV86nhQ7hJG7k83qAXvGwRzPT357EJhH</td>\n",
       "      <td>DPnLzkJJqOOPRJfBxIHbQEERiYHu5ila</td>\n",
       "    </tr>\n",
       "    <tr>\n",
       "      <th>70775</th>\n",
       "      <td>196544</td>\n",
       "      <td>j79CPp6e09l3A1MeqgSV5ajYlxbk9Ixy</td>\n",
       "      <td>DPnLzkJJqOOPRJfBxIHbQEERiYHu5ila</td>\n",
       "    </tr>\n",
       "  </tbody>\n",
       "</table>\n",
       "<p>188 rows × 3 columns</p>\n",
       "</div>"
      ],
      "text/plain": [
       "       enrollment_id                          username  \\\n",
       "0                  1  9Uee7oEuuMmgPx2IzPfFkWgkHZyPbWr0   \n",
       "60               159  FX39OUMp2fc5cOhN2hgQkfpLfm3Fwtwz   \n",
       "65               186  eakdJaYNzY2KmT602U8CscAjNHHpGkgl   \n",
       "86               245  zVX5LPwTGC1SEitxSfv31cubNXKJSEc2   \n",
       "158              432  sD3rDh1CtXsAdfDDyFRBf917K7ELQzHQ   \n",
       "...              ...                               ...   \n",
       "68236         189472  MoQLSLdgc8N78DNeGEQHypzHbyf063p0   \n",
       "70419         195618  uhbUne0Zqx7l0LKNWrxxR44WistJmxKI   \n",
       "70710         196359  Io5gLr8QOxaBw8nFReloAXOpt3IlZ5WE   \n",
       "70715         196369  nV86nhQ7hJG7k83qAXvGwRzPT357EJhH   \n",
       "70775         196544  j79CPp6e09l3A1MeqgSV5ajYlxbk9Ixy   \n",
       "\n",
       "                              course_id  \n",
       "0      DPnLzkJJqOOPRJfBxIHbQEERiYHu5ila  \n",
       "60     DPnLzkJJqOOPRJfBxIHbQEERiYHu5ila  \n",
       "65     DPnLzkJJqOOPRJfBxIHbQEERiYHu5ila  \n",
       "86     DPnLzkJJqOOPRJfBxIHbQEERiYHu5ila  \n",
       "158    DPnLzkJJqOOPRJfBxIHbQEERiYHu5ila  \n",
       "...                                 ...  \n",
       "68236  DPnLzkJJqOOPRJfBxIHbQEERiYHu5ila  \n",
       "70419  DPnLzkJJqOOPRJfBxIHbQEERiYHu5ila  \n",
       "70710  DPnLzkJJqOOPRJfBxIHbQEERiYHu5ila  \n",
       "70715  DPnLzkJJqOOPRJfBxIHbQEERiYHu5ila  \n",
       "70775  DPnLzkJJqOOPRJfBxIHbQEERiYHu5ila  \n",
       "\n",
       "[188 rows x 3 columns]"
      ]
     },
     "execution_count": 14,
     "metadata": {},
     "output_type": "execute_result"
    }
   ],
   "source": [
    "new_train_df[new_train_df['course_id']=='DPnLzkJJqOOPRJfBxIHbQEERiYHu5ila']"
   ]
  },
  {
   "cell_type": "code",
   "execution_count": 15,
   "metadata": {},
   "outputs": [
    {
     "data": {
      "text/plain": [
       "(20, 692)"
      ]
     },
     "execution_count": 15,
     "metadata": {},
     "output_type": "execute_result"
    }
   ],
   "source": [
    "len(top_course), len(unique_greater5_username)"
   ]
  },
  {
   "cell_type": "markdown",
   "metadata": {},
   "source": [
    "### New dataset"
   ]
  },
  {
   "cell_type": "code",
   "execution_count": 16,
   "metadata": {},
   "outputs": [],
   "source": [
    "sample_dict = {\n",
    "    'Công nghệ phần mềm': [\n",
    "        'Thiết kế giao diện người dùng',\n",
    "        'Kiểm thử và đảm bảo chất lượng phần mềm',\n",
    "        'Kiến trúc phần mềm',\n",
    "        'Phân tích và thiết kế hướng đối tượng',\n",
    "        'Quản lý dự án phần mềm',\n",
    "    ],\n",
    "    'Toán học': [        \n",
    "        'Giải tích',\n",
    "        'Tư duy toán học',\n",
    "        'Đại số tuyến tính',\n",
    "        'Lý thuyết trò chơi',\n",
    "    ],\n",
    "    'Mạng và truyền thông': [        \n",
    "        'Lập trình mạng',\n",
    "        'Phát triển ứng dụng Web',\n",
    "        'An ninh mạng',\n",
    "    ],\n",
    "    'Marketing' : [\n",
    "        'Giới thiệu về marketing',\n",
    "        'Marketing trong thế giới thực',\n",
    "        'Tiếp thị kỹ thuật số',\n",
    "    ],\n",
    "    'Lịch sử': [\n",
    "        'Lịch sử Việt Nam cận đại',\n",
    "        'Chiến tranh thế giới thứ 1',\n",
    "        'Chiến tranh thế giới thứ 2',\n",
    "        'Văn hóa Việt Nam',\n",
    "        'Lịch sử Hà Nội',\n",
    "    ],\n",
    "}\n",
    "\n",
    "courses_data = {\n",
    "    'category': [],\n",
    "    'course': []\n",
    "}\n",
    "for category, courses in sample_dict.items():\n",
    "    for course in courses:\n",
    "        courses_data['category'].append(category)\n",
    "        courses_data['course'].append(course)\n",
    "courses_data_df = pd.DataFrame(courses_data, columns= ['category', 'course'])\n",
    "courses_data_df.to_csv('./courses.csv', index = False, header=True)"
   ]
  },
  {
   "cell_type": "code",
   "execution_count": 17,
   "metadata": {},
   "outputs": [
    {
     "name": "stdout",
     "output_type": "stream",
     "text": [
      "['Công nghệ phần mềm', 'Lịch sử', 'Marketing', 'Mạng và truyền thông', 'Toán học']\n",
      "Công nghệ phần mềm----Lịch sử----0.9\n",
      "Công nghệ phần mềm----Marketing----0.1\n",
      "Công nghệ phần mềm----Mạng và truyền thông----0.1\n",
      "Công nghệ phần mềm----Toán học----0.1\n",
      "Lịch sử----Marketing----0.5\n",
      "Lịch sử----Mạng và truyền thông----0.1\n",
      "Lịch sử----Toán học----0.1\n",
      "Marketing----Mạng và truyền thông----0.5\n",
      "Marketing----Toán học----0.5\n",
      "Mạng và truyền thông----Toán học----0.1\n"
     ]
    }
   ],
   "source": [
    "categories = list(sample_dict.keys())\n",
    "categories.sort()\n",
    "print(categories)\n",
    "\n",
    "defaut_categories = categories.copy()\n",
    "weights = [\n",
    "    0.9, 0.1, 0.1, 0.1,\n",
    "    0.5, 0.1, 0.1, \n",
    "    0.5, 0.5,\n",
    "    0.1,\n",
    "]\n",
    "\n",
    "rules_data = {\n",
    "    'c_from': [],\n",
    "    'c_to': [],\n",
    "    'weight': weights\n",
    "}\n",
    "\n",
    "for c_from in defaut_categories:\n",
    "    categories.pop(0)\n",
    "    if len(categories) == 0:\n",
    "        break\n",
    "    for c_to in categories:\n",
    "        print(c_from, c_to, weights[0], sep='----')\n",
    "        rules_data['c_from'].append(c_from)\n",
    "        rules_data['c_to'].append(c_to)\n",
    "        rules_data['weight'].append(weights[0])\n",
    "        weights.pop(0)\n",
    "\n",
    "\n",
    "rules_data_df = pd.DataFrame(rules_data, columns= ['c_from', 'c_to', 'weight'])\n",
    "rules_data_df.to_csv('./rules.csv', index = False, header=True)"
   ]
  },
  {
   "cell_type": "code",
   "execution_count": 18,
   "metadata": {},
   "outputs": [],
   "source": [
    "username = new_train_df.username.unique()\n",
    "new_username = list(['user{}'.format(i+1) for i in range(len(username))])\n",
    "new_name = list([names.get_full_name() for i in range(len(username))])\n",
    "\n",
    "dict_username = dict(zip(username, new_username))\n",
    "len(new_username), new_username[:10], new_name[:10]\n",
    "\n",
    "users_data = {\n",
    "    'user': new_username,\n",
    "    'name': new_name\n",
    "}\n",
    "users_data_df = pd.DataFrame(users_data, columns= ['user', 'name'])\n",
    "users_data_df.to_csv('./users.csv', index = False, header=True)"
   ]
  },
  {
   "cell_type": "markdown",
   "metadata": {},
   "source": [
    "Công nghệ phần mềm\n",
    "\n",
    "Sinh viên thực hiện: Vũ Công Duy – 20150636 (Việt Nhật AS - K60)\n",
    "1. Công nghệ phần mềm\n",
    "o Thiết kế giao diện người dùng\n",
    "o Kiểm thử và đảm bảo chất lượng phần mềm\n",
    "o Kiến trúc phần mềm\n",
    "o Phân tích và thiết kế hướng đối tượng\n",
    "o Quản lý dự án phần mềm\n",
    "\n",
    "2. Toán học\n",
    "o Giải tích\n",
    "o Tư duy toán học\n",
    "o Đại số tuyến tính\n",
    "o Toán ứng dụng\n",
    "\n",
    "3. Kinh doanh\n",
    "o Cơ sở kinh doanh\n",
    "o Thị trường tài chính\n",
    "\n",
    "4. Khoa học máy tính\n",
    "o Trí tuệ nhân tạo\n",
    "o Chương trình dịch\n",
    "o Xử lý ảnh\n",
    "o Học máy\n",
    "\n",
    "5. Ngôn ngữ\n",
    "o Nhập môn tiếng Nhật\n",
    "o Tiếng Anh giao tiếp\n",
    "\n",
    "6. Mạng và truyền thông\n",
    "o Lập trình mạng\n",
    "o Phát triển ứng dụng Web\n",
    "o Quản trị mạng"
   ]
  },
  {
   "cell_type": "code",
   "execution_count": 19,
   "metadata": {},
   "outputs": [
    {
     "data": {
      "text/plain": [
       "(20,\n",
       " ['81UZtt1JJwBFYMj5u38WNKCSVA4IJSDv',\n",
       "  'DPnLzkJJqOOPRJfBxIHbQEERiYHu5ila',\n",
       "  'I7Go4XwWgpjRJM8EZGEnBpkfSmBNOlsO',\n",
       "  'H2lDW05SyKnwntZ6Fora76aPAEswcMa5',\n",
       "  'AXUJZGmZ0xaYSWazu8RQ1G5c76ECT1Kd',\n",
       "  'SpATywNh6bZuzm8s1ceuBUnMUAeoAHHw',\n",
       "  'ykoe1cCWK134BJmfbNoPEenJOIWdtQOZ',\n",
       "  'shM3Yy9vxHn2aqjSYfQXOcwGo0hWh3MI',\n",
       "  '9Bd26pfDLvkPINwLnpaGcf0LrLUvY1Mz',\n",
       "  'V4tXq15GxHo2gaMpaJLZ3IGEkP949IbE'],\n",
       " ['Thiết kế giao diện người dùng',\n",
       "  'Kiểm thử và đảm bảo chất lượng phần mềm',\n",
       "  'Kiến trúc phần mềm',\n",
       "  'Phân tích và thiết kế hướng đối tượng',\n",
       "  'Quản lý dự án phần mềm',\n",
       "  'Giải tích',\n",
       "  'Tư duy toán học',\n",
       "  'Đại số tuyến tính',\n",
       "  'Lý thuyết trò chơi',\n",
       "  'Lập trình mạng'])"
      ]
     },
     "execution_count": 19,
     "metadata": {},
     "output_type": "execute_result"
    }
   ],
   "source": [
    "course_id = top_course\n",
    "sample_course = np.hstack(list(sample_dict.values()))\n",
    "len(sample_course), sample_course, range(len(course_id))\n",
    "new_course_id = list([sample_course[i] for i in range(len(course_id))])\n",
    "\n",
    "dict_course_id = dict(zip(course_id, new_course_id))\n",
    "len(course_id), course_id[:10], new_course_id[:10]"
   ]
  },
  {
   "cell_type": "code",
   "execution_count": 20,
   "metadata": {},
   "outputs": [
    {
     "data": {
      "text/plain": [
       "['Thiết kế giao diện người dùng',\n",
       " 'Kiểm thử và đảm bảo chất lượng phần mềm',\n",
       " 'Kiến trúc phần mềm',\n",
       " 'Phân tích và thiết kế hướng đối tượng',\n",
       " 'Quản lý dự án phần mềm',\n",
       " 'Giải tích',\n",
       " 'Tư duy toán học',\n",
       " 'Đại số tuyến tính',\n",
       " 'Lý thuyết trò chơi',\n",
       " 'Lập trình mạng',\n",
       " 'Phát triển ứng dụng Web',\n",
       " 'An ninh mạng',\n",
       " 'Giới thiệu về marketing',\n",
       " 'Marketing trong thế giới thực',\n",
       " 'Tiếp thị kỹ thuật số',\n",
       " 'Lịch sử Việt Nam cận đại',\n",
       " 'Chiến tranh thế giới thứ 1',\n",
       " 'Chiến tranh thế giới thứ 2',\n",
       " 'Văn hóa Việt Nam',\n",
       " 'Lịch sử Hà Nội']"
      ]
     },
     "execution_count": 20,
     "metadata": {},
     "output_type": "execute_result"
    }
   ],
   "source": [
    "new_course_id"
   ]
  },
  {
   "cell_type": "code",
   "execution_count": 21,
   "metadata": {},
   "outputs": [
    {
     "data": {
      "text/plain": [
       "0      user1\n",
       "60     user2\n",
       "65     user3\n",
       "86     user4\n",
       "158    user5\n",
       "275    user6\n",
       "338    user7\n",
       "339    user7\n",
       "374    user8\n",
       "377    user9\n",
       "Name: user, dtype: object"
      ]
     },
     "execution_count": 21,
     "metadata": {},
     "output_type": "execute_result"
    }
   ],
   "source": [
    "new_train_df['user'] = new_train_df['username'].apply(lambda u: dict_username[u])\n",
    "new_train_df['user'][:10]"
   ]
  },
  {
   "cell_type": "code",
   "execution_count": 22,
   "metadata": {},
   "outputs": [
    {
     "data": {
      "text/plain": [
       "0      Kiểm thử và đảm bảo chất lượng phần mềm\n",
       "60     Kiểm thử và đảm bảo chất lượng phần mềm\n",
       "65     Kiểm thử và đảm bảo chất lượng phần mềm\n",
       "86     Kiểm thử và đảm bảo chất lượng phần mềm\n",
       "158    Kiểm thử và đảm bảo chất lượng phần mềm\n",
       "275                     Quản lý dự án phần mềm\n",
       "338                     Quản lý dự án phần mềm\n",
       "339    Kiểm thử và đảm bảo chất lượng phần mềm\n",
       "374                     Quản lý dự án phần mềm\n",
       "377    Kiểm thử và đảm bảo chất lượng phần mềm\n",
       "Name: course, dtype: object"
      ]
     },
     "execution_count": 22,
     "metadata": {},
     "output_type": "execute_result"
    }
   ],
   "source": [
    "new_train_df['course'] = new_train_df['course_id'].apply(lambda c: dict_course_id[c])\n",
    "new_train_df['course'][:10]"
   ]
  },
  {
   "cell_type": "code",
   "execution_count": 23,
   "metadata": {},
   "outputs": [
    {
     "data": {
      "text/html": [
       "<div>\n",
       "<style scoped>\n",
       "    .dataframe tbody tr th:only-of-type {\n",
       "        vertical-align: middle;\n",
       "    }\n",
       "\n",
       "    .dataframe tbody tr th {\n",
       "        vertical-align: top;\n",
       "    }\n",
       "\n",
       "    .dataframe thead th {\n",
       "        text-align: right;\n",
       "    }\n",
       "</style>\n",
       "<table border=\"1\" class=\"dataframe\">\n",
       "  <thead>\n",
       "    <tr style=\"text-align: right;\">\n",
       "      <th></th>\n",
       "      <th>enrollment_id</th>\n",
       "      <th>username</th>\n",
       "      <th>course_id</th>\n",
       "      <th>user</th>\n",
       "      <th>course</th>\n",
       "    </tr>\n",
       "  </thead>\n",
       "  <tbody>\n",
       "    <tr>\n",
       "      <th>0</th>\n",
       "      <td>1</td>\n",
       "      <td>9Uee7oEuuMmgPx2IzPfFkWgkHZyPbWr0</td>\n",
       "      <td>DPnLzkJJqOOPRJfBxIHbQEERiYHu5ila</td>\n",
       "      <td>user1</td>\n",
       "      <td>Kiểm thử và đảm bảo chất lượng phần mềm</td>\n",
       "    </tr>\n",
       "    <tr>\n",
       "      <th>60</th>\n",
       "      <td>159</td>\n",
       "      <td>FX39OUMp2fc5cOhN2hgQkfpLfm3Fwtwz</td>\n",
       "      <td>DPnLzkJJqOOPRJfBxIHbQEERiYHu5ila</td>\n",
       "      <td>user2</td>\n",
       "      <td>Kiểm thử và đảm bảo chất lượng phần mềm</td>\n",
       "    </tr>\n",
       "    <tr>\n",
       "      <th>65</th>\n",
       "      <td>186</td>\n",
       "      <td>eakdJaYNzY2KmT602U8CscAjNHHpGkgl</td>\n",
       "      <td>DPnLzkJJqOOPRJfBxIHbQEERiYHu5ila</td>\n",
       "      <td>user3</td>\n",
       "      <td>Kiểm thử và đảm bảo chất lượng phần mềm</td>\n",
       "    </tr>\n",
       "    <tr>\n",
       "      <th>86</th>\n",
       "      <td>245</td>\n",
       "      <td>zVX5LPwTGC1SEitxSfv31cubNXKJSEc2</td>\n",
       "      <td>DPnLzkJJqOOPRJfBxIHbQEERiYHu5ila</td>\n",
       "      <td>user4</td>\n",
       "      <td>Kiểm thử và đảm bảo chất lượng phần mềm</td>\n",
       "    </tr>\n",
       "    <tr>\n",
       "      <th>158</th>\n",
       "      <td>432</td>\n",
       "      <td>sD3rDh1CtXsAdfDDyFRBf917K7ELQzHQ</td>\n",
       "      <td>DPnLzkJJqOOPRJfBxIHbQEERiYHu5ila</td>\n",
       "      <td>user5</td>\n",
       "      <td>Kiểm thử và đảm bảo chất lượng phần mềm</td>\n",
       "    </tr>\n",
       "    <tr>\n",
       "      <th>275</th>\n",
       "      <td>791</td>\n",
       "      <td>Wyji6pvgj7unEJ4mD7FWwu0Sma8fUdv4</td>\n",
       "      <td>AXUJZGmZ0xaYSWazu8RQ1G5c76ECT1Kd</td>\n",
       "      <td>user6</td>\n",
       "      <td>Quản lý dự án phần mềm</td>\n",
       "    </tr>\n",
       "    <tr>\n",
       "      <th>338</th>\n",
       "      <td>953</td>\n",
       "      <td>8GKtgh5ojCBJDZIzab4pnG3eXm8mejoD</td>\n",
       "      <td>AXUJZGmZ0xaYSWazu8RQ1G5c76ECT1Kd</td>\n",
       "      <td>user7</td>\n",
       "      <td>Quản lý dự án phần mềm</td>\n",
       "    </tr>\n",
       "    <tr>\n",
       "      <th>339</th>\n",
       "      <td>954</td>\n",
       "      <td>8GKtgh5ojCBJDZIzab4pnG3eXm8mejoD</td>\n",
       "      <td>DPnLzkJJqOOPRJfBxIHbQEERiYHu5ila</td>\n",
       "      <td>user7</td>\n",
       "      <td>Kiểm thử và đảm bảo chất lượng phần mềm</td>\n",
       "    </tr>\n",
       "    <tr>\n",
       "      <th>374</th>\n",
       "      <td>1075</td>\n",
       "      <td>90tR2Jy52lv1kJ6TwJ9Jqo5P6u0CqT0E</td>\n",
       "      <td>AXUJZGmZ0xaYSWazu8RQ1G5c76ECT1Kd</td>\n",
       "      <td>user8</td>\n",
       "      <td>Quản lý dự án phần mềm</td>\n",
       "    </tr>\n",
       "    <tr>\n",
       "      <th>377</th>\n",
       "      <td>1080</td>\n",
       "      <td>0CuRIhBavvQKL5rTT1QWf2kztAfRXZug</td>\n",
       "      <td>DPnLzkJJqOOPRJfBxIHbQEERiYHu5ila</td>\n",
       "      <td>user9</td>\n",
       "      <td>Kiểm thử và đảm bảo chất lượng phần mềm</td>\n",
       "    </tr>\n",
       "  </tbody>\n",
       "</table>\n",
       "</div>"
      ],
      "text/plain": [
       "     enrollment_id                          username  \\\n",
       "0                1  9Uee7oEuuMmgPx2IzPfFkWgkHZyPbWr0   \n",
       "60             159  FX39OUMp2fc5cOhN2hgQkfpLfm3Fwtwz   \n",
       "65             186  eakdJaYNzY2KmT602U8CscAjNHHpGkgl   \n",
       "86             245  zVX5LPwTGC1SEitxSfv31cubNXKJSEc2   \n",
       "158            432  sD3rDh1CtXsAdfDDyFRBf917K7ELQzHQ   \n",
       "275            791  Wyji6pvgj7unEJ4mD7FWwu0Sma8fUdv4   \n",
       "338            953  8GKtgh5ojCBJDZIzab4pnG3eXm8mejoD   \n",
       "339            954  8GKtgh5ojCBJDZIzab4pnG3eXm8mejoD   \n",
       "374           1075  90tR2Jy52lv1kJ6TwJ9Jqo5P6u0CqT0E   \n",
       "377           1080  0CuRIhBavvQKL5rTT1QWf2kztAfRXZug   \n",
       "\n",
       "                            course_id   user  \\\n",
       "0    DPnLzkJJqOOPRJfBxIHbQEERiYHu5ila  user1   \n",
       "60   DPnLzkJJqOOPRJfBxIHbQEERiYHu5ila  user2   \n",
       "65   DPnLzkJJqOOPRJfBxIHbQEERiYHu5ila  user3   \n",
       "86   DPnLzkJJqOOPRJfBxIHbQEERiYHu5ila  user4   \n",
       "158  DPnLzkJJqOOPRJfBxIHbQEERiYHu5ila  user5   \n",
       "275  AXUJZGmZ0xaYSWazu8RQ1G5c76ECT1Kd  user6   \n",
       "338  AXUJZGmZ0xaYSWazu8RQ1G5c76ECT1Kd  user7   \n",
       "339  DPnLzkJJqOOPRJfBxIHbQEERiYHu5ila  user7   \n",
       "374  AXUJZGmZ0xaYSWazu8RQ1G5c76ECT1Kd  user8   \n",
       "377  DPnLzkJJqOOPRJfBxIHbQEERiYHu5ila  user9   \n",
       "\n",
       "                                      course  \n",
       "0    Kiểm thử và đảm bảo chất lượng phần mềm  \n",
       "60   Kiểm thử và đảm bảo chất lượng phần mềm  \n",
       "65   Kiểm thử và đảm bảo chất lượng phần mềm  \n",
       "86   Kiểm thử và đảm bảo chất lượng phần mềm  \n",
       "158  Kiểm thử và đảm bảo chất lượng phần mềm  \n",
       "275                   Quản lý dự án phần mềm  \n",
       "338                   Quản lý dự án phần mềm  \n",
       "339  Kiểm thử và đảm bảo chất lượng phần mềm  \n",
       "374                   Quản lý dự án phần mềm  \n",
       "377  Kiểm thử và đảm bảo chất lượng phần mềm  "
      ]
     },
     "execution_count": 23,
     "metadata": {},
     "output_type": "execute_result"
    }
   ],
   "source": [
    "new_train_df[:10]"
   ]
  },
  {
   "cell_type": "code",
   "execution_count": 24,
   "metadata": {},
   "outputs": [],
   "source": [
    "new_train_df.to_csv('./enroll_train.csv')"
   ]
  },
  {
   "cell_type": "code",
   "execution_count": 25,
   "metadata": {},
   "outputs": [],
   "source": [
    "# Save to experiment\n",
    "new_train_df.to_csv('./experiment/v0/enrollment_train.csv', columns=['enrollment_id', 'username', 'course_id'], index=False)"
   ]
  },
  {
   "cell_type": "markdown",
   "metadata": {},
   "source": [
    "### Use new username, course to apply in test"
   ]
  },
  {
   "cell_type": "code",
   "execution_count": 26,
   "metadata": {},
   "outputs": [
    {
     "data": {
      "text/plain": [
       "24013"
      ]
     },
     "execution_count": 26,
     "metadata": {},
     "output_type": "execute_result"
    }
   ],
   "source": [
    "# Total records\n",
    "test_df = pd.read_csv('./test/enrollment_test.csv')\n",
    "len(test_df)"
   ]
  },
  {
   "cell_type": "code",
   "execution_count": 27,
   "metadata": {},
   "outputs": [
    {
     "data": {
      "text/html": [
       "<div>\n",
       "<style scoped>\n",
       "    .dataframe tbody tr th:only-of-type {\n",
       "        vertical-align: middle;\n",
       "    }\n",
       "\n",
       "    .dataframe tbody tr th {\n",
       "        vertical-align: top;\n",
       "    }\n",
       "\n",
       "    .dataframe thead th {\n",
       "        text-align: right;\n",
       "    }\n",
       "</style>\n",
       "<table border=\"1\" class=\"dataframe\">\n",
       "  <thead>\n",
       "    <tr style=\"text-align: right;\">\n",
       "      <th></th>\n",
       "      <th>enrollment_id</th>\n",
       "      <th>username</th>\n",
       "      <th>course_id</th>\n",
       "    </tr>\n",
       "  </thead>\n",
       "  <tbody>\n",
       "    <tr>\n",
       "      <th>0</th>\n",
       "      <td>30</td>\n",
       "      <td>JPkczYOxyoDZBjwZAAQHmjpSvnPQzwV0</td>\n",
       "      <td>DPnLzkJJqOOPRJfBxIHbQEERiYHu5ila</td>\n",
       "    </tr>\n",
       "    <tr>\n",
       "      <th>1</th>\n",
       "      <td>31</td>\n",
       "      <td>6mzGZyDGSLMvgMQyFwXmz47ojS1kH3j6</td>\n",
       "      <td>DPnLzkJJqOOPRJfBxIHbQEERiYHu5ila</td>\n",
       "    </tr>\n",
       "    <tr>\n",
       "      <th>2</th>\n",
       "      <td>45</td>\n",
       "      <td>5Tz6BGN7p1lkmdoopAY1Z5ufYTrUsi9E</td>\n",
       "      <td>7GRhBDsirIGkRZBtSMEzNTyDr2JQm4xx</td>\n",
       "    </tr>\n",
       "    <tr>\n",
       "      <th>3</th>\n",
       "      <td>48</td>\n",
       "      <td>1ELMItXjpijnCZU4WKxvrVri8AjkR2gf</td>\n",
       "      <td>AXUJZGmZ0xaYSWazu8RQ1G5c76ECT1Kd</td>\n",
       "    </tr>\n",
       "    <tr>\n",
       "      <th>4</th>\n",
       "      <td>50</td>\n",
       "      <td>LnNj9zDI8D38ixGOYTIjTH2iF5m36v9S</td>\n",
       "      <td>7GRhBDsirIGkRZBtSMEzNTyDr2JQm4xx</td>\n",
       "    </tr>\n",
       "  </tbody>\n",
       "</table>\n",
       "</div>"
      ],
      "text/plain": [
       "   enrollment_id                          username  \\\n",
       "0             30  JPkczYOxyoDZBjwZAAQHmjpSvnPQzwV0   \n",
       "1             31  6mzGZyDGSLMvgMQyFwXmz47ojS1kH3j6   \n",
       "2             45  5Tz6BGN7p1lkmdoopAY1Z5ufYTrUsi9E   \n",
       "3             48  1ELMItXjpijnCZU4WKxvrVri8AjkR2gf   \n",
       "4             50  LnNj9zDI8D38ixGOYTIjTH2iF5m36v9S   \n",
       "\n",
       "                          course_id  \n",
       "0  DPnLzkJJqOOPRJfBxIHbQEERiYHu5ila  \n",
       "1  DPnLzkJJqOOPRJfBxIHbQEERiYHu5ila  \n",
       "2  7GRhBDsirIGkRZBtSMEzNTyDr2JQm4xx  \n",
       "3  AXUJZGmZ0xaYSWazu8RQ1G5c76ECT1Kd  \n",
       "4  7GRhBDsirIGkRZBtSMEzNTyDr2JQm4xx  "
      ]
     },
     "execution_count": 27,
     "metadata": {},
     "output_type": "execute_result"
    }
   ],
   "source": [
    "test_df.head()"
   ]
  },
  {
   "cell_type": "code",
   "execution_count": 28,
   "metadata": {},
   "outputs": [
    {
     "data": {
      "text/plain": [
       "array(['9Uee7oEuuMmgPx2IzPfFkWgkHZyPbWr0',\n",
       "       'FX39OUMp2fc5cOhN2hgQkfpLfm3Fwtwz',\n",
       "       'eakdJaYNzY2KmT602U8CscAjNHHpGkgl',\n",
       "       'zVX5LPwTGC1SEitxSfv31cubNXKJSEc2',\n",
       "       'sD3rDh1CtXsAdfDDyFRBf917K7ELQzHQ',\n",
       "       'Wyji6pvgj7unEJ4mD7FWwu0Sma8fUdv4',\n",
       "       '8GKtgh5ojCBJDZIzab4pnG3eXm8mejoD',\n",
       "       '90tR2Jy52lv1kJ6TwJ9Jqo5P6u0CqT0E',\n",
       "       '0CuRIhBavvQKL5rTT1QWf2kztAfRXZug',\n",
       "       '61ysO1Pg5Q6bsn73gkzoQt72GbhUHgNd'], dtype=object)"
      ]
     },
     "execution_count": 28,
     "metadata": {},
     "output_type": "execute_result"
    }
   ],
   "source": [
    "# user name unique in train_df \n",
    "username[:10]"
   ]
  },
  {
   "cell_type": "code",
   "execution_count": 29,
   "metadata": {},
   "outputs": [
    {
     "data": {
      "text/plain": [
       "['81UZtt1JJwBFYMj5u38WNKCSVA4IJSDv',\n",
       " 'DPnLzkJJqOOPRJfBxIHbQEERiYHu5ila',\n",
       " 'I7Go4XwWgpjRJM8EZGEnBpkfSmBNOlsO',\n",
       " 'H2lDW05SyKnwntZ6Fora76aPAEswcMa5',\n",
       " 'AXUJZGmZ0xaYSWazu8RQ1G5c76ECT1Kd',\n",
       " 'SpATywNh6bZuzm8s1ceuBUnMUAeoAHHw',\n",
       " 'ykoe1cCWK134BJmfbNoPEenJOIWdtQOZ',\n",
       " 'shM3Yy9vxHn2aqjSYfQXOcwGo0hWh3MI',\n",
       " '9Bd26pfDLvkPINwLnpaGcf0LrLUvY1Mz',\n",
       " 'V4tXq15GxHo2gaMpaJLZ3IGEkP949IbE']"
      ]
     },
     "execution_count": 29,
     "metadata": {},
     "output_type": "execute_result"
    }
   ],
   "source": [
    "# course_id unique in train_df \n",
    "course_id[:10]"
   ]
  },
  {
   "cell_type": "code",
   "execution_count": 30,
   "metadata": {},
   "outputs": [],
   "source": [
    "# Only test if username and course appear in train_df\n",
    "def inTrain(row):\n",
    "    if row['username'] in username and row['course_id'] in course_id:\n",
    "        return True\n",
    "    return False"
   ]
  },
  {
   "cell_type": "code",
   "execution_count": 31,
   "metadata": {},
   "outputs": [
    {
     "data": {
      "text/plain": [
       "459"
      ]
     },
     "execution_count": 31,
     "metadata": {},
     "output_type": "execute_result"
    }
   ],
   "source": [
    "in_train = test_df.apply(inTrain, axis=1)\n",
    "new_test_df = test_df[in_train]\n",
    "len(new_test_df)"
   ]
  },
  {
   "cell_type": "code",
   "execution_count": 32,
   "metadata": {},
   "outputs": [
    {
     "data": {
      "text/html": [
       "<div>\n",
       "<style scoped>\n",
       "    .dataframe tbody tr th:only-of-type {\n",
       "        vertical-align: middle;\n",
       "    }\n",
       "\n",
       "    .dataframe tbody tr th {\n",
       "        vertical-align: top;\n",
       "    }\n",
       "\n",
       "    .dataframe thead th {\n",
       "        text-align: right;\n",
       "    }\n",
       "</style>\n",
       "<table border=\"1\" class=\"dataframe\">\n",
       "  <thead>\n",
       "    <tr style=\"text-align: right;\">\n",
       "      <th></th>\n",
       "      <th>enrollment_id</th>\n",
       "      <th>username</th>\n",
       "      <th>course_id</th>\n",
       "    </tr>\n",
       "  </thead>\n",
       "  <tbody>\n",
       "    <tr>\n",
       "      <th>38</th>\n",
       "      <td>334</td>\n",
       "      <td>uQjl8NGtIQkRfoe9edBiMgtYYmdkzVXR</td>\n",
       "      <td>DPnLzkJJqOOPRJfBxIHbQEERiYHu5ila</td>\n",
       "    </tr>\n",
       "    <tr>\n",
       "      <th>168</th>\n",
       "      <td>1424</td>\n",
       "      <td>VBP5PzVQEKJYFH0y5ffEek5WfP9EW7uc</td>\n",
       "      <td>AXUJZGmZ0xaYSWazu8RQ1G5c76ECT1Kd</td>\n",
       "    </tr>\n",
       "    <tr>\n",
       "      <th>207</th>\n",
       "      <td>1813</td>\n",
       "      <td>y28h4Mo8cYpNiUreeF5KoyNN24Uz0qpM</td>\n",
       "      <td>fbPkOYLVPtPgIt0MxizjfFJov3JbHyAi</td>\n",
       "    </tr>\n",
       "    <tr>\n",
       "      <th>225</th>\n",
       "      <td>1974</td>\n",
       "      <td>viuKt4GgrX0rYL5EpHoxJbsiC9TblSuk</td>\n",
       "      <td>81UZtt1JJwBFYMj5u38WNKCSVA4IJSDv</td>\n",
       "    </tr>\n",
       "    <tr>\n",
       "      <th>235</th>\n",
       "      <td>2092</td>\n",
       "      <td>5IM8g7YMOYo5qH7Yu3x31T3JkVOH9iqe</td>\n",
       "      <td>81UZtt1JJwBFYMj5u38WNKCSVA4IJSDv</td>\n",
       "    </tr>\n",
       "  </tbody>\n",
       "</table>\n",
       "</div>"
      ],
      "text/plain": [
       "     enrollment_id                          username  \\\n",
       "38             334  uQjl8NGtIQkRfoe9edBiMgtYYmdkzVXR   \n",
       "168           1424  VBP5PzVQEKJYFH0y5ffEek5WfP9EW7uc   \n",
       "207           1813  y28h4Mo8cYpNiUreeF5KoyNN24Uz0qpM   \n",
       "225           1974  viuKt4GgrX0rYL5EpHoxJbsiC9TblSuk   \n",
       "235           2092  5IM8g7YMOYo5qH7Yu3x31T3JkVOH9iqe   \n",
       "\n",
       "                            course_id  \n",
       "38   DPnLzkJJqOOPRJfBxIHbQEERiYHu5ila  \n",
       "168  AXUJZGmZ0xaYSWazu8RQ1G5c76ECT1Kd  \n",
       "207  fbPkOYLVPtPgIt0MxizjfFJov3JbHyAi  \n",
       "225  81UZtt1JJwBFYMj5u38WNKCSVA4IJSDv  \n",
       "235  81UZtt1JJwBFYMj5u38WNKCSVA4IJSDv  "
      ]
     },
     "execution_count": 32,
     "metadata": {},
     "output_type": "execute_result"
    }
   ],
   "source": [
    "new_test_df.head()"
   ]
  },
  {
   "cell_type": "code",
   "execution_count": 33,
   "metadata": {},
   "outputs": [
    {
     "name": "stderr",
     "output_type": "stream",
     "text": [
      "/home/duyvc/code/elearning/SeedSQL/venv/lib/python3.6/site-packages/ipykernel_launcher.py:1: SettingWithCopyWarning: \n",
      "A value is trying to be set on a copy of a slice from a DataFrame.\n",
      "Try using .loc[row_indexer,col_indexer] = value instead\n",
      "\n",
      "See the caveats in the documentation: https://pandas.pydata.org/pandas-docs/stable/user_guide/indexing.html#returning-a-view-versus-a-copy\n",
      "  \"\"\"Entry point for launching an IPython kernel.\n"
     ]
    },
    {
     "data": {
      "text/plain": [
       "38     user161\n",
       "168    user299\n",
       "207    user317\n",
       "225     user26\n",
       "235    user160\n",
       "240     user63\n",
       "261    user667\n",
       "301     user41\n",
       "323    user535\n",
       "329    user177\n",
       "Name: user_id, dtype: object"
      ]
     },
     "execution_count": 33,
     "metadata": {},
     "output_type": "execute_result"
    }
   ],
   "source": [
    "new_test_df['user_id'] = new_test_df['username'].apply(lambda u: dict_username[u])\n",
    "new_test_df['user_id'][:10]"
   ]
  },
  {
   "cell_type": "code",
   "execution_count": 34,
   "metadata": {},
   "outputs": [
    {
     "name": "stderr",
     "output_type": "stream",
     "text": [
      "/home/duyvc/code/elearning/SeedSQL/venv/lib/python3.6/site-packages/ipykernel_launcher.py:1: SettingWithCopyWarning: \n",
      "A value is trying to be set on a copy of a slice from a DataFrame.\n",
      "Try using .loc[row_indexer,col_indexer] = value instead\n",
      "\n",
      "See the caveats in the documentation: https://pandas.pydata.org/pandas-docs/stable/user_guide/indexing.html#returning-a-view-versus-a-copy\n",
      "  \"\"\"Entry point for launching an IPython kernel.\n"
     ]
    },
    {
     "data": {
      "text/plain": [
       "38     Kiểm thử và đảm bảo chất lượng phần mềm\n",
       "168                     Quản lý dự án phần mềm\n",
       "207                 Chiến tranh thế giới thứ 2\n",
       "225              Thiết kế giao diện người dùng\n",
       "235              Thiết kế giao diện người dùng\n",
       "240              Thiết kế giao diện người dùng\n",
       "261                    Giới thiệu về marketing\n",
       "301                    Giới thiệu về marketing\n",
       "323              Thiết kế giao diện người dùng\n",
       "329                    Giới thiệu về marketing\n",
       "Name: course_idd, dtype: object"
      ]
     },
     "execution_count": 34,
     "metadata": {},
     "output_type": "execute_result"
    }
   ],
   "source": [
    "new_test_df['course_idd'] = new_test_df['course_id'].apply(lambda c: dict_course_id[c])\n",
    "new_test_df['course_idd'][:10]"
   ]
  },
  {
   "cell_type": "code",
   "execution_count": 35,
   "metadata": {
    "scrolled": true
   },
   "outputs": [
    {
     "data": {
      "text/html": [
       "<div>\n",
       "<style scoped>\n",
       "    .dataframe tbody tr th:only-of-type {\n",
       "        vertical-align: middle;\n",
       "    }\n",
       "\n",
       "    .dataframe tbody tr th {\n",
       "        vertical-align: top;\n",
       "    }\n",
       "\n",
       "    .dataframe thead th {\n",
       "        text-align: right;\n",
       "    }\n",
       "</style>\n",
       "<table border=\"1\" class=\"dataframe\">\n",
       "  <thead>\n",
       "    <tr style=\"text-align: right;\">\n",
       "      <th></th>\n",
       "      <th>enrollment_id</th>\n",
       "      <th>username</th>\n",
       "      <th>course_id</th>\n",
       "      <th>user_id</th>\n",
       "      <th>course_idd</th>\n",
       "    </tr>\n",
       "  </thead>\n",
       "  <tbody>\n",
       "    <tr>\n",
       "      <th>38</th>\n",
       "      <td>334</td>\n",
       "      <td>uQjl8NGtIQkRfoe9edBiMgtYYmdkzVXR</td>\n",
       "      <td>DPnLzkJJqOOPRJfBxIHbQEERiYHu5ila</td>\n",
       "      <td>user161</td>\n",
       "      <td>Kiểm thử và đảm bảo chất lượng phần mềm</td>\n",
       "    </tr>\n",
       "    <tr>\n",
       "      <th>168</th>\n",
       "      <td>1424</td>\n",
       "      <td>VBP5PzVQEKJYFH0y5ffEek5WfP9EW7uc</td>\n",
       "      <td>AXUJZGmZ0xaYSWazu8RQ1G5c76ECT1Kd</td>\n",
       "      <td>user299</td>\n",
       "      <td>Quản lý dự án phần mềm</td>\n",
       "    </tr>\n",
       "    <tr>\n",
       "      <th>207</th>\n",
       "      <td>1813</td>\n",
       "      <td>y28h4Mo8cYpNiUreeF5KoyNN24Uz0qpM</td>\n",
       "      <td>fbPkOYLVPtPgIt0MxizjfFJov3JbHyAi</td>\n",
       "      <td>user317</td>\n",
       "      <td>Chiến tranh thế giới thứ 2</td>\n",
       "    </tr>\n",
       "    <tr>\n",
       "      <th>225</th>\n",
       "      <td>1974</td>\n",
       "      <td>viuKt4GgrX0rYL5EpHoxJbsiC9TblSuk</td>\n",
       "      <td>81UZtt1JJwBFYMj5u38WNKCSVA4IJSDv</td>\n",
       "      <td>user26</td>\n",
       "      <td>Thiết kế giao diện người dùng</td>\n",
       "    </tr>\n",
       "    <tr>\n",
       "      <th>235</th>\n",
       "      <td>2092</td>\n",
       "      <td>5IM8g7YMOYo5qH7Yu3x31T3JkVOH9iqe</td>\n",
       "      <td>81UZtt1JJwBFYMj5u38WNKCSVA4IJSDv</td>\n",
       "      <td>user160</td>\n",
       "      <td>Thiết kế giao diện người dùng</td>\n",
       "    </tr>\n",
       "  </tbody>\n",
       "</table>\n",
       "</div>"
      ],
      "text/plain": [
       "     enrollment_id                          username  \\\n",
       "38             334  uQjl8NGtIQkRfoe9edBiMgtYYmdkzVXR   \n",
       "168           1424  VBP5PzVQEKJYFH0y5ffEek5WfP9EW7uc   \n",
       "207           1813  y28h4Mo8cYpNiUreeF5KoyNN24Uz0qpM   \n",
       "225           1974  viuKt4GgrX0rYL5EpHoxJbsiC9TblSuk   \n",
       "235           2092  5IM8g7YMOYo5qH7Yu3x31T3JkVOH9iqe   \n",
       "\n",
       "                            course_id  user_id  \\\n",
       "38   DPnLzkJJqOOPRJfBxIHbQEERiYHu5ila  user161   \n",
       "168  AXUJZGmZ0xaYSWazu8RQ1G5c76ECT1Kd  user299   \n",
       "207  fbPkOYLVPtPgIt0MxizjfFJov3JbHyAi  user317   \n",
       "225  81UZtt1JJwBFYMj5u38WNKCSVA4IJSDv   user26   \n",
       "235  81UZtt1JJwBFYMj5u38WNKCSVA4IJSDv  user160   \n",
       "\n",
       "                                  course_idd  \n",
       "38   Kiểm thử và đảm bảo chất lượng phần mềm  \n",
       "168                   Quản lý dự án phần mềm  \n",
       "207               Chiến tranh thế giới thứ 2  \n",
       "225            Thiết kế giao diện người dùng  \n",
       "235            Thiết kế giao diện người dùng  "
      ]
     },
     "execution_count": 35,
     "metadata": {},
     "output_type": "execute_result"
    }
   ],
   "source": [
    "new_test_df.head()"
   ]
  },
  {
   "cell_type": "code",
   "execution_count": 36,
   "metadata": {},
   "outputs": [],
   "source": [
    "new_test_df.to_csv('./enroll_test.csv')"
   ]
  },
  {
   "cell_type": "code",
   "execution_count": 37,
   "metadata": {},
   "outputs": [],
   "source": [
    "# Save to experiment\n",
    "new_test_df.to_csv('./experiment/v0/enrollment_test.csv', columns=['enrollment_id', 'username', 'course_id'], index=False)"
   ]
  },
  {
   "cell_type": "code",
   "execution_count": null,
   "metadata": {},
   "outputs": [],
   "source": []
  }
 ],
 "metadata": {
  "kernelspec": {
   "display_name": "Python 3",
   "language": "python",
   "name": "python3"
  },
  "language_info": {
   "codemirror_mode": {
    "name": "ipython",
    "version": 3
   },
   "file_extension": ".py",
   "mimetype": "text/x-python",
   "name": "python",
   "nbconvert_exporter": "python",
   "pygments_lexer": "ipython3",
   "version": "3.6.9"
  }
 },
 "nbformat": 4,
 "nbformat_minor": 2
}
