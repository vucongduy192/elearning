{
 "cells": [
  {
   "cell_type": "code",
   "execution_count": 1,
   "metadata": {},
   "outputs": [],
   "source": [
    "import pandas as pd\n",
    "import numpy as np"
   ]
  },
  {
   "cell_type": "markdown",
   "metadata": {},
   "source": [
    "## Train df process"
   ]
  },
  {
   "cell_type": "code",
   "execution_count": 2,
   "metadata": {},
   "outputs": [
    {
     "data": {
      "text/plain": [
       "72395"
      ]
     },
     "execution_count": 2,
     "metadata": {},
     "output_type": "execute_result"
    }
   ],
   "source": [
    "# Total records\n",
    "train_df = pd.read_csv('./train/enrollment_train.csv')\n",
    "len(train_df)"
   ]
  },
  {
   "cell_type": "code",
   "execution_count": 3,
   "metadata": {},
   "outputs": [
    {
     "data": {
      "text/html": [
       "<div>\n",
       "<style scoped>\n",
       "    .dataframe tbody tr th:only-of-type {\n",
       "        vertical-align: middle;\n",
       "    }\n",
       "\n",
       "    .dataframe tbody tr th {\n",
       "        vertical-align: top;\n",
       "    }\n",
       "\n",
       "    .dataframe thead th {\n",
       "        text-align: right;\n",
       "    }\n",
       "</style>\n",
       "<table border=\"1\" class=\"dataframe\">\n",
       "  <thead>\n",
       "    <tr style=\"text-align: right;\">\n",
       "      <th></th>\n",
       "      <th>enrollment_id</th>\n",
       "      <th>username</th>\n",
       "      <th>course_id</th>\n",
       "    </tr>\n",
       "  </thead>\n",
       "  <tbody>\n",
       "    <tr>\n",
       "      <th>0</th>\n",
       "      <td>1</td>\n",
       "      <td>9Uee7oEuuMmgPx2IzPfFkWgkHZyPbWr0</td>\n",
       "      <td>DPnLzkJJqOOPRJfBxIHbQEERiYHu5ila</td>\n",
       "    </tr>\n",
       "    <tr>\n",
       "      <th>1</th>\n",
       "      <td>4</td>\n",
       "      <td>FIHlppZyoq8muPbdVxS44gfvceX9zvU7</td>\n",
       "      <td>DPnLzkJJqOOPRJfBxIHbQEERiYHu5ila</td>\n",
       "    </tr>\n",
       "    <tr>\n",
       "      <th>2</th>\n",
       "      <td>5</td>\n",
       "      <td>p1Mp7WkVfzUijX0peVQKSHbgd5pXyl4c</td>\n",
       "      <td>7GRhBDsirIGkRZBtSMEzNTyDr2JQm4xx</td>\n",
       "    </tr>\n",
       "    <tr>\n",
       "      <th>3</th>\n",
       "      <td>7</td>\n",
       "      <td>I1KwJ6EdCZnEPLfC8Q7yWpIkLOHn7h02</td>\n",
       "      <td>7GRhBDsirIGkRZBtSMEzNTyDr2JQm4xx</td>\n",
       "    </tr>\n",
       "    <tr>\n",
       "      <th>4</th>\n",
       "      <td>13</td>\n",
       "      <td>hDbSkVrFRj9Ryk3c5E1JYJQLyxm4jLRb</td>\n",
       "      <td>5X6FeZozNMgE2VRi3MJYjkkFK8SETtu2</td>\n",
       "    </tr>\n",
       "  </tbody>\n",
       "</table>\n",
       "</div>"
      ],
      "text/plain": [
       "   enrollment_id                          username  \\\n",
       "0              1  9Uee7oEuuMmgPx2IzPfFkWgkHZyPbWr0   \n",
       "1              4  FIHlppZyoq8muPbdVxS44gfvceX9zvU7   \n",
       "2              5  p1Mp7WkVfzUijX0peVQKSHbgd5pXyl4c   \n",
       "3              7  I1KwJ6EdCZnEPLfC8Q7yWpIkLOHn7h02   \n",
       "4             13  hDbSkVrFRj9Ryk3c5E1JYJQLyxm4jLRb   \n",
       "\n",
       "                          course_id  \n",
       "0  DPnLzkJJqOOPRJfBxIHbQEERiYHu5ila  \n",
       "1  DPnLzkJJqOOPRJfBxIHbQEERiYHu5ila  \n",
       "2  7GRhBDsirIGkRZBtSMEzNTyDr2JQm4xx  \n",
       "3  7GRhBDsirIGkRZBtSMEzNTyDr2JQm4xx  \n",
       "4  5X6FeZozNMgE2VRi3MJYjkkFK8SETtu2  "
      ]
     },
     "execution_count": 3,
     "metadata": {},
     "output_type": "execute_result"
    }
   ],
   "source": [
    "train_df.head()"
   ]
  },
  {
   "cell_type": "code",
   "execution_count": 4,
   "metadata": {},
   "outputs": [
    {
     "data": {
      "text/plain": [
       "(array(['9Uee7oEuuMmgPx2IzPfFkWgkHZyPbWr0',\n",
       "        'FIHlppZyoq8muPbdVxS44gfvceX9zvU7',\n",
       "        'p1Mp7WkVfzUijX0peVQKSHbgd5pXyl4c',\n",
       "        'I1KwJ6EdCZnEPLfC8Q7yWpIkLOHn7h02',\n",
       "        'hDbSkVrFRj9Ryk3c5E1JYJQLyxm4jLRb',\n",
       "        'XOhIczT5nEeO52jMq1vN7QziDk8L2jnI',\n",
       "        'b0Hk5D3sJulvyuC4JEm5kvAvOLAxswgQ',\n",
       "        'BoK7CAUaCFqnLgmWLxeOHg8YkXUSeCtc',\n",
       "        'dPBUV0FPFjTZZK079rPAeq0WXhW4DUkF',\n",
       "        'vcAiZWU2sfUKO0mnfjDwm0iTzACrKr78'], dtype=object), 53870)"
      ]
     },
     "execution_count": 4,
     "metadata": {},
     "output_type": "execute_result"
    }
   ],
   "source": [
    "username = train_df.username.unique()\n",
    "username[:10], len(username)"
   ]
  },
  {
   "cell_type": "code",
   "execution_count": 5,
   "metadata": {},
   "outputs": [
    {
     "data": {
      "text/plain": [
       "53870"
      ]
     },
     "execution_count": 5,
     "metadata": {},
     "output_type": "execute_result"
    }
   ],
   "source": [
    "new_username = dict({username[i]: 'user{}'.format(i+1) for i in range(len(username))})\n",
    "len(new_username)"
   ]
  },
  {
   "cell_type": "code",
   "execution_count": 6,
   "metadata": {},
   "outputs": [
    {
     "data": {
      "text/html": [
       "<div>\n",
       "<style scoped>\n",
       "    .dataframe tbody tr th:only-of-type {\n",
       "        vertical-align: middle;\n",
       "    }\n",
       "\n",
       "    .dataframe tbody tr th {\n",
       "        vertical-align: top;\n",
       "    }\n",
       "\n",
       "    .dataframe thead th {\n",
       "        text-align: right;\n",
       "    }\n",
       "</style>\n",
       "<table border=\"1\" class=\"dataframe\">\n",
       "  <thead>\n",
       "    <tr style=\"text-align: right;\">\n",
       "      <th></th>\n",
       "      <th>enrollment_id</th>\n",
       "      <th>username</th>\n",
       "      <th>course_id</th>\n",
       "    </tr>\n",
       "  </thead>\n",
       "  <tbody>\n",
       "    <tr>\n",
       "      <th>0</th>\n",
       "      <td>1</td>\n",
       "      <td>user1</td>\n",
       "      <td>DPnLzkJJqOOPRJfBxIHbQEERiYHu5ila</td>\n",
       "    </tr>\n",
       "    <tr>\n",
       "      <th>1</th>\n",
       "      <td>4</td>\n",
       "      <td>user2</td>\n",
       "      <td>DPnLzkJJqOOPRJfBxIHbQEERiYHu5ila</td>\n",
       "    </tr>\n",
       "    <tr>\n",
       "      <th>2</th>\n",
       "      <td>5</td>\n",
       "      <td>user3</td>\n",
       "      <td>7GRhBDsirIGkRZBtSMEzNTyDr2JQm4xx</td>\n",
       "    </tr>\n",
       "    <tr>\n",
       "      <th>3</th>\n",
       "      <td>7</td>\n",
       "      <td>user4</td>\n",
       "      <td>7GRhBDsirIGkRZBtSMEzNTyDr2JQm4xx</td>\n",
       "    </tr>\n",
       "    <tr>\n",
       "      <th>4</th>\n",
       "      <td>13</td>\n",
       "      <td>user5</td>\n",
       "      <td>5X6FeZozNMgE2VRi3MJYjkkFK8SETtu2</td>\n",
       "    </tr>\n",
       "  </tbody>\n",
       "</table>\n",
       "</div>"
      ],
      "text/plain": [
       "   enrollment_id username                         course_id\n",
       "0              1    user1  DPnLzkJJqOOPRJfBxIHbQEERiYHu5ila\n",
       "1              4    user2  DPnLzkJJqOOPRJfBxIHbQEERiYHu5ila\n",
       "2              5    user3  7GRhBDsirIGkRZBtSMEzNTyDr2JQm4xx\n",
       "3              7    user4  7GRhBDsirIGkRZBtSMEzNTyDr2JQm4xx\n",
       "4             13    user5  5X6FeZozNMgE2VRi3MJYjkkFK8SETtu2"
      ]
     },
     "execution_count": 6,
     "metadata": {},
     "output_type": "execute_result"
    }
   ],
   "source": [
    "train_df['username'] = train_df['username'].apply(lambda u : new_username[u])\n",
    "train_df.head()"
   ]
  },
  {
   "cell_type": "code",
   "execution_count": 7,
   "metadata": {},
   "outputs": [
    {
     "data": {
      "text/plain": [
       "(array(['DPnLzkJJqOOPRJfBxIHbQEERiYHu5ila',\n",
       "        '7GRhBDsirIGkRZBtSMEzNTyDr2JQm4xx',\n",
       "        '5X6FeZozNMgE2VRi3MJYjkkFK8SETtu2',\n",
       "        'AXUJZGmZ0xaYSWazu8RQ1G5c76ECT1Kd',\n",
       "        'TAYxxh39I2LZnftBpL0LfF2NxzrCKpkx',\n",
       "        'KHPw0gmg1Ad3V07TqRpyBzA8mRjj7mkt',\n",
       "        'fbPkOYLVPtPgIt0MxizjfFJov3JbHyAi',\n",
       "        '81UZtt1JJwBFYMj5u38WNKCSVA4IJSDv',\n",
       "        '5Gyp41oLVo7Gg7vF4vpmggWP5MU70QO6',\n",
       "        'Er0RFawC4sHagDmmQZcBGBrzamLQcblZ'], dtype=object), 39)"
      ]
     },
     "execution_count": 7,
     "metadata": {},
     "output_type": "execute_result"
    }
   ],
   "source": [
    "course_id = train_df.course_id.unique()\n",
    "course_id[:10], len(course_id)"
   ]
  },
  {
   "cell_type": "code",
   "execution_count": 8,
   "metadata": {},
   "outputs": [
    {
     "data": {
      "text/plain": [
       "39"
      ]
     },
     "execution_count": 8,
     "metadata": {},
     "output_type": "execute_result"
    }
   ],
   "source": [
    "new_course_id = dict({ course_id[i]:'course{}'.format(i+1) for i in range(len(course_id))})\n",
    "len(new_course_id)"
   ]
  },
  {
   "cell_type": "code",
   "execution_count": 9,
   "metadata": {
    "scrolled": true
   },
   "outputs": [
    {
     "data": {
      "text/html": [
       "<div>\n",
       "<style scoped>\n",
       "    .dataframe tbody tr th:only-of-type {\n",
       "        vertical-align: middle;\n",
       "    }\n",
       "\n",
       "    .dataframe tbody tr th {\n",
       "        vertical-align: top;\n",
       "    }\n",
       "\n",
       "    .dataframe thead th {\n",
       "        text-align: right;\n",
       "    }\n",
       "</style>\n",
       "<table border=\"1\" class=\"dataframe\">\n",
       "  <thead>\n",
       "    <tr style=\"text-align: right;\">\n",
       "      <th></th>\n",
       "      <th>enrollment_id</th>\n",
       "      <th>username</th>\n",
       "      <th>course_id</th>\n",
       "    </tr>\n",
       "  </thead>\n",
       "  <tbody>\n",
       "    <tr>\n",
       "      <th>0</th>\n",
       "      <td>1</td>\n",
       "      <td>user1</td>\n",
       "      <td>course1</td>\n",
       "    </tr>\n",
       "    <tr>\n",
       "      <th>1</th>\n",
       "      <td>4</td>\n",
       "      <td>user2</td>\n",
       "      <td>course1</td>\n",
       "    </tr>\n",
       "    <tr>\n",
       "      <th>2</th>\n",
       "      <td>5</td>\n",
       "      <td>user3</td>\n",
       "      <td>course2</td>\n",
       "    </tr>\n",
       "    <tr>\n",
       "      <th>3</th>\n",
       "      <td>7</td>\n",
       "      <td>user4</td>\n",
       "      <td>course2</td>\n",
       "    </tr>\n",
       "    <tr>\n",
       "      <th>4</th>\n",
       "      <td>13</td>\n",
       "      <td>user5</td>\n",
       "      <td>course3</td>\n",
       "    </tr>\n",
       "  </tbody>\n",
       "</table>\n",
       "</div>"
      ],
      "text/plain": [
       "   enrollment_id username course_id\n",
       "0              1    user1   course1\n",
       "1              4    user2   course1\n",
       "2              5    user3   course2\n",
       "3              7    user4   course2\n",
       "4             13    user5   course3"
      ]
     },
     "execution_count": 9,
     "metadata": {},
     "output_type": "execute_result"
    }
   ],
   "source": [
    "train_df['course_id'] = train_df['course_id'].apply(lambda i : new_course_id[i])\n",
    "train_df.head()"
   ]
  },
  {
   "cell_type": "markdown",
   "metadata": {},
   "source": [
    "## Save train df in matrix type to input CF"
   ]
  },
  {
   "cell_type": "code",
   "execution_count": 10,
   "metadata": {},
   "outputs": [
    {
     "data": {
      "text/plain": [
       "list"
      ]
     },
     "execution_count": 10,
     "metadata": {},
     "output_type": "execute_result"
    }
   ],
   "source": [
    "type(list(new_username.values()))"
   ]
  },
  {
   "cell_type": "code",
   "execution_count": 11,
   "metadata": {},
   "outputs": [],
   "source": [
    "train_data = {}\n",
    "train_data['user'] = list(new_username.values())\n",
    "for course_id in new_course_id.values():\n",
    "    train_data[course_id] = np.zeros(len(list(new_username.values())))"
   ]
  },
  {
   "cell_type": "code",
   "execution_count": 12,
   "metadata": {},
   "outputs": [],
   "source": [
    "for index, row in train_df.iterrows():\n",
    "    c_idx = train_data['user'].index(row['username'])\n",
    "    train_data[row['course_id']][c_idx] = 1"
   ]
  },
  {
   "cell_type": "code",
   "execution_count": 13,
   "metadata": {},
   "outputs": [],
   "source": [
    "train_data_df = pd.DataFrame(train_data, columns= ['user'] + list(new_course_id.values()))\n",
    "train_data_df.to_csv('./enroll_train.csv', index = False, header=True)"
   ]
  },
  {
   "cell_type": "markdown",
   "metadata": {},
   "source": [
    "## Test df process"
   ]
  },
  {
   "cell_type": "code",
   "execution_count": 14,
   "metadata": {},
   "outputs": [
    {
     "data": {
      "text/plain": [
       "24013"
      ]
     },
     "execution_count": 14,
     "metadata": {},
     "output_type": "execute_result"
    }
   ],
   "source": [
    "# Total records\n",
    "test_df = pd.read_csv('./test/enrollment_test.csv')\n",
    "len(test_df)"
   ]
  },
  {
   "cell_type": "code",
   "execution_count": 15,
   "metadata": {},
   "outputs": [
    {
     "data": {
      "text/html": [
       "<div>\n",
       "<style scoped>\n",
       "    .dataframe tbody tr th:only-of-type {\n",
       "        vertical-align: middle;\n",
       "    }\n",
       "\n",
       "    .dataframe tbody tr th {\n",
       "        vertical-align: top;\n",
       "    }\n",
       "\n",
       "    .dataframe thead th {\n",
       "        text-align: right;\n",
       "    }\n",
       "</style>\n",
       "<table border=\"1\" class=\"dataframe\">\n",
       "  <thead>\n",
       "    <tr style=\"text-align: right;\">\n",
       "      <th></th>\n",
       "      <th>enrollment_id</th>\n",
       "      <th>username</th>\n",
       "      <th>course_id</th>\n",
       "    </tr>\n",
       "  </thead>\n",
       "  <tbody>\n",
       "    <tr>\n",
       "      <th>0</th>\n",
       "      <td>30</td>\n",
       "      <td>JPkczYOxyoDZBjwZAAQHmjpSvnPQzwV0</td>\n",
       "      <td>DPnLzkJJqOOPRJfBxIHbQEERiYHu5ila</td>\n",
       "    </tr>\n",
       "    <tr>\n",
       "      <th>1</th>\n",
       "      <td>31</td>\n",
       "      <td>6mzGZyDGSLMvgMQyFwXmz47ojS1kH3j6</td>\n",
       "      <td>DPnLzkJJqOOPRJfBxIHbQEERiYHu5ila</td>\n",
       "    </tr>\n",
       "    <tr>\n",
       "      <th>2</th>\n",
       "      <td>45</td>\n",
       "      <td>5Tz6BGN7p1lkmdoopAY1Z5ufYTrUsi9E</td>\n",
       "      <td>7GRhBDsirIGkRZBtSMEzNTyDr2JQm4xx</td>\n",
       "    </tr>\n",
       "    <tr>\n",
       "      <th>3</th>\n",
       "      <td>48</td>\n",
       "      <td>1ELMItXjpijnCZU4WKxvrVri8AjkR2gf</td>\n",
       "      <td>AXUJZGmZ0xaYSWazu8RQ1G5c76ECT1Kd</td>\n",
       "    </tr>\n",
       "    <tr>\n",
       "      <th>4</th>\n",
       "      <td>50</td>\n",
       "      <td>LnNj9zDI8D38ixGOYTIjTH2iF5m36v9S</td>\n",
       "      <td>7GRhBDsirIGkRZBtSMEzNTyDr2JQm4xx</td>\n",
       "    </tr>\n",
       "  </tbody>\n",
       "</table>\n",
       "</div>"
      ],
      "text/plain": [
       "   enrollment_id                          username  \\\n",
       "0             30  JPkczYOxyoDZBjwZAAQHmjpSvnPQzwV0   \n",
       "1             31  6mzGZyDGSLMvgMQyFwXmz47ojS1kH3j6   \n",
       "2             45  5Tz6BGN7p1lkmdoopAY1Z5ufYTrUsi9E   \n",
       "3             48  1ELMItXjpijnCZU4WKxvrVri8AjkR2gf   \n",
       "4             50  LnNj9zDI8D38ixGOYTIjTH2iF5m36v9S   \n",
       "\n",
       "                          course_id  \n",
       "0  DPnLzkJJqOOPRJfBxIHbQEERiYHu5ila  \n",
       "1  DPnLzkJJqOOPRJfBxIHbQEERiYHu5ila  \n",
       "2  7GRhBDsirIGkRZBtSMEzNTyDr2JQm4xx  \n",
       "3  AXUJZGmZ0xaYSWazu8RQ1G5c76ECT1Kd  \n",
       "4  7GRhBDsirIGkRZBtSMEzNTyDr2JQm4xx  "
      ]
     },
     "execution_count": 15,
     "metadata": {},
     "output_type": "execute_result"
    }
   ],
   "source": [
    "test_df.head()"
   ]
  },
  {
   "cell_type": "code",
   "execution_count": 16,
   "metadata": {},
   "outputs": [
    {
     "data": {
      "text/plain": [
       "39"
      ]
     },
     "execution_count": 16,
     "metadata": {},
     "output_type": "execute_result"
    }
   ],
   "source": [
    "len(test_df.course_id.unique())"
   ]
  },
  {
   "cell_type": "code",
   "execution_count": 17,
   "metadata": {},
   "outputs": [
    {
     "data": {
      "text/plain": [
       "10081"
      ]
     },
     "execution_count": 17,
     "metadata": {},
     "output_type": "execute_result"
    }
   ],
   "source": [
    "test_df = test_df[test_df['username'].isin(username)] # filter all user existed in train's username\n",
    "len(test_df)"
   ]
  },
  {
   "cell_type": "code",
   "execution_count": 18,
   "metadata": {},
   "outputs": [
    {
     "data": {
      "text/html": [
       "<div>\n",
       "<style scoped>\n",
       "    .dataframe tbody tr th:only-of-type {\n",
       "        vertical-align: middle;\n",
       "    }\n",
       "\n",
       "    .dataframe tbody tr th {\n",
       "        vertical-align: top;\n",
       "    }\n",
       "\n",
       "    .dataframe thead th {\n",
       "        text-align: right;\n",
       "    }\n",
       "</style>\n",
       "<table border=\"1\" class=\"dataframe\">\n",
       "  <thead>\n",
       "    <tr style=\"text-align: right;\">\n",
       "      <th></th>\n",
       "      <th>enrollment_id</th>\n",
       "      <th>username</th>\n",
       "      <th>course_id</th>\n",
       "      <th>idx</th>\n",
       "    </tr>\n",
       "  </thead>\n",
       "  <tbody>\n",
       "    <tr>\n",
       "      <th>1939</th>\n",
       "      <td>16053</td>\n",
       "      <td>user1</td>\n",
       "      <td>course21</td>\n",
       "      <td>1.0</td>\n",
       "    </tr>\n",
       "    <tr>\n",
       "      <th>4263</th>\n",
       "      <td>35452</td>\n",
       "      <td>user4</td>\n",
       "      <td>course39</td>\n",
       "      <td>4.0</td>\n",
       "    </tr>\n",
       "    <tr>\n",
       "      <th>3727</th>\n",
       "      <td>30854</td>\n",
       "      <td>user5</td>\n",
       "      <td>course18</td>\n",
       "      <td>5.0</td>\n",
       "    </tr>\n",
       "    <tr>\n",
       "      <th>2861</th>\n",
       "      <td>23945</td>\n",
       "      <td>user8</td>\n",
       "      <td>course16</td>\n",
       "      <td>8.0</td>\n",
       "    </tr>\n",
       "    <tr>\n",
       "      <th>11626</th>\n",
       "      <td>96430</td>\n",
       "      <td>user14</td>\n",
       "      <td>course33</td>\n",
       "      <td>14.0</td>\n",
       "    </tr>\n",
       "  </tbody>\n",
       "</table>\n",
       "</div>"
      ],
      "text/plain": [
       "       enrollment_id username course_id   idx\n",
       "1939           16053    user1  course21   1.0\n",
       "4263           35452    user4  course39   4.0\n",
       "3727           30854    user5  course18   5.0\n",
       "2861           23945    user8  course16   8.0\n",
       "11626          96430   user14  course33  14.0"
      ]
     },
     "execution_count": 18,
     "metadata": {},
     "output_type": "execute_result"
    }
   ],
   "source": [
    "test_df['username'] = test_df['username'].apply(lambda u : new_username[u])\n",
    "test_df['course_id'] = test_df['course_id'].apply(lambda i : new_course_id[i])\n",
    "test_df['idx'] = test_df.apply(lambda row: row.username.replace('user', ''), axis = 1)\n",
    "\n",
    "test_df['idx'] = test_df['idx'].astype(float)\n",
    "test_df = test_df.sort_values(by=['idx'])\n",
    "test_df.head()"
   ]
  },
  {
   "cell_type": "code",
   "execution_count": 19,
   "metadata": {},
   "outputs": [],
   "source": [
    "test_data_df = pd.DataFrame(test_df, columns= ['username', 'course_id'])\n",
    "test_data_df.to_csv('./enroll_test.csv', index = False, header=True)"
   ]
  }
 ],
 "metadata": {
  "kernelspec": {
   "display_name": "Python 3",
   "language": "python",
   "name": "python3"
  },
  "language_info": {
   "codemirror_mode": {
    "name": "ipython",
    "version": 3
   },
   "file_extension": ".py",
   "mimetype": "text/x-python",
   "name": "python",
   "nbconvert_exporter": "python",
   "pygments_lexer": "ipython3",
   "version": "3.6.9"
  }
 },
 "nbformat": 4,
 "nbformat_minor": 2
}
